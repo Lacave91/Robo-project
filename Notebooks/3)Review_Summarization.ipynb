{
  "cells": [
    {
      "cell_type": "markdown",
      "metadata": {
        "id": "oVUd07Zs8WoK"
      },
      "source": [
        "## **Part - 3 Review Summarization Using Generative AI**\n",
        "Objective: Summarize reviews into articles that recommend the top products for each category.\n",
        "\n",
        "Task: Create a model that generates a short article (like a blog post) for each product category. The output should include:\n",
        "\n",
        "- Top 3 products and key differences between them.\n",
        "- Top complaints for each of those products.\n",
        "- Worst product in the category and why it should be avoided."
      ]
    },
    {
      "cell_type": "markdown",
      "metadata": {
        "id": "Bn6i5Yds8WoR"
      },
      "source": [
        "#### Imports."
      ]
    },
    {
      "cell_type": "code",
      "execution_count": 1,
      "metadata": {
        "id": "FsP-D4AC8WoT"
      },
      "outputs": [],
      "source": [
        "import os\n",
        "import re\n",
        "import json\n",
        "import torch\n",
        "import openai\n",
        "import pandas as pd\n",
        "import numpy as np\n",
        "import seaborn as sns\n",
        "import matplotlib.pyplot as plt\n",
        "import seaborn as sns\n",
        "from dotenv import load_dotenv, find_dotenv\n",
        "import matplotlib.pyplot as plt\n",
        "from transformers import AutoTokenizer, AutoModelForSeq2SeqLM, pipeline, BitsAndBytesConfig,AutoModelForCausalLM\n",
        "\n"
      ]
    },
    {
      "cell_type": "code",
      "execution_count": 2,
      "metadata": {},
      "outputs": [],
      "source": [
        "load_dotenv(find_dotenv())\n",
        "OPENAI_API_KEY = os.getenv(\"OPENAI_API_KEY\")\n",
        "\n",
        "client = openai.OpenAI(api_key=OPENAI_API_KEY)"
      ]
    },
    {
      "cell_type": "markdown",
      "metadata": {
        "id": "5fcy2l3Z8WoW"
      },
      "source": [
        "#### Load the Dataset\n"
      ]
    },
    {
      "cell_type": "code",
      "execution_count": 3,
      "metadata": {
        "colab": {
          "base_uri": "https://localhost:8080/"
        },
        "id": "r42XJx-X8WoW",
        "outputId": "888c9ecc-bb11-4532-ffc8-e8e810302399"
      },
      "outputs": [
        {
          "name": "stdout",
          "output_type": "stream",
          "text": [
            "<class 'pandas.core.frame.DataFrame'>\n",
            "RangeIndex: 59046 entries, 0 to 59045\n",
            "Data columns (total 5 columns):\n",
            " #   Column          Non-Null Count  Dtype  \n",
            "---  ------          --------------  -----  \n",
            " 0   name            59046 non-null  object \n",
            " 1   cluster_name    59046 non-null  object \n",
            " 2   review          59046 non-null  object \n",
            " 3   reviews.rating  59046 non-null  float64\n",
            " 4   sentiment       59046 non-null  object \n",
            "dtypes: float64(1), object(4)\n",
            "memory usage: 2.3+ MB\n"
          ]
        },
        {
          "data": {
            "text/plain": [
              "(None,\n",
              "                                                 name  \\\n",
              " 0  All-New Kindle Oasis E-reader - 7 High-Resolut...   \n",
              " 1  All-New Kindle Oasis E-reader - 7 High-Resolut...   \n",
              " 2  All-New Kindle Oasis E-reader - 7 High-Resolut...   \n",
              " 3  All-New Kindle Oasis E-reader - 7 High-Resolut...   \n",
              " 4  All-New Kindle Oasis E-reader - 7 High-Resolut...   \n",
              " \n",
              "                      cluster_name  \\\n",
              " 0  E-Readers & Kindle Accessories   \n",
              " 1  E-Readers & Kindle Accessories   \n",
              " 2  E-Readers & Kindle Accessories   \n",
              " 3  E-Readers & Kindle Accessories   \n",
              " 4  E-Readers & Kindle Accessories   \n",
              " \n",
              "                                               review  reviews.rating sentiment  \n",
              " 0  Great device for reading. Definately pricey.. ...             5.0  Positive  \n",
              " 1  Excellent Kindle. The best Kindle ever, for me...             5.0  Positive  \n",
              " 2  Love it. I absolutely love this reader. The bi...             4.0  Positive  \n",
              " 3  Good kindle. I always use it when i read ebook...             5.0  Positive  \n",
              " 4  So much to love, but slippery. Love bigger scr...             4.0  Positive  )"
            ]
          },
          "execution_count": 3,
          "metadata": {},
          "output_type": "execute_result"
        }
      ],
      "source": [
        "# Load the dataset\n",
        "df = pd.read_csv(\"../Dataset/full_reviews_with_clusters.csv\")\n",
        "\n",
        "# Display basic info and the first few rows\n",
        "df.info(), df.head()"
      ]
    },
    {
      "cell_type": "markdown",
      "metadata": {
        "id": "TAgc9to_XS9K"
      },
      "source": [
        "#### Let's do some cleaning on the name of the products to avoid product duplicates.\n"
      ]
    },
    {
      "cell_type": "code",
      "execution_count": 4,
      "metadata": {
        "id": "aRL3zCIxXP4r"
      },
      "outputs": [],
      "source": [
        "def clean_product_name(name):\n",
        "\n",
        "    name = name.lower()\n",
        "    name = re.sub(r'\\b(black|blue|pink|silver|marine|tangerine|magenta|white|red|yellow|green|purple|gold|gray|grey|orange|rose|charcoal|graphite|plum|teal|Aluminum| lavender|coral)\\b', '', name)\n",
        "    name = re.sub(r'\\b(all-new|includes special offers|includes offers| Special Offers| with special offers|with alexa)\\b', '', name)\n",
        "    name = re.sub(r'\\b\\d+\\s?gb\\b', '', name)\n",
        "    name = re.sub(r'\\b(5th|6th|7th|8th|9th|10th|11th|12th)\\s?gen(eration)?\\b', '', name)\n",
        "    name = re.sub(r'\\bwi[-]?fi\\b|\\bdisplay\\b', '', name)\n",
        "    name = re.sub(r'[^\\w\\s\\-\"]+', '', name)\n",
        "    name = re.sub(r'(tablet)[^a-zA-Z]*(tablet)', r'\\1', name)\n",
        "    name = re.sub(r'\\s+', ' ', name)\n",
        "\n",
        "    return name.strip()\n",
        "\n",
        "df['clean_name'] = df['name'].apply(clean_product_name)\n"
      ]
    },
    {
      "cell_type": "markdown",
      "metadata": {
        "id": "j5GsYWh1e_4i"
      },
      "source": [
        "#### Analyze top 3 products per category with a minimun of 50 reviews in each product but lowering the minimum review count if necessary to ensure enough products are included.\n",
        "    "
      ]
    },
    {
      "cell_type": "code",
      "execution_count": 5,
      "metadata": {
        "colab": {
          "base_uri": "https://localhost:8080/",
          "height": 519
        },
        "id": "m5Q9cDtuercJ",
        "outputId": "6e3010a8-baa4-4e6e-9c8a-de4a9539da6d"
      },
      "outputs": [
        {
          "data": {
            "text/html": [
              "<div>\n",
              "<style scoped>\n",
              "    .dataframe tbody tr th:only-of-type {\n",
              "        vertical-align: middle;\n",
              "    }\n",
              "\n",
              "    .dataframe tbody tr th {\n",
              "        vertical-align: top;\n",
              "    }\n",
              "\n",
              "    .dataframe thead th {\n",
              "        text-align: right;\n",
              "    }\n",
              "</style>\n",
              "<table border=\"1\" class=\"dataframe\">\n",
              "  <thead>\n",
              "    <tr style=\"text-align: right;\">\n",
              "      <th></th>\n",
              "      <th>clean_name</th>\n",
              "      <th>review_count</th>\n",
              "      <th>avg_rating</th>\n",
              "      <th>cluster_name</th>\n",
              "    </tr>\n",
              "  </thead>\n",
              "  <tbody>\n",
              "    <tr>\n",
              "      <th>0</th>\n",
              "      <td>amazon kindle paperwhite - ebook reader - - 6 ...</td>\n",
              "      <td>3176</td>\n",
              "      <td>4.755038</td>\n",
              "      <td>E-Readers &amp; Kindle Accessories</td>\n",
              "    </tr>\n",
              "    <tr>\n",
              "      <th>1</th>\n",
              "      <td>amazon 9w powerfast official oem usb charger a...</td>\n",
              "      <td>61</td>\n",
              "      <td>4.737705</td>\n",
              "      <td>E-Readers &amp; Kindle Accessories</td>\n",
              "    </tr>\n",
              "    <tr>\n",
              "      <th>2</th>\n",
              "      <td>kindle voyage e-reader 6 high-resolution 300 p...</td>\n",
              "      <td>1085</td>\n",
              "      <td>4.735484</td>\n",
              "      <td>E-Readers &amp; Kindle Accessories</td>\n",
              "    </tr>\n",
              "    <tr>\n",
              "      <th>3</th>\n",
              "      <td>amazon fire hd 10 tablet special offers - alum...</td>\n",
              "      <td>128</td>\n",
              "      <td>4.773438</td>\n",
              "      <td>Smart Devices &amp; Streaming</td>\n",
              "    </tr>\n",
              "    <tr>\n",
              "      <th>4</th>\n",
              "      <td>amazon - echo plus w built-in hub -</td>\n",
              "      <td>590</td>\n",
              "      <td>4.749153</td>\n",
              "      <td>Smart Devices &amp; Streaming</td>\n",
              "    </tr>\n",
              "    <tr>\n",
              "      <th>5</th>\n",
              "      <td>amazon - amazon tap portable bluetooth and spe...</td>\n",
              "      <td>318</td>\n",
              "      <td>4.729560</td>\n",
              "      <td>Smart Devices &amp; Streaming</td>\n",
              "    </tr>\n",
              "    <tr>\n",
              "      <th>6</th>\n",
              "      <td>amazonbasics aa performance alkaline batteries...</td>\n",
              "      <td>3519</td>\n",
              "      <td>4.425973</td>\n",
              "      <td>Batteries &amp; Accesories mix (AmazonBasics)</td>\n",
              "    </tr>\n",
              "    <tr>\n",
              "      <th>7</th>\n",
              "      <td>amazonbasics aaa performance alkaline batterie...</td>\n",
              "      <td>7754</td>\n",
              "      <td>4.411014</td>\n",
              "      <td>Batteries &amp; Accesories mix (AmazonBasics)</td>\n",
              "    </tr>\n",
              "    <tr>\n",
              "      <th>8</th>\n",
              "      <td>amazonbasics backpack for laptops up to 17-inches</td>\n",
              "      <td>25</td>\n",
              "      <td>4.160000</td>\n",
              "      <td>Batteries &amp; Accesories mix (AmazonBasics)</td>\n",
              "    </tr>\n",
              "    <tr>\n",
              "      <th>9</th>\n",
              "      <td>amazon fire hd 8 8in tablet b018szt3bk 2016 an...</td>\n",
              "      <td>135</td>\n",
              "      <td>4.740741</td>\n",
              "      <td>Tablets</td>\n",
              "    </tr>\n",
              "    <tr>\n",
              "      <th>10</th>\n",
              "      <td>fire hd 8 kids edition tablet 8 hd kid-proof case</td>\n",
              "      <td>526</td>\n",
              "      <td>4.636882</td>\n",
              "      <td>Tablets</td>\n",
              "    </tr>\n",
              "    <tr>\n",
              "      <th>11</th>\n",
              "      <td>amazon fire hd 8 8\" hd tablet</td>\n",
              "      <td>130</td>\n",
              "      <td>4.607692</td>\n",
              "      <td>Tablets</td>\n",
              "    </tr>\n",
              "  </tbody>\n",
              "</table>\n",
              "</div>"
            ],
            "text/plain": [
              "                                           clean_name  review_count  \\\n",
              "0   amazon kindle paperwhite - ebook reader - - 6 ...          3176   \n",
              "1   amazon 9w powerfast official oem usb charger a...            61   \n",
              "2   kindle voyage e-reader 6 high-resolution 300 p...          1085   \n",
              "3   amazon fire hd 10 tablet special offers - alum...           128   \n",
              "4                 amazon - echo plus w built-in hub -           590   \n",
              "5   amazon - amazon tap portable bluetooth and spe...           318   \n",
              "6   amazonbasics aa performance alkaline batteries...          3519   \n",
              "7   amazonbasics aaa performance alkaline batterie...          7754   \n",
              "8   amazonbasics backpack for laptops up to 17-inches            25   \n",
              "9   amazon fire hd 8 8in tablet b018szt3bk 2016 an...           135   \n",
              "10  fire hd 8 kids edition tablet 8 hd kid-proof case           526   \n",
              "11                      amazon fire hd 8 8\" hd tablet           130   \n",
              "\n",
              "    avg_rating                               cluster_name  \n",
              "0     4.755038             E-Readers & Kindle Accessories  \n",
              "1     4.737705             E-Readers & Kindle Accessories  \n",
              "2     4.735484             E-Readers & Kindle Accessories  \n",
              "3     4.773438                  Smart Devices & Streaming  \n",
              "4     4.749153                  Smart Devices & Streaming  \n",
              "5     4.729560                  Smart Devices & Streaming  \n",
              "6     4.425973  Batteries & Accesories mix (AmazonBasics)  \n",
              "7     4.411014  Batteries & Accesories mix (AmazonBasics)  \n",
              "8     4.160000  Batteries & Accesories mix (AmazonBasics)  \n",
              "9     4.740741                                    Tablets  \n",
              "10    4.636882                                    Tablets  \n",
              "11    4.607692                                    Tablets  "
            ]
          },
          "execution_count": 5,
          "metadata": {},
          "output_type": "execute_result"
        }
      ],
      "source": [
        "def get_top_n_products_flexible(df, top_n=3, min_reviews=50, min_allowed=5):\n",
        "\n",
        "    result = []\n",
        "\n",
        "    for category in df['cluster_name'].unique():\n",
        "        df_cat = df[df['cluster_name'] == category]\n",
        "\n",
        "        product_stats = df_cat.groupby('clean_name').agg(\n",
        "            review_count=('review', 'count'),\n",
        "            avg_rating=('reviews.rating', 'mean')\n",
        "        ).reset_index()\n",
        "\n",
        "        current_threshold = min_reviews\n",
        "        while current_threshold >= min_allowed:\n",
        "            filtered = product_stats[product_stats['review_count'] >= current_threshold]\n",
        "            if len(filtered) >= top_n:\n",
        "                break\n",
        "            current_threshold -= 5\n",
        "\n",
        "        top_products = filtered.sort_values(\n",
        "            by=['avg_rating', 'review_count'], ascending=[False, False]\n",
        "        ).head(top_n)\n",
        "\n",
        "        top_products['cluster_name'] = category  # reattach category label\n",
        "        result.append(top_products)\n",
        "\n",
        "    return pd.concat(result, ignore_index=True)\n",
        "\n",
        "top_3 = get_top_n_products_flexible(df)\n",
        "top_3.head(12)\n"
      ]
    },
    {
      "cell_type": "markdown",
      "metadata": {
        "id": "Phh2YOgih1d9"
      },
      "source": [
        "#### Worst Products by Category. We do the same as before considering the number of reviews"
      ]
    },
    {
      "cell_type": "code",
      "execution_count": 6,
      "metadata": {
        "colab": {
          "base_uri": "https://localhost:8080/",
          "height": 210
        },
        "id": "AUEnOnpSh5xC",
        "outputId": "97cc5a7b-42e6-4cba-9db8-c490d4b1d9de"
      },
      "outputs": [
        {
          "data": {
            "text/html": [
              "<div>\n",
              "<style scoped>\n",
              "    .dataframe tbody tr th:only-of-type {\n",
              "        vertical-align: middle;\n",
              "    }\n",
              "\n",
              "    .dataframe tbody tr th {\n",
              "        vertical-align: top;\n",
              "    }\n",
              "\n",
              "    .dataframe thead th {\n",
              "        text-align: right;\n",
              "    }\n",
              "</style>\n",
              "<table border=\"1\" class=\"dataframe\">\n",
              "  <thead>\n",
              "    <tr style=\"text-align: right;\">\n",
              "      <th></th>\n",
              "      <th>clean_name</th>\n",
              "      <th>review_count</th>\n",
              "      <th>avg_rating</th>\n",
              "      <th>cluster_name</th>\n",
              "    </tr>\n",
              "  </thead>\n",
              "  <tbody>\n",
              "    <tr>\n",
              "      <th>0</th>\n",
              "      <td>amazon kindle e-reader 6\" 2016</td>\n",
              "      <td>96</td>\n",
              "      <td>4.406250</td>\n",
              "      <td>E-Readers &amp; Kindle Accessories</td>\n",
              "    </tr>\n",
              "    <tr>\n",
              "      <th>1</th>\n",
              "      <td>amazon 5w usb official oem charger and power a...</td>\n",
              "      <td>207</td>\n",
              "      <td>4.458937</td>\n",
              "      <td>Smart Devices &amp; Streaming</td>\n",
              "    </tr>\n",
              "    <tr>\n",
              "      <th>2</th>\n",
              "      <td>amazonbasics aaa performance alkaline batterie...</td>\n",
              "      <td>7754</td>\n",
              "      <td>4.411014</td>\n",
              "      <td>Batteries &amp; Accesories mix (AmazonBasics)</td>\n",
              "    </tr>\n",
              "    <tr>\n",
              "      <th>3</th>\n",
              "      <td>fire tablet 7 -</td>\n",
              "      <td>12363</td>\n",
              "      <td>4.462347</td>\n",
              "      <td>Tablets</td>\n",
              "    </tr>\n",
              "  </tbody>\n",
              "</table>\n",
              "</div>"
            ],
            "text/plain": [
              "                                          clean_name  review_count  \\\n",
              "0                     amazon kindle e-reader 6\" 2016            96   \n",
              "1  amazon 5w usb official oem charger and power a...           207   \n",
              "2  amazonbasics aaa performance alkaline batterie...          7754   \n",
              "3                                    fire tablet 7 -         12363   \n",
              "\n",
              "   avg_rating                               cluster_name  \n",
              "0    4.406250             E-Readers & Kindle Accessories  \n",
              "1    4.458937                  Smart Devices & Streaming  \n",
              "2    4.411014  Batteries & Accesories mix (AmazonBasics)  \n",
              "3    4.462347                                    Tablets  "
            ]
          },
          "execution_count": 6,
          "metadata": {},
          "output_type": "execute_result"
        }
      ],
      "source": [
        "def get_worst_product_flexible(df, min_reviews=50, min_allowed=5):\n",
        "\n",
        "    results = []\n",
        "\n",
        "    for category in df['cluster_name'].unique():\n",
        "        df_cat = df[df['cluster_name'] == category]\n",
        "\n",
        "        product_stats = df_cat.groupby('clean_name').agg(\n",
        "            review_count=('review', 'count'),\n",
        "            avg_rating=('reviews.rating', 'mean')\n",
        "        ).reset_index()\n",
        "\n",
        "        current_threshold = min_reviews\n",
        "        while current_threshold >= min_allowed:\n",
        "            filtered = product_stats[product_stats['review_count'] >= current_threshold]\n",
        "            if not filtered.empty:\n",
        "                break\n",
        "            current_threshold -= 5\n",
        "\n",
        "        if filtered.empty:\n",
        "            continue  # no valid products in this category\n",
        "\n",
        "        worst_product = filtered.sort_values(\n",
        "            by=['avg_rating', 'review_count'], ascending=[True, False]\n",
        "        ).head(1)\n",
        "\n",
        "        worst_product['cluster_name'] = category  # ensure label is present\n",
        "        results.append(worst_product)\n",
        "\n",
        "    return pd.concat(results, ignore_index=True)\n",
        "\n",
        "worst_products = get_worst_product_flexible(df)\n",
        "worst_products.head()"
      ]
    },
    {
      "cell_type": "markdown",
      "metadata": {
        "id": "S-Cln8sAoZfy"
      },
      "source": [
        "#### Prompt Fine-Tuning\n"
      ]
    },
    {
      "cell_type": "markdown",
      "metadata": {
        "id": "7pEWFEL-pEem"
      },
      "source": [
        "We use GPT-3.5 with OpenAI API. High-quality model for:\n",
        "- human-like writing\n",
        "- Summarization, comparisons, blog-style content\n",
        "- Following detailed prompts"
      ]
    },
    {
      "cell_type": "code",
      "execution_count": 7,
      "metadata": {
        "id": "LhnuQYOinB_-"
      },
      "outputs": [],
      "source": [
        "def call_gpt_3_5(system_prompt, user_prompt, model=\"gpt-3.5-turbo\", temperature=0.7, max_tokens=800):\n",
        "    try:\n",
        "        response = client.chat.completions.create(\n",
        "            model=model,\n",
        "            messages=[\n",
        "                {\"role\": \"system\", \"content\": system_prompt},\n",
        "                {\"role\": \"user\", \"content\": user_prompt}\n",
        "            ],\n",
        "            temperature=temperature,\n",
        "            max_tokens=max_tokens\n",
        "        )\n",
        "        return response.choices[0].message.content.strip()\n",
        "    except Exception as e:\n",
        "        print(f\"OpenAI API Error: {e}\")\n",
        "        return None"
      ]
    },
    {
      "cell_type": "markdown",
      "metadata": {
        "id": "OGK7Ryzmtgbl"
      },
      "source": [
        "We make our function skeleton\n",
        "\n",
        "The summarize_category function is responsible for preparing a complete text prompt that will be sent to the language model. It takes in the selected product category, the top 3 products, and the worst product from that category."
      ]
    },
    {
      "cell_type": "code",
      "execution_count": 8,
      "metadata": {
        "id": "u-t7Sir2teVa"
      },
      "outputs": [],
      "source": [
        "def summarize_category(category, df, top_3, worst_products, max_tokens_per_product=1000):\n",
        "    \"\"\"\n",
        "    Generates a blog-style product summary for a given category using GPT-3.5.\n",
        "\n",
        "    Parameters:\n",
        "    - category: name of the cluster/category\n",
        "    - df: full DataFrame with reviews\n",
        "    - top_3: DataFrame of top 3 products per category\n",
        "    - worst_products: DataFrame with worst-rated product per category\n",
        "    - max_tokens_per_product: max characters to include per product review block\n",
        "\n",
        "    Returns:\n",
        "    - GPT-generated summary as markdown-formatted string\n",
        "    \"\"\"\n",
        "\n",
        "    # Instruction prompt\n",
        "    instruction_prompt = f\"\"\"\n",
        "You are a professional product review writer creating a blog-style article for a tech-savvy audience (like The Verge or Wirecutter).\n",
        "\n",
        "Your task is to:\n",
        "- Compare the **top 3 Amazon {category.lower()}s** based on real customer feedback\n",
        "- Include a short, informative paragraph for each product:\n",
        "    - What customers liked\n",
        "    - What customers complained about\n",
        "    - What makes it unique\n",
        "- Add 2 bullet points at the end of each paragraph:\n",
        "    - **Pros**\n",
        "    - **Cons**\n",
        "- Finish with a final paragraph about the **worst-rated {category.lower()}**, including:\n",
        "    - Why it scored lower\n",
        "    - What users complained about\n",
        "    - Why readers should consider avoiding it\n",
        "\n",
        "Write in a clear, helpful, and slightly conversational tone. Format the article using markdown with product names as headings.\n",
        "\n",
        "Here are the reviews:\n",
        "\"\"\"\n",
        "\n",
        "    \n",
        "    review_text = \"\"\n",
        "    top_names = top_3[top_3['cluster_name'] == category]['clean_name'].tolist()\n",
        "    worst_name_row = worst_products[worst_products['cluster_name'] == category]\n",
        "\n",
        "    if worst_name_row.empty:\n",
        "        print(f\"[!] No worst-rated product found for category '{category}'\")\n",
        "        return None\n",
        "\n",
        "    worst_name = worst_name_row['clean_name'].values[0]\n",
        "\n",
        "    for product in top_names + [worst_name]:\n",
        "        product_reviews = df[\n",
        "            (df['cluster_name'] == category) &\n",
        "            (df['clean_name'] == product)\n",
        "        ]['review'].dropna().tolist()\n",
        "\n",
        "        #Use the cleaned product name directly\n",
        "        display_name = product.replace(\"-\", \" \").title()\n",
        "\n",
        "        # Join and truncate review text\n",
        "        combined_reviews = \" \".join(product_reviews)\n",
        "        truncated = combined_reviews[:max_tokens_per_product * 4]  # ~4 characters per token\n",
        "        review_text += f\"\\n\\n## {display_name}\\n\\n{truncated.strip()}\\n\"\n",
        "\n",
        "    # Combine prompt + review block\n",
        "    full_prompt = instruction_prompt + review_text.strip()\n",
        "\n",
        "    return call_gpt_3_5(\n",
        "        system_prompt=\"You are a helpful product review summarizer.\",\n",
        "        user_prompt=full_prompt,\n",
        "        max_tokens=800\n",
        "    )\n",
        "\n"
      ]
    },
    {
      "cell_type": "markdown",
      "metadata": {
        "id": "87U6wcGVSowS"
      },
      "source": [
        "#### Summarize All Categories"
      ]
    },
    {
      "cell_type": "code",
      "execution_count": 9,
      "metadata": {
        "id": "fbDTxjkOSmv1"
      },
      "outputs": [
        {
          "name": "stdout",
          "output_type": "stream",
          "text": [
            "# Amazon Kindle Paperwhite Ebook Reader\n",
            "\n",
            "**What customers liked:** Customers appreciated the lightweight design, adjustable backlight for easy reading in various environments, and the distraction-free ebook reading experience. Many found it great for reading books, manuals, and other materials, with easy setup and cool features like Airplane Mode.\n",
            "\n",
            "**What customers complained about:** Some users expressed disappointment about the lack of a faster charging option and the absence of a cord with the plug, assuming it was included. A few customers also wished for a standard inclusion of the wall charger with the Kindle purchase.\n",
            "\n",
            "**What makes it unique:** The Kindle Paperwhite stands out for its clear display, lightweight design, and focus on providing an optimal reading experience without distractions.\n",
            "\n",
            "- **Pros**\n",
            "  - Lightweight and easy to operate\n",
            "  - Adjustable backlight for night reading\n",
            "- **Cons**\n",
            "  - No faster charging option\n",
            "  - Wall charger not always included with purchase\n",
            "\n",
            "# Amazon 9W Powerfast Official OEM USB Charger And Power Adapter\n",
            "\n",
            "**What customers liked:** Users praised the fast charging capabilities, compatibility with Fire tablets and Kindle e-readers, and the slim, portable design. The convenience of having an extra charger for traveling and the overall value for the price were also highlighted.\n",
            "\n",
            "**What customers complained about:** Some customers were disappointed by the lack of a cord with the plug, assuming it was part of the package. A few users mentioned that the charger did not significantly increase charging speed as expected.\n",
            "\n",
            "**What makes it unique:** This charger stands out for its fast charging functionality, portability, and compatibility with various Kindle devices, making it a convenient accessory for on-the-go users.\n",
            "\n",
            "- **Pros**\n",
            "  - Fast charging for Kindle devices\n",
            "  - Slim and portable design\n",
            "- **Cons**\n",
            "  - Cord not always included\n",
            "  - Charging speed may not be significantly faster\n",
            "\n",
            "# Kindle Voyage E Reader 6 High Resolution 300 PPI\n",
            "\n",
            "**What customers liked:** Customers appreciated the lightweight and easy-to-carry design, high-resolution display, and adaptive built-in light with PagePress sensors. The device was praised for providing a paperback-like reading experience and ease of use.\n",
            "\n",
            "**What customers complained about:** Some users mentioned the manual OS upgrade process and wished for an automatic update feature. A few users found the loading process of books from different stores to Amazon slightly complicated.\n",
            "\n",
            "**What makes it unique:** The Kindle Voyage offers a high-resolution display with adaptive lighting and PagePress sensors for easy navigation, making it a premium choice for readers seeking a versatile e-reader.\n",
            "\n",
            "- **Pros**\n",
            "  - High-resolution display with adaptive lighting\n",
            "  - Lightweight design for easy portability\n",
            "- **Cons**\n",
            "  - Manual OS upgrade process\n",
            "  - Loading books from different stores to Amazon can be complex\n",
            "\n",
            "## Worst-rated E-Reader & Kindle Accessory\n",
            "\n",
            "The **Amazon Kindle E Reader 6\" 2016** received mixed reviews, with some users appreciating its lightweight design and ease of use, while others expressed disappointment over the lack of a backlight feature for reading in the dark. Despite its affordability, some customers found the screen to be too dark and unadjustable, impacting the reading experience negatively. Users who expected a backlit device were let down by the absence of this feature, leading to some returning the product for alternatives like the Kindle Paperwhite.\n",
            "\n",
            "Readers considering this model should be cautious about the lack of a backlight, which may affect nighttime reading and overall visibility in low-light conditions. Additionally, the fixed screen brightness and limited storage capacity could be potential drawbacks for those seeking a more versatile e-reading experience. Consider opting for a model with adjustable lighting and enhanced features for a more satisfying reading experience.\n"
          ]
        }
      ],
      "source": [
        "summary = summarize_category(\n",
        "    category=\"E-Readers & Kindle Accessories\",\n",
        "    df=df,\n",
        "    top_3=top_3,\n",
        "    worst_products=worst_products\n",
        ")\n",
        "\n",
        "print(summary)\n"
      ]
    },
    {
      "cell_type": "code",
      "execution_count": 10,
      "metadata": {},
      "outputs": [
        {
          "name": "stdout",
          "output_type": "stream",
          "text": [
            "# Amazon Fire Hd 10 Tablet Special Offers - Aluminum\n",
            "\n",
            "The Amazon Fire HD 10 Tablet with Special Offers in Aluminum has garnered positive feedback for its fun and entertaining features, making it a great addition to any household. Users appreciate its music-playing capabilities and hands-free commands, especially with the Echo integration. However, some users found the app selection limited and noted that Alexa requires precise wording for queries. One standout feature is its seamless integration with Amazon Prime services.\n",
            "\n",
            "**Pros**\n",
            "- Fun and entertaining features\n",
            "- Hands-free commands\n",
            "\n",
            "**Cons**\n",
            "- Limited app selection\n",
            "- Alexa requires precise wording\n",
            "\n",
            "# Amazon Echo Plus with Built-In Hub\n",
            "\n",
            "The Amazon Echo Plus with Built-In Hub has received praise for its advanced features, with users enjoying its ability to control smart home devices effortlessly. Customers particularly like the sound quality and compatibility with various smart home accessories like Philips Hue bulbs. However, some users found the hub functions less intuitive compared to other brands like Samsung.\n",
            "\n",
            "**Pros**\n",
            "- Advanced smart home control\n",
            "- Excellent sound quality\n",
            "\n",
            "**Cons**\n",
            "- Hub functions need refining\n",
            "- Not as user-friendly as other brands\n",
            "\n",
            "# Amazon Amazon Tap Portable Bluetooth and Speaker\n",
            "\n",
            "The Amazon Tap Portable Bluetooth and Speaker has impressed users with its ease of setup and quality sound output. Customers appreciate the convenience of accessing a wide range of music and entertainment options. While users found the speaker to be of high quality, some noted limitations in connectivity with iPhones. Overall, the Amazon Tap is praised for its user-friendly interface and enjoyable entertainment features.\n",
            "\n",
            "**Pros**\n",
            "- Quality sound output\n",
            "- Easy setup and use\n",
            "\n",
            "**Cons**\n",
            "- Limited connectivity with iPhones\n",
            "- Some limitations in music options\n",
            "\n",
            "## Worst-Rated: Amazon 5W USB Official OEM Charger and Power Adapter\n",
            "\n",
            "The Amazon 5W USB Official OEM Charger and Power Adapter has received criticism for its price point and lack of inclusivity in the packaging. Users have expressed disappointment in the high cost of the adapter, considering it should ideally come as a standard accessory with Kindle devices. Some users found the product overpriced and suggested seeking alternative, more affordable charging options. For readers looking to avoid unnecessary expenses, exploring third-party chargers may be a more cost-effective solution.\n",
            "\n",
            "**Reasons for Lower Rating**\n",
            "- High price for basic functionality\n",
            "- Lack of inclusivity in packaging\n",
            "\n",
            "Consider exploring alternative charging options to avoid unnecessary expenses and seek more budget-friendly solutions.\n"
          ]
        }
      ],
      "source": [
        "summary = summarize_category(\n",
        "    category=\"Smart Devices & Streaming\",\n",
        "    df=df,\n",
        "    top_3=top_3,\n",
        "    worst_products=worst_products\n",
        ")\n",
        "\n",
        "print(summary)"
      ]
    },
    {
      "cell_type": "code",
      "execution_count": 11,
      "metadata": {},
      "outputs": [
        {
          "name": "stdout",
          "output_type": "stream",
          "text": [
            "# AmazonBasics AA Performance Alkaline Batteries 48 Count\n",
            "\n",
            "Customers liked the great value these batteries offer, providing plenty of power at an affordable price point. The quality is comparable to name brands, and users appreciate the cost savings. However, some noted that these batteries may not last as long as higher-priced alternatives. One unique aspect is the extensive range of battery sizes available from AmazonBasics, catering to various needs.\n",
            "\n",
            "**Pros**\n",
            "- Affordable price\n",
            "- Good quality compared to name brands\n",
            "\n",
            "**Cons**\n",
            "- May not last as long as premium brands\n",
            "\n",
            "# AmazonBasics AAA Performance Alkaline Batteries 36 Count\n",
            "\n",
            "Users praised the excellent price point of these AAA batteries and found them to be a great value for powering devices with lower power drain. While they work well for everyday use, some customers complained that these batteries do not last as long as other premium brands. The packaging was noted to be less than convenient, with difficulties in opening and handling. Overall, these batteries offer decent performance at an attractive price.\n",
            "\n",
            "**Pros**\n",
            "- Affordable option for AAA batteries\n",
            "- Good value for lower power devices\n",
            "\n",
            "**Cons**\n",
            "- Packaging can be inconvenient\n",
            "- May not last as long as higher-end brands\n",
            "\n",
            "# AmazonBasics Backpack for Laptops Up to 17 Inches\n",
            "\n",
            "The AmazonBasics Laptop Backpack is a well-constructed and spacious backpack suitable for laptops up to 17 inches. Customers appreciated the sturdy construction and functional design that compares favorably with more expensive brands. The backpack offers ample storage space with multiple compartments and pockets for organization. However, some users found the top handle minimally padded and the interior lining to feel cheap. Despite these minor drawbacks, this backpack provides a great balance of quality and affordability.\n",
            "\n",
            "**Pros**\n",
            "- Well-made and durable construction\n",
            "- Spacious compartments for organization\n",
            "\n",
            "**Cons**\n",
            "- Minimal padding on top handle\n",
            "- Cheap-feeling interior lining\n",
            "\n",
            "## Worst-Rated: AmazonBasics AAA Performance Alkaline Batteries 36 Count\n",
            "\n",
            "The lowest-rated batteries from AmazonBasics faced criticism for their shorter lifespan compared to leading brands. Users reported that these batteries failed earlier than expected and did not match the longevity of premium options. The packaging also received negative feedback for being difficult to handle and open. Considering the dissatisfaction with durability and usability, readers may want to steer clear of these AAA batteries in favor of more reliable alternatives.\n",
            "\n",
            "**Reasons for Lower Score**\n",
            "- Shorter lifespan compared to name brands\n",
            "- Inconvenient packaging and handling difficulties\n"
          ]
        }
      ],
      "source": [
        "summary = summarize_category(\n",
        "    category=\"Batteries & Accesories mix (AmazonBasics)\",\n",
        "    df=df,\n",
        "    top_3=top_3,\n",
        "    worst_products=worst_products\n",
        ")\n",
        "\n",
        "print(summary)"
      ]
    },
    {
      "cell_type": "code",
      "execution_count": 12,
      "metadata": {},
      "outputs": [
        {
          "name": "stdout",
          "output_type": "stream",
          "text": [
            "## Amazon Fire Hd 8 8In Tablet B018Szt3Bk 2016 Android\n",
            "\n",
            "The Amazon Fire HD 8 8-inch tablet received high praise for its fantastic reading experience in dark conditions and lightweight design that makes it easy to hold. Customers appreciated the presence of side buttons for easier page-turning compared to touchscreen-only devices. The Kindle Voyage is lauded for its compactness and user-friendly interface, making it a great e-reader upgrade. However, some users were dissatisfied with the automatic system updates enforced by Amazon without user consent. Despite this, the Kindle Voyage remains a top choice for serious readers.\n",
            "\n",
            "**Pros**\n",
            "- Fantastic reading experience in dark conditions\n",
            "- Lightweight and compact design\n",
            "\n",
            "**Cons**\n",
            "- Automatic system updates without user consent\n",
            "\n",
            "\n",
            "\n",
            "## Fire Hd 8 Kids Edition Tablet 8 Hd Kid Proof Case\n",
            "\n",
            "Parents were delighted with the durability and warranty of the Fire HD 8 Kids Edition tablet, allowing young children to use it without worry. The extended battery life and ample storage capacity were highlighted as beneficial features for long trips or busy days. However, the requirement of a credit card on the account and restrictions on parental controls were noted as frustrating by some users. Despite this, the tablet remains a top choice for parents looking for a robust device for their children.\n",
            "\n",
            "**Pros**\n",
            "- Durable and kid-friendly design\n",
            "- Extended battery life and ample storage capacity\n",
            "\n",
            "**Cons**\n",
            "- Requirement of a credit card on the account\n",
            "\n",
            "\n",
            "\n",
            "## Amazon Fire Hd 8 8\" Hd Tablet\n",
            "\n",
            "Customers praised the Amazon Fire HD 8 8\" tablet for its cost-effective value compared to other brands. The user-friendly interface was highlighted as a major advantage, making it accessible to all users. While the tablet is commended for reading purposes, some users noted limitations in accessing non-Amazon content. The tablet's media capabilities, including Google Play Store access, were well-received along with its impressive sound quality. Despite minor drawbacks like limited RAM and screen quality, the tablet offers great value for its price.\n",
            "\n",
            "**Pros**\n",
            "- Cost-effective value\n",
            "- User-friendly interface\n",
            "\n",
            "**Cons**\n",
            "- Limited RAM for multitasking\n",
            "- Screen quality may not match higher-end devices\n",
            "\n",
            "\n",
            "\n",
            "### Worst-Rated Tablets\n",
            "\n",
            "The Fire Tablet 7 received lower ratings due to its limited functionality beyond e-reading. While suitable for basic reading purposes, users found the device lacking in performance compared to other models. The device's display quality was noted as subpar by some users, impacting the reading experience. The tablet's overall lack of versatility and performance capabilities may deter users seeking a more comprehensive tablet experience, making it a less favorable choice for those looking for a multi-functional device.\n",
            "\n",
            "**Reasons for Lower Rating**\n",
            "- Limited functionality beyond e-reading\n",
            "- Subpar display quality\n",
            "\n",
            "**Consider Avoiding**\n",
            "- Users seeking a more versatile and performance-oriented tablet may find better options elsewhere.\n"
          ]
        }
      ],
      "source": [
        "summary = summarize_category(\n",
        "    category=\"Tablets\",\n",
        "    df=df,\n",
        "    top_3=top_3,\n",
        "    worst_products=worst_products\n",
        ")\n",
        "\n",
        "print(summary)"
      ]
    },
    {
      "cell_type": "markdown",
      "metadata": {},
      "source": [
        "#### Save All Summaries"
      ]
    },
    {
      "cell_type": "code",
      "execution_count": 13,
      "metadata": {},
      "outputs": [
        {
          "name": "stdout",
          "output_type": "stream",
          "text": [
            "📄 Summarizing: E-Readers & Kindle Accessories\n",
            "✅ Saved to summaries_clean\\e-readers_and_kindle_accessories_summary.md\n",
            "📄 Summarizing: Smart Devices & Streaming\n",
            "✅ Saved to summaries_clean\\smart_devices_and_streaming_summary.md\n",
            "📄 Summarizing: Batteries & Accesories mix (AmazonBasics)\n",
            "✅ Saved to summaries_clean\\batteries_and_accesories_mix_amazonbasics_summary.md\n",
            "📄 Summarizing: Tablets\n",
            "✅ Saved to summaries_clean\\tablets_summary.md\n"
          ]
        }
      ],
      "source": [
        "output_dir = \"summaries_clean\"\n",
        "os.makedirs(output_dir, exist_ok=True)\n",
        "\n",
        "summary_results = {}\n",
        "\n",
        "for category in df[\"cluster_name\"].unique():\n",
        "    print(f\"📄 Summarizing: {category}\")\n",
        "    summary = summarize_category(\n",
        "        category=category,\n",
        "        df=df,\n",
        "        top_3=top_3,\n",
        "        worst_products=worst_products\n",
        "    )\n",
        "\n",
        "    if summary:\n",
        "        filename = category.lower().replace(\" \", \"_\").replace(\"&\", \"and\").replace(\"(\", \"\").replace(\")\", \"\") + \"_summary.md\"\n",
        "        filepath = os.path.join(output_dir, filename)\n",
        "        with open(filepath, \"w\", encoding=\"utf-8\") as f:\n",
        "            f.write(summary)\n",
        "        summary_results[category] = filepath\n",
        "        print(f\"✅ Saved to {filepath}\")\n",
        "    else:\n",
        "        print(f\"⚠️ Skipped {category}\")"
      ]
    }
  ],
  "metadata": {
    "accelerator": "GPU",
    "colab": {
      "gpuType": "L4",
      "machine_shape": "hm",
      "provenance": []
    },
    "kernelspec": {
      "display_name": "Python 3",
      "name": "python3"
    },
    "language_info": {
      "codemirror_mode": {
        "name": "ipython",
        "version": 3
      },
      "file_extension": ".py",
      "mimetype": "text/x-python",
      "name": "python",
      "nbconvert_exporter": "python",
      "pygments_lexer": "ipython3",
      "version": "3.13.1"
    }
  },
  "nbformat": 4,
  "nbformat_minor": 0
}
