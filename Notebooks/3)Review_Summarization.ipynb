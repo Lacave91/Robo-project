{
  "cells": [
    {
      "cell_type": "markdown",
      "metadata": {
        "id": "oVUd07Zs8WoK"
      },
      "source": [
        "## **Part - 3 Review Summarization Using Generative AI**\n",
        "Objective: Summarize reviews into articles that recommend the top products for each category.\n",
        "\n",
        "Task: Create a model that generates a short article (like a blog post) for each product category. The output should include:\n",
        "\n",
        "- Top 3 products and key differences between them.\n",
        "- Top complaints for each of those products.\n",
        "- Worst product in the category and why it should be avoided."
      ]
    },
    {
      "cell_type": "code",
      "execution_count": null,
      "metadata": {
        "colab": {
          "base_uri": "https://localhost:8080/"
        },
        "id": "c9aMd2stFuwI",
        "outputId": "4c957405-e3d0-4676-dfd8-a73969f7d0b1"
      },
      "outputs": [],
      "source": [
        "!pip install openai"
      ]
    },
    {
      "cell_type": "code",
      "execution_count": null,
      "metadata": {
        "colab": {
          "base_uri": "https://localhost:8080/"
        },
        "id": "hFYC-XBAIaN2",
        "outputId": "c2c981f9-84b8-4317-aed9-a42d0474c2ed"
      },
      "outputs": [],
      "source": [
        "pip install openai==0.28"
      ]
    },
    {
      "cell_type": "markdown",
      "metadata": {
        "id": "Bn6i5Yds8WoR"
      },
      "source": [
        "#### Imports."
      ]
    },
    {
      "cell_type": "code",
      "execution_count": 19,
      "metadata": {
        "id": "FsP-D4AC8WoT"
      },
      "outputs": [],
      "source": [
        "import os\n",
        "import re\n",
        "import json\n",
        "import torch\n",
        "import openai\n",
        "import pandas as pd\n",
        "import numpy as np\n",
        "import seaborn as sns\n",
        "import matplotlib.pyplot as plt\n",
        "import seaborn as sns\n",
        "from dotenv import load_dotenv, find_dotenv\n",
        "import matplotlib.pyplot as plt\n",
        "from transformers import AutoTokenizer, AutoModelForSeq2SeqLM, pipeline, BitsAndBytesConfig,AutoModelForCausalLM\n",
        "\n"
      ]
    },
    {
      "cell_type": "markdown",
      "metadata": {
        "id": "5fcy2l3Z8WoW"
      },
      "source": [
        "#### Load the Dataset\n"
      ]
    },
    {
      "cell_type": "code",
      "execution_count": null,
      "metadata": {
        "colab": {
          "base_uri": "https://localhost:8080/"
        },
        "id": "r42XJx-X8WoW",
        "outputId": "888c9ecc-bb11-4532-ffc8-e8e810302399"
      },
      "outputs": [
        {
          "name": "stdout",
          "output_type": "stream",
          "text": [
            "<class 'pandas.core.frame.DataFrame'>\n",
            "RangeIndex: 59046 entries, 0 to 59045\n",
            "Data columns (total 5 columns):\n",
            " #   Column          Non-Null Count  Dtype  \n",
            "---  ------          --------------  -----  \n",
            " 0   name            59046 non-null  object \n",
            " 1   cluster_name    59046 non-null  object \n",
            " 2   review          59046 non-null  object \n",
            " 3   reviews.rating  59046 non-null  float64\n",
            " 4   sentiment       59046 non-null  object \n",
            "dtypes: float64(1), object(4)\n",
            "memory usage: 2.3+ MB\n"
          ]
        },
        {
          "data": {
            "text/plain": [
              "(None,\n",
              "                                                 name  \\\n",
              " 0  All-New Kindle Oasis E-reader - 7 High-Resolut...   \n",
              " 1  All-New Kindle Oasis E-reader - 7 High-Resolut...   \n",
              " 2  All-New Kindle Oasis E-reader - 7 High-Resolut...   \n",
              " 3  All-New Kindle Oasis E-reader - 7 High-Resolut...   \n",
              " 4  All-New Kindle Oasis E-reader - 7 High-Resolut...   \n",
              " \n",
              "                      cluster_name  \\\n",
              " 0  E-Readers & Kindle Accessories   \n",
              " 1  E-Readers & Kindle Accessories   \n",
              " 2  E-Readers & Kindle Accessories   \n",
              " 3  E-Readers & Kindle Accessories   \n",
              " 4  E-Readers & Kindle Accessories   \n",
              " \n",
              "                                               review  reviews.rating sentiment  \n",
              " 0  Great device for reading. Definately pricey.. ...             5.0  Positive  \n",
              " 1  Excellent Kindle. The best Kindle ever, for me...             5.0  Positive  \n",
              " 2  Love it. I absolutely love this reader. The bi...             4.0  Positive  \n",
              " 3  Good kindle. I always use it when i read ebook...             5.0  Positive  \n",
              " 4  So much to love, but slippery. Love bigger scr...             4.0  Positive  )"
            ]
          },
          "execution_count": 28,
          "metadata": {},
          "output_type": "execute_result"
        }
      ],
      "source": [
        "# Load the dataset\n",
        "df = pd.read_csv(r\".\\Dataset\\full_reviews_with_clusters.csv\")\n",
        "\n",
        "# Display basic info and the first few rows\n",
        "df.info(), df.head()"
      ]
    },
    {
      "cell_type": "markdown",
      "metadata": {
        "id": "TAgc9to_XS9K"
      },
      "source": [
        "Lets remove the colors of the products to avoid duplkicate products in the set.\n"
      ]
    },
    {
      "cell_type": "code",
      "execution_count": 29,
      "metadata": {
        "id": "aRL3zCIxXP4r"
      },
      "outputs": [],
      "source": [
        "def clean_product_name(name):\n",
        "\n",
        "    name = name.lower()\n",
        "    name = re.sub(r'\\b(black|blue|pink|silver|marine|tangerine|magenta|white|red|yellow|green|purple|gold|gray|grey|orange|rose|charcoal|graphite|plum|teal|lavender|coral)\\b', '', name)\n",
        "    name = re.sub(r'\\b(all-new|includes special offers|includes offers|with special offers|with alexa)\\b', '', name)\n",
        "    name = re.sub(r'\\b\\d+\\s?gb\\b', '', name)\n",
        "    name = re.sub(r'\\b(5th|6th|7th|8th|9th|10th|11th|12th)\\s?gen(eration)?\\b', '', name)\n",
        "    name = re.sub(r'\\bwi[-]?fi\\b|\\bdisplay\\b', '', name)\n",
        "    name = re.sub(r'[^\\w\\s\\-\"]+', '', name)\n",
        "    name = re.sub(r'(tablet)[^a-zA-Z]*(tablet)', r'\\1', name)\n",
        "    name = re.sub(r'\\s+', ' ', name)\n",
        "\n",
        "    return name.strip()\n",
        "\n",
        "df['clean_name'] = df['name'].apply(clean_product_name)\n"
      ]
    },
    {
      "cell_type": "markdown",
      "metadata": {
        "id": "j5GsYWh1e_4i"
      },
      "source": [
        "#### Analyze top 3 products per category."
      ]
    },
    {
      "cell_type": "code",
      "execution_count": 30,
      "metadata": {
        "colab": {
          "base_uri": "https://localhost:8080/",
          "height": 519
        },
        "id": "m5Q9cDtuercJ",
        "outputId": "6e3010a8-baa4-4e6e-9c8a-de4a9539da6d"
      },
      "outputs": [
        {
          "data": {
            "text/html": [
              "<div>\n",
              "<style scoped>\n",
              "    .dataframe tbody tr th:only-of-type {\n",
              "        vertical-align: middle;\n",
              "    }\n",
              "\n",
              "    .dataframe tbody tr th {\n",
              "        vertical-align: top;\n",
              "    }\n",
              "\n",
              "    .dataframe thead th {\n",
              "        text-align: right;\n",
              "    }\n",
              "</style>\n",
              "<table border=\"1\" class=\"dataframe\">\n",
              "  <thead>\n",
              "    <tr style=\"text-align: right;\">\n",
              "      <th></th>\n",
              "      <th>cluster_name</th>\n",
              "      <th>clean_name</th>\n",
              "      <th>review_count</th>\n",
              "      <th>average_rating</th>\n",
              "    </tr>\n",
              "  </thead>\n",
              "  <tbody>\n",
              "    <tr>\n",
              "      <th>3</th>\n",
              "      <td>Batteries &amp; Accesories mix (AmazonBasics)</td>\n",
              "      <td>amazonbasics aa performance alkaline batteries...</td>\n",
              "      <td>3519</td>\n",
              "      <td>4.425973</td>\n",
              "    </tr>\n",
              "    <tr>\n",
              "      <th>4</th>\n",
              "      <td>Batteries &amp; Accesories mix (AmazonBasics)</td>\n",
              "      <td>amazonbasics aaa performance alkaline batterie...</td>\n",
              "      <td>7754</td>\n",
              "      <td>4.411014</td>\n",
              "    </tr>\n",
              "    <tr>\n",
              "      <th>29</th>\n",
              "      <td>E-Readers &amp; Kindle Accessories</td>\n",
              "      <td>amazon kindle paperwhite - ebook reader - - 6 ...</td>\n",
              "      <td>3176</td>\n",
              "      <td>4.755038</td>\n",
              "    </tr>\n",
              "    <tr>\n",
              "      <th>21</th>\n",
              "      <td>E-Readers &amp; Kindle Accessories</td>\n",
              "      <td>amazon 9w powerfast official oem usb charger a...</td>\n",
              "      <td>61</td>\n",
              "      <td>4.737705</td>\n",
              "    </tr>\n",
              "    <tr>\n",
              "      <th>49</th>\n",
              "      <td>E-Readers &amp; Kindle Accessories</td>\n",
              "      <td>kindle voyage e-reader 6 high-resolution 300 p...</td>\n",
              "      <td>1085</td>\n",
              "      <td>4.735484</td>\n",
              "    </tr>\n",
              "    <tr>\n",
              "      <th>61</th>\n",
              "      <td>Smart Devices &amp; Streaming</td>\n",
              "      <td>amazon fire hd 10 tablet special offers - alum...</td>\n",
              "      <td>128</td>\n",
              "      <td>4.773438</td>\n",
              "    </tr>\n",
              "    <tr>\n",
              "      <th>53</th>\n",
              "      <td>Smart Devices &amp; Streaming</td>\n",
              "      <td>amazon - echo plus w built-in hub -</td>\n",
              "      <td>590</td>\n",
              "      <td>4.749153</td>\n",
              "    </tr>\n",
              "    <tr>\n",
              "      <th>52</th>\n",
              "      <td>Smart Devices &amp; Streaming</td>\n",
              "      <td>amazon - amazon tap portable bluetooth and spe...</td>\n",
              "      <td>318</td>\n",
              "      <td>4.729560</td>\n",
              "    </tr>\n",
              "    <tr>\n",
              "      <th>88</th>\n",
              "      <td>Tablets</td>\n",
              "      <td>amazon fire hd 8 8in tablet b018szt3bk 2016 an...</td>\n",
              "      <td>135</td>\n",
              "      <td>4.740741</td>\n",
              "    </tr>\n",
              "    <tr>\n",
              "      <th>93</th>\n",
              "      <td>Tablets</td>\n",
              "      <td>fire hd 8 kids edition tablet 8 hd kid-proof case</td>\n",
              "      <td>526</td>\n",
              "      <td>4.636882</td>\n",
              "    </tr>\n",
              "  </tbody>\n",
              "</table>\n",
              "</div>"
            ],
            "text/plain": [
              "                                 cluster_name  \\\n",
              "3   Batteries & Accesories mix (AmazonBasics)   \n",
              "4   Batteries & Accesories mix (AmazonBasics)   \n",
              "29             E-Readers & Kindle Accessories   \n",
              "21             E-Readers & Kindle Accessories   \n",
              "49             E-Readers & Kindle Accessories   \n",
              "61                  Smart Devices & Streaming   \n",
              "53                  Smart Devices & Streaming   \n",
              "52                  Smart Devices & Streaming   \n",
              "88                                    Tablets   \n",
              "93                                    Tablets   \n",
              "\n",
              "                                           clean_name  review_count  \\\n",
              "3   amazonbasics aa performance alkaline batteries...          3519   \n",
              "4   amazonbasics aaa performance alkaline batterie...          7754   \n",
              "29  amazon kindle paperwhite - ebook reader - - 6 ...          3176   \n",
              "21  amazon 9w powerfast official oem usb charger a...            61   \n",
              "49  kindle voyage e-reader 6 high-resolution 300 p...          1085   \n",
              "61  amazon fire hd 10 tablet special offers - alum...           128   \n",
              "53                amazon - echo plus w built-in hub -           590   \n",
              "52  amazon - amazon tap portable bluetooth and spe...           318   \n",
              "88  amazon fire hd 8 8in tablet b018szt3bk 2016 an...           135   \n",
              "93  fire hd 8 kids edition tablet 8 hd kid-proof case           526   \n",
              "\n",
              "    average_rating  \n",
              "3         4.425973  \n",
              "4         4.411014  \n",
              "29        4.755038  \n",
              "21        4.737705  \n",
              "49        4.735484  \n",
              "61        4.773438  \n",
              "53        4.749153  \n",
              "52        4.729560  \n",
              "88        4.740741  \n",
              "93        4.636882  "
            ]
          },
          "execution_count": 30,
          "metadata": {},
          "output_type": "execute_result"
        }
      ],
      "source": [
        "def get_top_3_products(df, min_reviews=50):\n",
        "    \"\"\"\n",
        "    Returns the top 3 highest-rated products per category, with a minimum number of reviews.\n",
        "    \"\"\"\n",
        "    # Count reviews and average ratings per product\n",
        "    product_stats = df.groupby(['cluster_name', 'clean_name']).agg(\n",
        "        review_count=('review', 'count'),\n",
        "        average_rating=('reviews.rating', 'mean')\n",
        "    ).reset_index()\n",
        "\n",
        "    # Only keep products with enough reviews\n",
        "    filtered = product_stats[product_stats['review_count'] >= min_reviews]\n",
        "\n",
        "    # Sort by category, then by highest rating and most reviews\n",
        "    sorted_products = filtered.sort_values(\n",
        "        by=['cluster_name', 'average_rating', 'review_count'],\n",
        "        ascending=[True, False, False]\n",
        "    )\n",
        "\n",
        "    # Get top 3 per category\n",
        "    top_3 = sorted_products.groupby('cluster_name').head(3)\n",
        "\n",
        "    return top_3\n",
        "\n",
        "top_3 = get_top_3_products(df)\n",
        "top_3.head(10)"
      ]
    },
    {
      "cell_type": "markdown",
      "metadata": {
        "id": "Phh2YOgih1d9"
      },
      "source": [
        "#### Worst Products by Category"
      ]
    },
    {
      "cell_type": "code",
      "execution_count": 25,
      "metadata": {
        "colab": {
          "base_uri": "https://localhost:8080/",
          "height": 210
        },
        "id": "AUEnOnpSh5xC",
        "outputId": "97cc5a7b-42e6-4cba-9db8-c490d4b1d9de"
      },
      "outputs": [
        {
          "data": {
            "application/vnd.google.colaboratory.intrinsic+json": {
              "summary": "{\n  \"name\": \"worst_products\",\n  \"rows\": 4,\n  \"fields\": [\n    {\n      \"column\": \"cluster_name\",\n      \"properties\": {\n        \"dtype\": \"string\",\n        \"num_unique_values\": 4,\n        \"samples\": [\n          \"E-Readers & Kindle Accessories\",\n          \"Tablets\",\n          \"Batteries & Accesories mix (AmazonBasics)\"\n        ],\n        \"semantic_type\": \"\",\n        \"description\": \"\"\n      }\n    },\n    {\n      \"column\": \"clean_name\",\n      \"properties\": {\n        \"dtype\": \"string\",\n        \"num_unique_values\": 4,\n        \"samples\": [\n          \"amazon kindle e-reader 6\\\" 2016\",\n          \"fire tablet 7 -\",\n          \"amazonbasics aaa performance alkaline batteries 36 count\"\n        ],\n        \"semantic_type\": \"\",\n        \"description\": \"\"\n      }\n    },\n    {\n      \"column\": \"review_count\",\n      \"properties\": {\n        \"dtype\": \"number\",\n        \"std\": 6737,\n        \"min\": 96,\n        \"max\": 14095,\n        \"num_unique_values\": 4,\n        \"samples\": [\n          96,\n          14095,\n          7754\n        ],\n        \"semantic_type\": \"\",\n        \"description\": \"\"\n      }\n    },\n    {\n      \"column\": \"average_rating\",\n      \"properties\": {\n        \"dtype\": \"number\",\n        \"std\": 0.032137597306470894,\n        \"min\": 4.40625,\n        \"max\": 4.468605888612983,\n        \"num_unique_values\": 4,\n        \"samples\": [\n          4.40625,\n          4.468605888612983,\n          4.411013670363683\n        ],\n        \"semantic_type\": \"\",\n        \"description\": \"\"\n      }\n    }\n  ]\n}",
              "type": "dataframe",
              "variable_name": "worst_products"
            },
            "text/html": [
              "\n",
              "  <div id=\"df-06e2bd3a-458a-46e9-85ed-bd66db42d6b5\" class=\"colab-df-container\">\n",
              "    <div>\n",
              "<style scoped>\n",
              "    .dataframe tbody tr th:only-of-type {\n",
              "        vertical-align: middle;\n",
              "    }\n",
              "\n",
              "    .dataframe tbody tr th {\n",
              "        vertical-align: top;\n",
              "    }\n",
              "\n",
              "    .dataframe thead th {\n",
              "        text-align: right;\n",
              "    }\n",
              "</style>\n",
              "<table border=\"1\" class=\"dataframe\">\n",
              "  <thead>\n",
              "    <tr style=\"text-align: right;\">\n",
              "      <th></th>\n",
              "      <th>cluster_name</th>\n",
              "      <th>clean_name</th>\n",
              "      <th>review_count</th>\n",
              "      <th>average_rating</th>\n",
              "    </tr>\n",
              "  </thead>\n",
              "  <tbody>\n",
              "    <tr>\n",
              "      <th>4</th>\n",
              "      <td>Batteries &amp; Accesories mix (AmazonBasics)</td>\n",
              "      <td>amazonbasics aaa performance alkaline batterie...</td>\n",
              "      <td>7754</td>\n",
              "      <td>4.411014</td>\n",
              "    </tr>\n",
              "    <tr>\n",
              "      <th>25</th>\n",
              "      <td>E-Readers &amp; Kindle Accessories</td>\n",
              "      <td>amazon kindle e-reader 6\" 2016</td>\n",
              "      <td>96</td>\n",
              "      <td>4.406250</td>\n",
              "    </tr>\n",
              "    <tr>\n",
              "      <th>54</th>\n",
              "      <td>Smart Devices &amp; Streaming</td>\n",
              "      <td>amazon 5w usb official oem charger and power a...</td>\n",
              "      <td>207</td>\n",
              "      <td>4.458937</td>\n",
              "    </tr>\n",
              "    <tr>\n",
              "      <th>97</th>\n",
              "      <td>Tablets</td>\n",
              "      <td>fire tablet 7 -</td>\n",
              "      <td>14095</td>\n",
              "      <td>4.468606</td>\n",
              "    </tr>\n",
              "  </tbody>\n",
              "</table>\n",
              "</div>\n",
              "    <div class=\"colab-df-buttons\">\n",
              "\n",
              "  <div class=\"colab-df-container\">\n",
              "    <button class=\"colab-df-convert\" onclick=\"convertToInteractive('df-06e2bd3a-458a-46e9-85ed-bd66db42d6b5')\"\n",
              "            title=\"Convert this dataframe to an interactive table.\"\n",
              "            style=\"display:none;\">\n",
              "\n",
              "  <svg xmlns=\"http://www.w3.org/2000/svg\" height=\"24px\" viewBox=\"0 -960 960 960\">\n",
              "    <path d=\"M120-120v-720h720v720H120Zm60-500h600v-160H180v160Zm220 220h160v-160H400v160Zm0 220h160v-160H400v160ZM180-400h160v-160H180v160Zm440 0h160v-160H620v160ZM180-180h160v-160H180v160Zm440 0h160v-160H620v160Z\"/>\n",
              "  </svg>\n",
              "    </button>\n",
              "\n",
              "  <style>\n",
              "    .colab-df-container {\n",
              "      display:flex;\n",
              "      gap: 12px;\n",
              "    }\n",
              "\n",
              "    .colab-df-convert {\n",
              "      background-color: #E8F0FE;\n",
              "      border: none;\n",
              "      border-radius: 50%;\n",
              "      cursor: pointer;\n",
              "      display: none;\n",
              "      fill: #1967D2;\n",
              "      height: 32px;\n",
              "      padding: 0 0 0 0;\n",
              "      width: 32px;\n",
              "    }\n",
              "\n",
              "    .colab-df-convert:hover {\n",
              "      background-color: #E2EBFA;\n",
              "      box-shadow: 0px 1px 2px rgba(60, 64, 67, 0.3), 0px 1px 3px 1px rgba(60, 64, 67, 0.15);\n",
              "      fill: #174EA6;\n",
              "    }\n",
              "\n",
              "    .colab-df-buttons div {\n",
              "      margin-bottom: 4px;\n",
              "    }\n",
              "\n",
              "    [theme=dark] .colab-df-convert {\n",
              "      background-color: #3B4455;\n",
              "      fill: #D2E3FC;\n",
              "    }\n",
              "\n",
              "    [theme=dark] .colab-df-convert:hover {\n",
              "      background-color: #434B5C;\n",
              "      box-shadow: 0px 1px 3px 1px rgba(0, 0, 0, 0.15);\n",
              "      filter: drop-shadow(0px 1px 2px rgba(0, 0, 0, 0.3));\n",
              "      fill: #FFFFFF;\n",
              "    }\n",
              "  </style>\n",
              "\n",
              "    <script>\n",
              "      const buttonEl =\n",
              "        document.querySelector('#df-06e2bd3a-458a-46e9-85ed-bd66db42d6b5 button.colab-df-convert');\n",
              "      buttonEl.style.display =\n",
              "        google.colab.kernel.accessAllowed ? 'block' : 'none';\n",
              "\n",
              "      async function convertToInteractive(key) {\n",
              "        const element = document.querySelector('#df-06e2bd3a-458a-46e9-85ed-bd66db42d6b5');\n",
              "        const dataTable =\n",
              "          await google.colab.kernel.invokeFunction('convertToInteractive',\n",
              "                                                    [key], {});\n",
              "        if (!dataTable) return;\n",
              "\n",
              "        const docLinkHtml = 'Like what you see? Visit the ' +\n",
              "          '<a target=\"_blank\" href=https://colab.research.google.com/notebooks/data_table.ipynb>data table notebook</a>'\n",
              "          + ' to learn more about interactive tables.';\n",
              "        element.innerHTML = '';\n",
              "        dataTable['output_type'] = 'display_data';\n",
              "        await google.colab.output.renderOutput(dataTable, element);\n",
              "        const docLink = document.createElement('div');\n",
              "        docLink.innerHTML = docLinkHtml;\n",
              "        element.appendChild(docLink);\n",
              "      }\n",
              "    </script>\n",
              "  </div>\n",
              "\n",
              "\n",
              "<div id=\"df-e8027610-50eb-43b8-939a-42b72484249a\">\n",
              "  <button class=\"colab-df-quickchart\" onclick=\"quickchart('df-e8027610-50eb-43b8-939a-42b72484249a')\"\n",
              "            title=\"Suggest charts\"\n",
              "            style=\"display:none;\">\n",
              "\n",
              "<svg xmlns=\"http://www.w3.org/2000/svg\" height=\"24px\"viewBox=\"0 0 24 24\"\n",
              "     width=\"24px\">\n",
              "    <g>\n",
              "        <path d=\"M19 3H5c-1.1 0-2 .9-2 2v14c0 1.1.9 2 2 2h14c1.1 0 2-.9 2-2V5c0-1.1-.9-2-2-2zM9 17H7v-7h2v7zm4 0h-2V7h2v10zm4 0h-2v-4h2v4z\"/>\n",
              "    </g>\n",
              "</svg>\n",
              "  </button>\n",
              "\n",
              "<style>\n",
              "  .colab-df-quickchart {\n",
              "      --bg-color: #E8F0FE;\n",
              "      --fill-color: #1967D2;\n",
              "      --hover-bg-color: #E2EBFA;\n",
              "      --hover-fill-color: #174EA6;\n",
              "      --disabled-fill-color: #AAA;\n",
              "      --disabled-bg-color: #DDD;\n",
              "  }\n",
              "\n",
              "  [theme=dark] .colab-df-quickchart {\n",
              "      --bg-color: #3B4455;\n",
              "      --fill-color: #D2E3FC;\n",
              "      --hover-bg-color: #434B5C;\n",
              "      --hover-fill-color: #FFFFFF;\n",
              "      --disabled-bg-color: #3B4455;\n",
              "      --disabled-fill-color: #666;\n",
              "  }\n",
              "\n",
              "  .colab-df-quickchart {\n",
              "    background-color: var(--bg-color);\n",
              "    border: none;\n",
              "    border-radius: 50%;\n",
              "    cursor: pointer;\n",
              "    display: none;\n",
              "    fill: var(--fill-color);\n",
              "    height: 32px;\n",
              "    padding: 0;\n",
              "    width: 32px;\n",
              "  }\n",
              "\n",
              "  .colab-df-quickchart:hover {\n",
              "    background-color: var(--hover-bg-color);\n",
              "    box-shadow: 0 1px 2px rgba(60, 64, 67, 0.3), 0 1px 3px 1px rgba(60, 64, 67, 0.15);\n",
              "    fill: var(--button-hover-fill-color);\n",
              "  }\n",
              "\n",
              "  .colab-df-quickchart-complete:disabled,\n",
              "  .colab-df-quickchart-complete:disabled:hover {\n",
              "    background-color: var(--disabled-bg-color);\n",
              "    fill: var(--disabled-fill-color);\n",
              "    box-shadow: none;\n",
              "  }\n",
              "\n",
              "  .colab-df-spinner {\n",
              "    border: 2px solid var(--fill-color);\n",
              "    border-color: transparent;\n",
              "    border-bottom-color: var(--fill-color);\n",
              "    animation:\n",
              "      spin 1s steps(1) infinite;\n",
              "  }\n",
              "\n",
              "  @keyframes spin {\n",
              "    0% {\n",
              "      border-color: transparent;\n",
              "      border-bottom-color: var(--fill-color);\n",
              "      border-left-color: var(--fill-color);\n",
              "    }\n",
              "    20% {\n",
              "      border-color: transparent;\n",
              "      border-left-color: var(--fill-color);\n",
              "      border-top-color: var(--fill-color);\n",
              "    }\n",
              "    30% {\n",
              "      border-color: transparent;\n",
              "      border-left-color: var(--fill-color);\n",
              "      border-top-color: var(--fill-color);\n",
              "      border-right-color: var(--fill-color);\n",
              "    }\n",
              "    40% {\n",
              "      border-color: transparent;\n",
              "      border-right-color: var(--fill-color);\n",
              "      border-top-color: var(--fill-color);\n",
              "    }\n",
              "    60% {\n",
              "      border-color: transparent;\n",
              "      border-right-color: var(--fill-color);\n",
              "    }\n",
              "    80% {\n",
              "      border-color: transparent;\n",
              "      border-right-color: var(--fill-color);\n",
              "      border-bottom-color: var(--fill-color);\n",
              "    }\n",
              "    90% {\n",
              "      border-color: transparent;\n",
              "      border-bottom-color: var(--fill-color);\n",
              "    }\n",
              "  }\n",
              "</style>\n",
              "\n",
              "  <script>\n",
              "    async function quickchart(key) {\n",
              "      const quickchartButtonEl =\n",
              "        document.querySelector('#' + key + ' button');\n",
              "      quickchartButtonEl.disabled = true;  // To prevent multiple clicks.\n",
              "      quickchartButtonEl.classList.add('colab-df-spinner');\n",
              "      try {\n",
              "        const charts = await google.colab.kernel.invokeFunction(\n",
              "            'suggestCharts', [key], {});\n",
              "      } catch (error) {\n",
              "        console.error('Error during call to suggestCharts:', error);\n",
              "      }\n",
              "      quickchartButtonEl.classList.remove('colab-df-spinner');\n",
              "      quickchartButtonEl.classList.add('colab-df-quickchart-complete');\n",
              "    }\n",
              "    (() => {\n",
              "      let quickchartButtonEl =\n",
              "        document.querySelector('#df-e8027610-50eb-43b8-939a-42b72484249a button');\n",
              "      quickchartButtonEl.style.display =\n",
              "        google.colab.kernel.accessAllowed ? 'block' : 'none';\n",
              "    })();\n",
              "  </script>\n",
              "</div>\n",
              "\n",
              "    </div>\n",
              "  </div>\n"
            ],
            "text/plain": [
              "                                 cluster_name  \\\n",
              "4   Batteries & Accesories mix (AmazonBasics)   \n",
              "25             E-Readers & Kindle Accessories   \n",
              "54                  Smart Devices & Streaming   \n",
              "97                                    Tablets   \n",
              "\n",
              "                                           clean_name  review_count  \\\n",
              "4   amazonbasics aaa performance alkaline batterie...          7754   \n",
              "25                     amazon kindle e-reader 6\" 2016            96   \n",
              "54  amazon 5w usb official oem charger and power a...           207   \n",
              "97                                    fire tablet 7 -         14095   \n",
              "\n",
              "    average_rating  \n",
              "4         4.411014  \n",
              "25        4.406250  \n",
              "54        4.458937  \n",
              "97        4.468606  "
            ]
          },
          "execution_count": 25,
          "metadata": {},
          "output_type": "execute_result"
        }
      ],
      "source": [
        "def get_worst_product(df, min_reviews=50):\n",
        "    \"\"\"\n",
        "    Returns the lowest-rated product per category, with a minimum number of reviews.\n",
        "    \"\"\"\n",
        "    # Count reviews and average ratings per product\n",
        "    product_stats = df.groupby(['cluster_name', 'clean_name']).agg(\n",
        "        review_count=('review', 'count'),\n",
        "        average_rating=('reviews.rating', 'mean')\n",
        "    ).reset_index()\n",
        "\n",
        "    # Only keep products with enough reviews\n",
        "    filtered = product_stats[product_stats['review_count'] >= min_reviews]\n",
        "\n",
        "    # Sort by category, then by lowest rating and most reviews\n",
        "    sorted_products = filtered.sort_values(\n",
        "        by=['cluster_name', 'average_rating', 'review_count'],\n",
        "        ascending=[True, True, False]\n",
        "    )\n",
        "\n",
        "    # Get worst product per category\n",
        "    worst = sorted_products.groupby('cluster_name').head(1)\n",
        "\n",
        "    return worst\n",
        "\n",
        "\n",
        "worst_products = get_worst_product(df)\n",
        "worst_products.head()"
      ]
    },
    {
      "cell_type": "markdown",
      "metadata": {
        "id": "S-Cln8sAoZfy"
      },
      "source": [
        "#### Prompt Fine-Tuning\n"
      ]
    },
    {
      "cell_type": "markdown",
      "metadata": {
        "id": "7pEWFEL-pEem"
      },
      "source": [
        "We use GPT-4 with OpenAI API. High-quality model for:\n",
        "- human-like writing\n",
        "- Summarization, comparisons, blog-style content\n",
        "- Following detailed prompts"
      ]
    },
    {
      "cell_type": "code",
      "execution_count": 10,
      "metadata": {
        "id": "LhnuQYOinB_-"
      },
      "outputs": [],
      "source": [
        "def generate_with_gpt4(prompt, model=\"gpt-4\", max_tokens=1000, temperature=0.7):\n",
        "    response = openai.ChatCompletion.create(\n",
        "        model=model,\n",
        "        messages=[\n",
        "            {\"role\": \"system\", \"content\": \"You are a helpful product reviewer.\"},\n",
        "            {\"role\": \"user\", \"content\": prompt}\n",
        "        ],\n",
        "        max_tokens=max_tokens,\n",
        "        temperature=temperature\n",
        "    )\n",
        "    return response['choices'][0]['message']['content'].strip()"
      ]
    },
    {
      "cell_type": "markdown",
      "metadata": {
        "id": "OGK7Ryzmtgbl"
      },
      "source": [
        "We make our function skeleton\n",
        "\n",
        "The run_inference_on_model() function is responsible for preparing a complete text prompt that will be sent to the language model. It takes in the selected product category, the top 3 products, and the worst product from that category"
      ]
    },
    {
      "cell_type": "code",
      "execution_count": 30,
      "metadata": {
        "id": "u-t7Sir2teVa"
      },
      "outputs": [],
      "source": [
        "def summarize_category(category, df, top_3, worst_products, max_tokens_per_product=1000):\n",
        "    # Start with the base instruction prompt\n",
        "    prompt = f\"\"\"\n",
        "You are a professional product review writer creating a blog-style article for a tech-savvy audience (like The Verge or Wirecutter).\n",
        "\n",
        "Your task is to:\n",
        "- Compare the **top 3 Amazon {category.lower()}s** based on real customer feedback\n",
        "- Include a short, informative paragraph for each product:\n",
        "    - What customers liked\n",
        "    - What customers complained about\n",
        "    - What makes it unique\n",
        "- Add 2 bullet points at the end of each paragraph:\n",
        "    - **Pros**\n",
        "    - **Cons**\n",
        "- Finish with a final paragraph about the **worst-rated {category.lower()}**, including:\n",
        "    - Why it scored lower\n",
        "    - What users complained about\n",
        "    - Why readers should consider avoiding it\n",
        "\n",
        "Write in a clear, helpful, and slightly conversational tone. Format the article using markdown with product names as headings.\n",
        "\n",
        "Here are the reviews:\n",
        "\"\"\"\n",
        "\n",
        "    review_text = \"\"\n",
        "\n",
        "    # Get top 3 product names\n",
        "    top_names = top_3[top_3['cluster_name'] == category]['clean_name'].tolist()\n",
        "    worst_name = worst_products[worst_products['cluster_name'] == category]['clean_name'].values[0]\n",
        "\n",
        "    for product in top_names + [worst_name]:\n",
        "        product_reviews = df[\n",
        "            (df['cluster_name'] == category) & (df['clean_name'] == product)\n",
        "        ]['review'].tolist()\n",
        "\n",
        "        if product_reviews:\n",
        "            # Use most common original name\n",
        "            display_name = df[\n",
        "                (df['clean_name'] == product) & (df['cluster_name'] == category)\n",
        "            ]['name'].value_counts().idxmax()\n",
        "        else:\n",
        "            display_name = product.title()\n",
        "\n",
        "        joined = \" \".join(product_reviews)[:max_tokens_per_product * 4]\n",
        "        review_text += f\"\\n\\n## {display_name}\\n\\n{joined.strip()}\\n\"\n",
        "\n",
        "    full_prompt = prompt + review_text.strip()\n",
        "    response = generate_with_gpt4(full_prompt)\n",
        "    return response\n"
      ]
    },
    {
      "cell_type": "code",
      "execution_count": 31,
      "metadata": {
        "colab": {
          "base_uri": "https://localhost:8080/"
        },
        "id": "5Cjjmbnrwt01",
        "outputId": "a5187d19-8a6b-44e8-fa81-0f4f0528b77f"
      },
      "outputs": [
        {
          "name": "stdout",
          "output_type": "stream",
          "text": [
            "# Amazon Fire HD 8 8in Tablet 16gb Black B018szt3bk 6th Gen (2016) Android\n",
            "\n",
            "Many customers praised this tablet for its high-quality reading experience and ease of use, particularly when borrowing books from the library. Users appreciated its lightweight design and convenient side-press buttons for effortless page-turning. However, some customers criticized the automatic system update, wishing that it could be done at their convenience. The Kindle Voyage, as this model is also known, has been described as an improvement on the Paperwhite, offering a seamless and enjoyable reading experience, especially for serious readers.\n",
            "\n",
            "- **Pros**\n",
            "    - Excellent for reading in various light conditions\n",
            "    - Lightweight and easy to hold\n",
            "- **Cons**\n",
            "    - Automatic system update can be inconvenient\n",
            "    - May be a bit pricey for some\n",
            "\n",
            "# All-New Fire HD 8 Kids Edition Tablet, 8 HD Display, 32 GB, Pink Kid-Proof Case\n",
            "\n",
            "On the positive side, the All-New Fire HD 8 Kids Edition has been lauded for its kid-friendly design and extensive library of entertainment and educational content. Parents were particularly impressed with the device's robust warranty and the ability to customize parental controls. However, some found the requirement to have a credit card stored on the account inconvenient. Others noted that the device could be addictive for kids, emphasizing the importance of setting timers for usage.\n",
            "\n",
            "- **Pros**\n",
            "    - Robust warranty and parental controls\n",
            "    - Large library of entertainment and learning content\n",
            "- **Cons**\n",
            "    - Requires a credit card on the account\n",
            "    - Can be addictive for kids\n",
            "\n",
            "# Amazon Fire HD 8 with Alexa (8\" HD Display Tablet)\n",
            "\n",
            "This tablet earned high praise for its user-friendly design, snappy performance, and excellent value for money. Customers were particularly fond of its high-quality speakers and the convenience of having Alexa built-in. However, some users complained about its limitations to just Amazon products and services, and the screen quality was seen as just decent, not exceptional. Some users were also disappointed with the limited selection of cases and screen protectors available for this model.\n",
            "\n",
            "- **Pros**\n",
            "    - High-quality speakers and convenient Alexa integration\n",
            "    - Good value for money\n",
            "- **Cons**\n",
            "    - Limited to Amazon products and services\n",
            "    - Limited selection of cases and screen protectors\n",
            "\n",
            "# Worst-Rated Tablet: Fire Tablet, 7 Display, Wi-Fi, 8 GB - Includes Special Offers, Magenta\n",
            "\n",
            "The Fire Tablet scored lower due to its limited functionality and some customers complaining about its screen quality. While some customers praised it as a decent e-reader, others argued that the screen light could cause discomfort after prolonged reading. This tablet might not be the best choice for those looking for a full-featured tablet computer to use for content creation, serious research, or other work-related tasks. \n",
            "\n",
            "- **Reasons to Avoid**\n",
            "    - Limited functionality compared to other models\n",
            "    - Screen light could cause discomfort after prolonged reading.\n"
          ]
        }
      ],
      "source": [
        "top_3 = get_top_3_products(df)\n",
        "worst_products = get_worst_product(df)\n",
        "\n",
        "category = \"Tablets\"\n",
        "summary = summarize_category(category, df, top_3, worst_products)\n",
        "\n",
        "print(summary)"
      ]
    },
    {
      "cell_type": "markdown",
      "metadata": {
        "id": "87U6wcGVSowS"
      },
      "source": [
        "Summarize All Categories"
      ]
    },
    {
      "cell_type": "code",
      "execution_count": 32,
      "metadata": {
        "id": "fbDTxjkOSmv1"
      },
      "outputs": [],
      "source": [
        "def summarize_all_categories(df, top_3, worst_products, max_tokens_per_product=1000):\n",
        "    \"\"\"\n",
        "    Summarizes all product categories using GPT-4.\n",
        "    Returns a dictionary with category names as keys and summaries as values.\n",
        "    \"\"\"\n",
        "    summaries = {}\n",
        "    categories = df['cluster_name'].unique()\n",
        "\n",
        "    for category in categories:\n",
        "        print(f\" Summarizing category: {category}\")\n",
        "        try:\n",
        "            summary = summarize_category(category, df, top_3, worst_products, max_tokens_per_product)\n",
        "            summaries[category] = summary\n",
        "        except Exception as e:\n",
        "            print(f\" Error summarizing {category}: {e}\")\n",
        "\n",
        "    return summaries\n"
      ]
    },
    {
      "cell_type": "code",
      "execution_count": 33,
      "metadata": {
        "colab": {
          "base_uri": "https://localhost:8080/"
        },
        "id": "GiCybjpqSzwX",
        "outputId": "94134f12-9977-4b0b-c3b3-c43767b45534"
      },
      "outputs": [
        {
          "name": "stdout",
          "output_type": "stream",
          "text": [
            " Summarizing category: E-Readers & Kindle Accessories\n",
            " Summarizing category: Smart Devices & Streaming\n",
            " Summarizing category: Batteries & Accesories mix (AmazonBasics)\n",
            " Summarizing category: Tablets\n"
          ]
        }
      ],
      "source": [
        "top_3 = get_top_3_products(df)\n",
        "worst_products = get_worst_product(df)\n",
        "\n",
        "all_summaries = summarize_all_categories(df, top_3, worst_products)"
      ]
    },
    {
      "cell_type": "markdown",
      "metadata": {
        "id": "Cm1OZmd2UKoz"
      },
      "source": [
        "Save Each Summary to a File"
      ]
    },
    {
      "cell_type": "code",
      "execution_count": 35,
      "metadata": {
        "colab": {
          "base_uri": "https://localhost:8080/"
        },
        "id": "WzzjJdMqUFIh",
        "outputId": "46dd7f0a-3fa4-4c62-89c9-e4ff55e0672a"
      },
      "outputs": [
        {
          "name": "stdout",
          "output_type": "stream",
          "text": [
            "✅ Saved e-readers_&_kindle_accessories_summary.md\n",
            "✅ Saved smart_devices_&_streaming_summary.md\n",
            "✅ Saved batteries_&_accesories_mix_(amazonbasics)_summary.md\n",
            "✅ Saved tablets_summary.md\n"
          ]
        }
      ],
      "source": [
        "for category, summary in all_summaries.items():\n",
        "    filename = category.lower().replace(\" \", \"_\") + \"_summary.md\"\n",
        "    with open(filename, \"w\", encoding=\"utf-8\") as f:\n",
        "        f.write(summary)\n",
        "    print(f\"✅ Saved {filename}\")"
      ]
    }
  ],
  "metadata": {
    "accelerator": "GPU",
    "colab": {
      "gpuType": "L4",
      "machine_shape": "hm",
      "provenance": []
    },
    "kernelspec": {
      "display_name": "Python 3",
      "name": "python3"
    },
    "language_info": {
      "codemirror_mode": {
        "name": "ipython",
        "version": 3
      },
      "file_extension": ".py",
      "mimetype": "text/x-python",
      "name": "python",
      "nbconvert_exporter": "python",
      "pygments_lexer": "ipython3",
      "version": "3.13.1"
    }
  },
  "nbformat": 4,
  "nbformat_minor": 0
}
