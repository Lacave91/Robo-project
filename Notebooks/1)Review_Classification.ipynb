{
  "cells": [
    {
      "cell_type": "markdown",
      "metadata": {
        "id": "ZzsYGgpOevIL"
      },
      "source": [
        "## **Part 1 - Review Classification**\n",
        "\n",
        "- Objective: Classify customer reviews into positive, negative, or neutral categories to help the company improve its products and services.\n",
        "- Task: Create a model for classifying the textual content of reviews into these three categories."
      ]
    },
    {
      "cell_type": "markdown",
      "metadata": {
        "id": "KonMDIjFevIS"
      },
      "source": [
        "#### Imports."
      ]
    },
    {
      "cell_type": "code",
      "execution_count": 1,
      "metadata": {
        "id": "R2gyjHHDevIT",
        "colab": {
          "base_uri": "https://localhost:8080/"
        },
        "outputId": "ed557e63-a2ec-4747-e250-8a470a6cd6e2"
      },
      "outputs": [
        {
          "output_type": "stream",
          "name": "stdout",
          "text": [
            "Collecting transformers==4.18.0\n",
            "  Using cached transformers-4.18.0-py3-none-any.whl.metadata (70 kB)\n",
            "Requirement already satisfied: filelock in /usr/local/lib/python3.11/dist-packages (from transformers==4.18.0) (3.18.0)\n",
            "Requirement already satisfied: huggingface-hub<1.0,>=0.1.0 in /usr/local/lib/python3.11/dist-packages (from transformers==4.18.0) (0.31.2)\n",
            "Requirement already satisfied: numpy>=1.17 in /usr/local/lib/python3.11/dist-packages (from transformers==4.18.0) (2.0.2)\n",
            "Requirement already satisfied: packaging>=20.0 in /usr/local/lib/python3.11/dist-packages (from transformers==4.18.0) (24.2)\n",
            "Requirement already satisfied: pyyaml>=5.1 in /usr/local/lib/python3.11/dist-packages (from transformers==4.18.0) (6.0.2)\n",
            "Requirement already satisfied: regex!=2019.12.17 in /usr/local/lib/python3.11/dist-packages (from transformers==4.18.0) (2024.11.6)\n",
            "Requirement already satisfied: requests in /usr/local/lib/python3.11/dist-packages (from transformers==4.18.0) (2.32.3)\n",
            "Collecting sacremoses (from transformers==4.18.0)\n",
            "  Using cached sacremoses-0.1.1-py3-none-any.whl.metadata (8.3 kB)\n",
            "Collecting tokenizers!=0.11.3,<0.13,>=0.11.1 (from transformers==4.18.0)\n",
            "  Using cached tokenizers-0.12.1.tar.gz (220 kB)\n",
            "  Installing build dependencies ... \u001b[?25l\u001b[?25hdone\n",
            "  Getting requirements to build wheel ... \u001b[?25l\u001b[?25hdone\n",
            "  Preparing metadata (pyproject.toml) ... \u001b[?25l\u001b[?25hdone\n",
            "Requirement already satisfied: tqdm>=4.27 in /usr/local/lib/python3.11/dist-packages (from transformers==4.18.0) (4.67.1)\n",
            "Requirement already satisfied: fsspec>=2023.5.0 in /usr/local/lib/python3.11/dist-packages (from huggingface-hub<1.0,>=0.1.0->transformers==4.18.0) (2025.3.2)\n",
            "Requirement already satisfied: typing-extensions>=3.7.4.3 in /usr/local/lib/python3.11/dist-packages (from huggingface-hub<1.0,>=0.1.0->transformers==4.18.0) (4.13.2)\n",
            "Requirement already satisfied: charset-normalizer<4,>=2 in /usr/local/lib/python3.11/dist-packages (from requests->transformers==4.18.0) (3.4.2)\n",
            "Requirement already satisfied: idna<4,>=2.5 in /usr/local/lib/python3.11/dist-packages (from requests->transformers==4.18.0) (3.10)\n",
            "Requirement already satisfied: urllib3<3,>=1.21.1 in /usr/local/lib/python3.11/dist-packages (from requests->transformers==4.18.0) (2.4.0)\n",
            "Requirement already satisfied: certifi>=2017.4.17 in /usr/local/lib/python3.11/dist-packages (from requests->transformers==4.18.0) (2025.4.26)\n",
            "Requirement already satisfied: click in /usr/local/lib/python3.11/dist-packages (from sacremoses->transformers==4.18.0) (8.2.0)\n",
            "Requirement already satisfied: joblib in /usr/local/lib/python3.11/dist-packages (from sacremoses->transformers==4.18.0) (1.5.0)\n",
            "Using cached transformers-4.18.0-py3-none-any.whl (4.0 MB)\n",
            "Using cached sacremoses-0.1.1-py3-none-any.whl (897 kB)\n",
            "Building wheels for collected packages: tokenizers\n",
            "  \u001b[1;31merror\u001b[0m: \u001b[1msubprocess-exited-with-error\u001b[0m\n",
            "  \n",
            "  \u001b[31m×\u001b[0m \u001b[32mBuilding wheel for tokenizers \u001b[0m\u001b[1;32m(\u001b[0m\u001b[32mpyproject.toml\u001b[0m\u001b[1;32m)\u001b[0m did not run successfully.\n",
            "  \u001b[31m│\u001b[0m exit code: \u001b[1;36m1\u001b[0m\n",
            "  \u001b[31m╰─>\u001b[0m See above for output.\n",
            "  \n",
            "  \u001b[1;35mnote\u001b[0m: This error originates from a subprocess, and is likely not a problem with pip.\n",
            "  Building wheel for tokenizers (pyproject.toml) ... \u001b[?25l\u001b[?25herror\n",
            "\u001b[31m  ERROR: Failed building wheel for tokenizers\u001b[0m\u001b[31m\n",
            "\u001b[0mFailed to build tokenizers\n",
            "\u001b[31mERROR: ERROR: Failed to build installable wheels for some pyproject.toml based projects (tokenizers)\u001b[0m\u001b[31m\n",
            "\u001b[0mRequirement already satisfied: accelerate in /usr/local/lib/python3.11/dist-packages (1.7.0)\n",
            "Requirement already satisfied: numpy<3.0.0,>=1.17 in /usr/local/lib/python3.11/dist-packages (from accelerate) (2.0.2)\n",
            "Requirement already satisfied: packaging>=20.0 in /usr/local/lib/python3.11/dist-packages (from accelerate) (24.2)\n",
            "Requirement already satisfied: psutil in /usr/local/lib/python3.11/dist-packages (from accelerate) (5.9.5)\n",
            "Requirement already satisfied: pyyaml in /usr/local/lib/python3.11/dist-packages (from accelerate) (6.0.2)\n",
            "Requirement already satisfied: torch>=2.0.0 in /usr/local/lib/python3.11/dist-packages (from accelerate) (2.6.0+cu124)\n",
            "Requirement already satisfied: huggingface-hub>=0.21.0 in /usr/local/lib/python3.11/dist-packages (from accelerate) (0.31.2)\n",
            "Requirement already satisfied: safetensors>=0.4.3 in /usr/local/lib/python3.11/dist-packages (from accelerate) (0.5.3)\n",
            "Requirement already satisfied: filelock in /usr/local/lib/python3.11/dist-packages (from huggingface-hub>=0.21.0->accelerate) (3.18.0)\n",
            "Requirement already satisfied: fsspec>=2023.5.0 in /usr/local/lib/python3.11/dist-packages (from huggingface-hub>=0.21.0->accelerate) (2025.3.2)\n",
            "Requirement already satisfied: requests in /usr/local/lib/python3.11/dist-packages (from huggingface-hub>=0.21.0->accelerate) (2.32.3)\n",
            "Requirement already satisfied: tqdm>=4.42.1 in /usr/local/lib/python3.11/dist-packages (from huggingface-hub>=0.21.0->accelerate) (4.67.1)\n",
            "Requirement already satisfied: typing-extensions>=3.7.4.3 in /usr/local/lib/python3.11/dist-packages (from huggingface-hub>=0.21.0->accelerate) (4.13.2)\n",
            "Requirement already satisfied: networkx in /usr/local/lib/python3.11/dist-packages (from torch>=2.0.0->accelerate) (3.4.2)\n",
            "Requirement already satisfied: jinja2 in /usr/local/lib/python3.11/dist-packages (from torch>=2.0.0->accelerate) (3.1.6)\n",
            "Requirement already satisfied: nvidia-cuda-nvrtc-cu12==12.4.127 in /usr/local/lib/python3.11/dist-packages (from torch>=2.0.0->accelerate) (12.4.127)\n",
            "Requirement already satisfied: nvidia-cuda-runtime-cu12==12.4.127 in /usr/local/lib/python3.11/dist-packages (from torch>=2.0.0->accelerate) (12.4.127)\n",
            "Requirement already satisfied: nvidia-cuda-cupti-cu12==12.4.127 in /usr/local/lib/python3.11/dist-packages (from torch>=2.0.0->accelerate) (12.4.127)\n",
            "Requirement already satisfied: nvidia-cudnn-cu12==9.1.0.70 in /usr/local/lib/python3.11/dist-packages (from torch>=2.0.0->accelerate) (9.1.0.70)\n",
            "Requirement already satisfied: nvidia-cublas-cu12==12.4.5.8 in /usr/local/lib/python3.11/dist-packages (from torch>=2.0.0->accelerate) (12.4.5.8)\n",
            "Requirement already satisfied: nvidia-cufft-cu12==11.2.1.3 in /usr/local/lib/python3.11/dist-packages (from torch>=2.0.0->accelerate) (11.2.1.3)\n",
            "Requirement already satisfied: nvidia-curand-cu12==10.3.5.147 in /usr/local/lib/python3.11/dist-packages (from torch>=2.0.0->accelerate) (10.3.5.147)\n",
            "Requirement already satisfied: nvidia-cusolver-cu12==11.6.1.9 in /usr/local/lib/python3.11/dist-packages (from torch>=2.0.0->accelerate) (11.6.1.9)\n",
            "Requirement already satisfied: nvidia-cusparse-cu12==12.3.1.170 in /usr/local/lib/python3.11/dist-packages (from torch>=2.0.0->accelerate) (12.3.1.170)\n",
            "Requirement already satisfied: nvidia-cusparselt-cu12==0.6.2 in /usr/local/lib/python3.11/dist-packages (from torch>=2.0.0->accelerate) (0.6.2)\n",
            "Requirement already satisfied: nvidia-nccl-cu12==2.21.5 in /usr/local/lib/python3.11/dist-packages (from torch>=2.0.0->accelerate) (2.21.5)\n",
            "Requirement already satisfied: nvidia-nvtx-cu12==12.4.127 in /usr/local/lib/python3.11/dist-packages (from torch>=2.0.0->accelerate) (12.4.127)\n",
            "Requirement already satisfied: nvidia-nvjitlink-cu12==12.4.127 in /usr/local/lib/python3.11/dist-packages (from torch>=2.0.0->accelerate) (12.4.127)\n",
            "Requirement already satisfied: triton==3.2.0 in /usr/local/lib/python3.11/dist-packages (from torch>=2.0.0->accelerate) (3.2.0)\n",
            "Requirement already satisfied: sympy==1.13.1 in /usr/local/lib/python3.11/dist-packages (from torch>=2.0.0->accelerate) (1.13.1)\n",
            "Requirement already satisfied: mpmath<1.4,>=1.1.0 in /usr/local/lib/python3.11/dist-packages (from sympy==1.13.1->torch>=2.0.0->accelerate) (1.3.0)\n",
            "Requirement already satisfied: MarkupSafe>=2.0 in /usr/local/lib/python3.11/dist-packages (from jinja2->torch>=2.0.0->accelerate) (3.0.2)\n",
            "Requirement already satisfied: charset-normalizer<4,>=2 in /usr/local/lib/python3.11/dist-packages (from requests->huggingface-hub>=0.21.0->accelerate) (3.4.2)\n",
            "Requirement already satisfied: idna<4,>=2.5 in /usr/local/lib/python3.11/dist-packages (from requests->huggingface-hub>=0.21.0->accelerate) (3.10)\n",
            "Requirement already satisfied: urllib3<3,>=1.21.1 in /usr/local/lib/python3.11/dist-packages (from requests->huggingface-hub>=0.21.0->accelerate) (2.4.0)\n",
            "Requirement already satisfied: certifi>=2017.4.17 in /usr/local/lib/python3.11/dist-packages (from requests->huggingface-hub>=0.21.0->accelerate) (2025.4.26)\n"
          ]
        }
      ],
      "source": [
        "import torch\n",
        "# Install required libraries\n",
        "!pip install transformers==4.18.0\n",
        "!pip install accelerate -U\n",
        "\n",
        "# Import necessary libraries\n",
        "import torch\n",
        "import pandas as pd\n",
        "import numpy as np\n",
        "import seaborn as sns\n",
        "import matplotlib.pyplot as plt\n",
        "\n",
        "from pathlib import Path\n",
        "from sklearn.preprocessing import LabelEncoder\n",
        "from torch.utils.data import DataLoader, Dataset\n",
        "from sklearn.model_selection import train_test_split\n",
        "from sklearn.metrics import accuracy_score, precision_recall_fscore_support,confusion_matrix\n",
        "from transformers import DistilBertTokenizer, DistilBertForSequenceClassification, TrainingArguments, Trainer,EarlyStoppingCallback\n",
        "from transformers.trainer_utils import IntervalStrategy"
      ]
    },
    {
      "cell_type": "markdown",
      "metadata": {
        "id": "eLU3U1qbevIW"
      },
      "source": [
        "#### Load the Dataset."
      ]
    },
    {
      "cell_type": "code",
      "execution_count": 2,
      "metadata": {
        "colab": {
          "base_uri": "https://localhost:8080/",
          "height": 1000
        },
        "id": "wqI2Uc6oevIX",
        "outputId": "ac03006a-40d5-46d8-c8a7-57d92c216ffc"
      },
      "outputs": [
        {
          "output_type": "stream",
          "name": "stdout",
          "text": [
            "Rows/Columns:  (59046, 6)\n",
            "Column Names:  Index(['name', 'brand', 'categories', 'reviews.doRecommend', 'reviews.rating',\n",
            "       'reviews'],\n",
            "      dtype='object')\n"
          ]
        },
        {
          "output_type": "execute_result",
          "data": {
            "text/plain": [
              "                                                name   brand  \\\n",
              "0  All-New Kindle Oasis E-reader - 7 High-Resolut...  Amazon   \n",
              "1  All-New Kindle Oasis E-reader - 7 High-Resolut...  Amazon   \n",
              "2  All-New Kindle Oasis E-reader - 7 High-Resolut...  Amazon   \n",
              "3  All-New Kindle Oasis E-reader - 7 High-Resolut...  Amazon   \n",
              "4  All-New Kindle Oasis E-reader - 7 High-Resolut...  Amazon   \n",
              "5  All-New Kindle Oasis E-reader - 7 High-Resolut...  Amazon   \n",
              "6  All-New Kindle Oasis E-reader - 7 High-Resolut...  Amazon   \n",
              "7  All-New Kindle Oasis E-reader - 7 High-Resolut...  Amazon   \n",
              "8  All-New Kindle Oasis E-reader - 7 High-Resolut...  Amazon   \n",
              "9  All-New Kindle Oasis E-reader - 7 High-Resolut...  Amazon   \n",
              "\n",
              "                                          categories reviews.doRecommend  \\\n",
              "0  Featured Brands,E-Readers & Accessories,EBook ...                True   \n",
              "1  Featured Brands,E-Readers & Accessories,EBook ...                True   \n",
              "2  Featured Brands,E-Readers & Accessories,EBook ...                True   \n",
              "3  Featured Brands,E-Readers & Accessories,EBook ...                True   \n",
              "4  EBook Readers,Tablets,Electronics,Amazon Eread...                True   \n",
              "5  EBook Readers,Tablets,Electronics,Amazon Eread...                True   \n",
              "6  EBook Readers,Tablets,Electronics,Amazon Eread...                True   \n",
              "7  EBook Readers,Tablets,Electronics,Amazon Eread...                True   \n",
              "8  EBook Readers,Tablets,Electronics,Amazon Eread...                True   \n",
              "9  EBook Readers,Tablets,Electronics,Amazon Eread...                True   \n",
              "\n",
              "   reviews.rating                                            reviews  \n",
              "0             5.0  Great device for reading. Definately pricey.. ...  \n",
              "1             5.0  Excellent Kindle. The best Kindle ever, for me...  \n",
              "2             4.0  Love it. I absolutely love this reader. The bi...  \n",
              "3             5.0  Good kindle. I always use it when i read ebook...  \n",
              "4             4.0  So much to love, but slippery. Love bigger scr...  \n",
              "5             4.0  Expensive but nice. I was used to the Kindle 3...  \n",
              "6             4.0  Like it. I love this so far only downside is y...  \n",
              "7             5.0  Love it!. I adore this kindle. I have owned vo...  \n",
              "8             5.0  You get what you pay for. Best reader, super l...  \n",
              "9             5.0  Best Kindle ever..... This is the best Kindle ...  "
            ],
            "text/html": [
              "\n",
              "  <div id=\"df-ea98d674-a295-44c7-9462-c6df84b58076\" class=\"colab-df-container\">\n",
              "    <div>\n",
              "<style scoped>\n",
              "    .dataframe tbody tr th:only-of-type {\n",
              "        vertical-align: middle;\n",
              "    }\n",
              "\n",
              "    .dataframe tbody tr th {\n",
              "        vertical-align: top;\n",
              "    }\n",
              "\n",
              "    .dataframe thead th {\n",
              "        text-align: right;\n",
              "    }\n",
              "</style>\n",
              "<table border=\"1\" class=\"dataframe\">\n",
              "  <thead>\n",
              "    <tr style=\"text-align: right;\">\n",
              "      <th></th>\n",
              "      <th>name</th>\n",
              "      <th>brand</th>\n",
              "      <th>categories</th>\n",
              "      <th>reviews.doRecommend</th>\n",
              "      <th>reviews.rating</th>\n",
              "      <th>reviews</th>\n",
              "    </tr>\n",
              "  </thead>\n",
              "  <tbody>\n",
              "    <tr>\n",
              "      <th>0</th>\n",
              "      <td>All-New Kindle Oasis E-reader - 7 High-Resolut...</td>\n",
              "      <td>Amazon</td>\n",
              "      <td>Featured Brands,E-Readers &amp; Accessories,EBook ...</td>\n",
              "      <td>True</td>\n",
              "      <td>5.0</td>\n",
              "      <td>Great device for reading. Definately pricey.. ...</td>\n",
              "    </tr>\n",
              "    <tr>\n",
              "      <th>1</th>\n",
              "      <td>All-New Kindle Oasis E-reader - 7 High-Resolut...</td>\n",
              "      <td>Amazon</td>\n",
              "      <td>Featured Brands,E-Readers &amp; Accessories,EBook ...</td>\n",
              "      <td>True</td>\n",
              "      <td>5.0</td>\n",
              "      <td>Excellent Kindle. The best Kindle ever, for me...</td>\n",
              "    </tr>\n",
              "    <tr>\n",
              "      <th>2</th>\n",
              "      <td>All-New Kindle Oasis E-reader - 7 High-Resolut...</td>\n",
              "      <td>Amazon</td>\n",
              "      <td>Featured Brands,E-Readers &amp; Accessories,EBook ...</td>\n",
              "      <td>True</td>\n",
              "      <td>4.0</td>\n",
              "      <td>Love it. I absolutely love this reader. The bi...</td>\n",
              "    </tr>\n",
              "    <tr>\n",
              "      <th>3</th>\n",
              "      <td>All-New Kindle Oasis E-reader - 7 High-Resolut...</td>\n",
              "      <td>Amazon</td>\n",
              "      <td>Featured Brands,E-Readers &amp; Accessories,EBook ...</td>\n",
              "      <td>True</td>\n",
              "      <td>5.0</td>\n",
              "      <td>Good kindle. I always use it when i read ebook...</td>\n",
              "    </tr>\n",
              "    <tr>\n",
              "      <th>4</th>\n",
              "      <td>All-New Kindle Oasis E-reader - 7 High-Resolut...</td>\n",
              "      <td>Amazon</td>\n",
              "      <td>EBook Readers,Tablets,Electronics,Amazon Eread...</td>\n",
              "      <td>True</td>\n",
              "      <td>4.0</td>\n",
              "      <td>So much to love, but slippery. Love bigger scr...</td>\n",
              "    </tr>\n",
              "    <tr>\n",
              "      <th>5</th>\n",
              "      <td>All-New Kindle Oasis E-reader - 7 High-Resolut...</td>\n",
              "      <td>Amazon</td>\n",
              "      <td>EBook Readers,Tablets,Electronics,Amazon Eread...</td>\n",
              "      <td>True</td>\n",
              "      <td>4.0</td>\n",
              "      <td>Expensive but nice. I was used to the Kindle 3...</td>\n",
              "    </tr>\n",
              "    <tr>\n",
              "      <th>6</th>\n",
              "      <td>All-New Kindle Oasis E-reader - 7 High-Resolut...</td>\n",
              "      <td>Amazon</td>\n",
              "      <td>EBook Readers,Tablets,Electronics,Amazon Eread...</td>\n",
              "      <td>True</td>\n",
              "      <td>4.0</td>\n",
              "      <td>Like it. I love this so far only downside is y...</td>\n",
              "    </tr>\n",
              "    <tr>\n",
              "      <th>7</th>\n",
              "      <td>All-New Kindle Oasis E-reader - 7 High-Resolut...</td>\n",
              "      <td>Amazon</td>\n",
              "      <td>EBook Readers,Tablets,Electronics,Amazon Eread...</td>\n",
              "      <td>True</td>\n",
              "      <td>5.0</td>\n",
              "      <td>Love it!. I adore this kindle. I have owned vo...</td>\n",
              "    </tr>\n",
              "    <tr>\n",
              "      <th>8</th>\n",
              "      <td>All-New Kindle Oasis E-reader - 7 High-Resolut...</td>\n",
              "      <td>Amazon</td>\n",
              "      <td>EBook Readers,Tablets,Electronics,Amazon Eread...</td>\n",
              "      <td>True</td>\n",
              "      <td>5.0</td>\n",
              "      <td>You get what you pay for. Best reader, super l...</td>\n",
              "    </tr>\n",
              "    <tr>\n",
              "      <th>9</th>\n",
              "      <td>All-New Kindle Oasis E-reader - 7 High-Resolut...</td>\n",
              "      <td>Amazon</td>\n",
              "      <td>EBook Readers,Tablets,Electronics,Amazon Eread...</td>\n",
              "      <td>True</td>\n",
              "      <td>5.0</td>\n",
              "      <td>Best Kindle ever..... This is the best Kindle ...</td>\n",
              "    </tr>\n",
              "  </tbody>\n",
              "</table>\n",
              "</div>\n",
              "    <div class=\"colab-df-buttons\">\n",
              "\n",
              "  <div class=\"colab-df-container\">\n",
              "    <button class=\"colab-df-convert\" onclick=\"convertToInteractive('df-ea98d674-a295-44c7-9462-c6df84b58076')\"\n",
              "            title=\"Convert this dataframe to an interactive table.\"\n",
              "            style=\"display:none;\">\n",
              "\n",
              "  <svg xmlns=\"http://www.w3.org/2000/svg\" height=\"24px\" viewBox=\"0 -960 960 960\">\n",
              "    <path d=\"M120-120v-720h720v720H120Zm60-500h600v-160H180v160Zm220 220h160v-160H400v160Zm0 220h160v-160H400v160ZM180-400h160v-160H180v160Zm440 0h160v-160H620v160ZM180-180h160v-160H180v160Zm440 0h160v-160H620v160Z\"/>\n",
              "  </svg>\n",
              "    </button>\n",
              "\n",
              "  <style>\n",
              "    .colab-df-container {\n",
              "      display:flex;\n",
              "      gap: 12px;\n",
              "    }\n",
              "\n",
              "    .colab-df-convert {\n",
              "      background-color: #E8F0FE;\n",
              "      border: none;\n",
              "      border-radius: 50%;\n",
              "      cursor: pointer;\n",
              "      display: none;\n",
              "      fill: #1967D2;\n",
              "      height: 32px;\n",
              "      padding: 0 0 0 0;\n",
              "      width: 32px;\n",
              "    }\n",
              "\n",
              "    .colab-df-convert:hover {\n",
              "      background-color: #E2EBFA;\n",
              "      box-shadow: 0px 1px 2px rgba(60, 64, 67, 0.3), 0px 1px 3px 1px rgba(60, 64, 67, 0.15);\n",
              "      fill: #174EA6;\n",
              "    }\n",
              "\n",
              "    .colab-df-buttons div {\n",
              "      margin-bottom: 4px;\n",
              "    }\n",
              "\n",
              "    [theme=dark] .colab-df-convert {\n",
              "      background-color: #3B4455;\n",
              "      fill: #D2E3FC;\n",
              "    }\n",
              "\n",
              "    [theme=dark] .colab-df-convert:hover {\n",
              "      background-color: #434B5C;\n",
              "      box-shadow: 0px 1px 3px 1px rgba(0, 0, 0, 0.15);\n",
              "      filter: drop-shadow(0px 1px 2px rgba(0, 0, 0, 0.3));\n",
              "      fill: #FFFFFF;\n",
              "    }\n",
              "  </style>\n",
              "\n",
              "    <script>\n",
              "      const buttonEl =\n",
              "        document.querySelector('#df-ea98d674-a295-44c7-9462-c6df84b58076 button.colab-df-convert');\n",
              "      buttonEl.style.display =\n",
              "        google.colab.kernel.accessAllowed ? 'block' : 'none';\n",
              "\n",
              "      async function convertToInteractive(key) {\n",
              "        const element = document.querySelector('#df-ea98d674-a295-44c7-9462-c6df84b58076');\n",
              "        const dataTable =\n",
              "          await google.colab.kernel.invokeFunction('convertToInteractive',\n",
              "                                                    [key], {});\n",
              "        if (!dataTable) return;\n",
              "\n",
              "        const docLinkHtml = 'Like what you see? Visit the ' +\n",
              "          '<a target=\"_blank\" href=https://colab.research.google.com/notebooks/data_table.ipynb>data table notebook</a>'\n",
              "          + ' to learn more about interactive tables.';\n",
              "        element.innerHTML = '';\n",
              "        dataTable['output_type'] = 'display_data';\n",
              "        await google.colab.output.renderOutput(dataTable, element);\n",
              "        const docLink = document.createElement('div');\n",
              "        docLink.innerHTML = docLinkHtml;\n",
              "        element.appendChild(docLink);\n",
              "      }\n",
              "    </script>\n",
              "  </div>\n",
              "\n",
              "\n",
              "    <div id=\"df-51e61d0f-5e7f-4815-ad55-8c8d90e70b04\">\n",
              "      <button class=\"colab-df-quickchart\" onclick=\"quickchart('df-51e61d0f-5e7f-4815-ad55-8c8d90e70b04')\"\n",
              "                title=\"Suggest charts\"\n",
              "                style=\"display:none;\">\n",
              "\n",
              "<svg xmlns=\"http://www.w3.org/2000/svg\" height=\"24px\"viewBox=\"0 0 24 24\"\n",
              "     width=\"24px\">\n",
              "    <g>\n",
              "        <path d=\"M19 3H5c-1.1 0-2 .9-2 2v14c0 1.1.9 2 2 2h14c1.1 0 2-.9 2-2V5c0-1.1-.9-2-2-2zM9 17H7v-7h2v7zm4 0h-2V7h2v10zm4 0h-2v-4h2v4z\"/>\n",
              "    </g>\n",
              "</svg>\n",
              "      </button>\n",
              "\n",
              "<style>\n",
              "  .colab-df-quickchart {\n",
              "      --bg-color: #E8F0FE;\n",
              "      --fill-color: #1967D2;\n",
              "      --hover-bg-color: #E2EBFA;\n",
              "      --hover-fill-color: #174EA6;\n",
              "      --disabled-fill-color: #AAA;\n",
              "      --disabled-bg-color: #DDD;\n",
              "  }\n",
              "\n",
              "  [theme=dark] .colab-df-quickchart {\n",
              "      --bg-color: #3B4455;\n",
              "      --fill-color: #D2E3FC;\n",
              "      --hover-bg-color: #434B5C;\n",
              "      --hover-fill-color: #FFFFFF;\n",
              "      --disabled-bg-color: #3B4455;\n",
              "      --disabled-fill-color: #666;\n",
              "  }\n",
              "\n",
              "  .colab-df-quickchart {\n",
              "    background-color: var(--bg-color);\n",
              "    border: none;\n",
              "    border-radius: 50%;\n",
              "    cursor: pointer;\n",
              "    display: none;\n",
              "    fill: var(--fill-color);\n",
              "    height: 32px;\n",
              "    padding: 0;\n",
              "    width: 32px;\n",
              "  }\n",
              "\n",
              "  .colab-df-quickchart:hover {\n",
              "    background-color: var(--hover-bg-color);\n",
              "    box-shadow: 0 1px 2px rgba(60, 64, 67, 0.3), 0 1px 3px 1px rgba(60, 64, 67, 0.15);\n",
              "    fill: var(--button-hover-fill-color);\n",
              "  }\n",
              "\n",
              "  .colab-df-quickchart-complete:disabled,\n",
              "  .colab-df-quickchart-complete:disabled:hover {\n",
              "    background-color: var(--disabled-bg-color);\n",
              "    fill: var(--disabled-fill-color);\n",
              "    box-shadow: none;\n",
              "  }\n",
              "\n",
              "  .colab-df-spinner {\n",
              "    border: 2px solid var(--fill-color);\n",
              "    border-color: transparent;\n",
              "    border-bottom-color: var(--fill-color);\n",
              "    animation:\n",
              "      spin 1s steps(1) infinite;\n",
              "  }\n",
              "\n",
              "  @keyframes spin {\n",
              "    0% {\n",
              "      border-color: transparent;\n",
              "      border-bottom-color: var(--fill-color);\n",
              "      border-left-color: var(--fill-color);\n",
              "    }\n",
              "    20% {\n",
              "      border-color: transparent;\n",
              "      border-left-color: var(--fill-color);\n",
              "      border-top-color: var(--fill-color);\n",
              "    }\n",
              "    30% {\n",
              "      border-color: transparent;\n",
              "      border-left-color: var(--fill-color);\n",
              "      border-top-color: var(--fill-color);\n",
              "      border-right-color: var(--fill-color);\n",
              "    }\n",
              "    40% {\n",
              "      border-color: transparent;\n",
              "      border-right-color: var(--fill-color);\n",
              "      border-top-color: var(--fill-color);\n",
              "    }\n",
              "    60% {\n",
              "      border-color: transparent;\n",
              "      border-right-color: var(--fill-color);\n",
              "    }\n",
              "    80% {\n",
              "      border-color: transparent;\n",
              "      border-right-color: var(--fill-color);\n",
              "      border-bottom-color: var(--fill-color);\n",
              "    }\n",
              "    90% {\n",
              "      border-color: transparent;\n",
              "      border-bottom-color: var(--fill-color);\n",
              "    }\n",
              "  }\n",
              "</style>\n",
              "\n",
              "      <script>\n",
              "        async function quickchart(key) {\n",
              "          const quickchartButtonEl =\n",
              "            document.querySelector('#' + key + ' button');\n",
              "          quickchartButtonEl.disabled = true;  // To prevent multiple clicks.\n",
              "          quickchartButtonEl.classList.add('colab-df-spinner');\n",
              "          try {\n",
              "            const charts = await google.colab.kernel.invokeFunction(\n",
              "                'suggestCharts', [key], {});\n",
              "          } catch (error) {\n",
              "            console.error('Error during call to suggestCharts:', error);\n",
              "          }\n",
              "          quickchartButtonEl.classList.remove('colab-df-spinner');\n",
              "          quickchartButtonEl.classList.add('colab-df-quickchart-complete');\n",
              "        }\n",
              "        (() => {\n",
              "          let quickchartButtonEl =\n",
              "            document.querySelector('#df-51e61d0f-5e7f-4815-ad55-8c8d90e70b04 button');\n",
              "          quickchartButtonEl.style.display =\n",
              "            google.colab.kernel.accessAllowed ? 'block' : 'none';\n",
              "        })();\n",
              "      </script>\n",
              "    </div>\n",
              "\n",
              "    </div>\n",
              "  </div>\n"
            ],
            "application/vnd.google.colaboratory.intrinsic+json": {
              "type": "dataframe",
              "variable_name": "data",
              "summary": "{\n  \"name\": \"data\",\n  \"rows\": 59046,\n  \"fields\": [\n    {\n      \"column\": \"name\",\n      \"properties\": {\n        \"dtype\": \"category\",\n        \"num_unique_values\": 125,\n        \"samples\": [\n          \"Amazon 9W PowerFast Official OEM USB Charger and Power Adapter for Fire Tablets and Kindle eReaders\",\n          \"Amazon - Kindle Voyage - 4GB - Wi-Fi + 3G - Black\",\n          \"Kindle Dx Leather Cover, Black (fits 9.7 Display, Latest and 2nd Generation Kindle Dxs),,\"\n        ],\n        \"semantic_type\": \"\",\n        \"description\": \"\"\n      }\n    },\n    {\n      \"column\": \"brand\",\n      \"properties\": {\n        \"dtype\": \"category\",\n        \"num_unique_values\": 3,\n        \"samples\": [\n          \"Amazon\",\n          \"Amazonbasics\",\n          \"AmazonBasics\"\n        ],\n        \"semantic_type\": \"\",\n        \"description\": \"\"\n      }\n    },\n    {\n      \"column\": \"categories\",\n      \"properties\": {\n        \"dtype\": \"category\",\n        \"num_unique_values\": 97,\n        \"samples\": [\n          \"E-Readers & Accessories,EBook Readers,Amazon Book Reader,Computers & Tablets,Amazon Ereaders,Kindle E-readers,E-Readers\",\n          \"Walmart for Business,Office Electronics,Tablets,Electronics,iPad & Tablets,All Tablets,Computers & Tablets,E-Readers & Accessories,Kindle E-readers,Electronics Features,eBook Readers,See more Amazon Kindle Voyage (Wi-Fi),See more Amazon Kindle Voyage 4GB, Wi-Fi  3G (Unlocked...\",\n          \"Amazon Echo,Smart Home,Networking,Home & Tools,Home Improvement,Smart Home Automation,Voice Assistants,Amazon Home,Amazon,Smart Hub & Kits,Digital Device 3\"\n        ],\n        \"semantic_type\": \"\",\n        \"description\": \"\"\n      }\n    },\n    {\n      \"column\": \"reviews.doRecommend\",\n      \"properties\": {\n        \"dtype\": \"category\",\n        \"num_unique_values\": 3,\n        \"samples\": [\n          \"True\",\n          \"False\",\n          \"Not specified\"\n        ],\n        \"semantic_type\": \"\",\n        \"description\": \"\"\n      }\n    },\n    {\n      \"column\": \"reviews.rating\",\n      \"properties\": {\n        \"dtype\": \"number\",\n        \"std\": 0.8416894731265107,\n        \"min\": 1.0,\n        \"max\": 5.0,\n        \"num_unique_values\": 5,\n        \"samples\": [\n          4.0,\n          1.0,\n          2.0\n        ],\n        \"semantic_type\": \"\",\n        \"description\": \"\"\n      }\n    },\n    {\n      \"column\": \"reviews\",\n      \"properties\": {\n        \"dtype\": \"string\",\n        \"num_unique_values\": 41334,\n        \"samples\": [\n          \"I love it!. I previously owned the larger hd fire 8.9 kindle and loved it. I wanted a smaller tablet to fit in my purse so this was perfect. I love the color. It holds a ton of books and you can add a sd card for extra space.\",\n          \"so far so good, but a little early to tell if they .... so far so good, but a little early to tell if they will measure up to top brand for less money\",\n          \"I HAVE THE ORIGINAL ECHO AND LOVE IT.. I HAVE PUT THE DOT IN THE BEDROOM WHERE MY ECHO IS IN THE LIVING AREA. MY FAMILY USES HER FOR EVERYTHING. ENJOY EVERYTHING ABOUT THE ECHO / DOT.\"\n        ],\n        \"semantic_type\": \"\",\n        \"description\": \"\"\n      }\n    }\n  ]\n}"
            }
          },
          "metadata": {},
          "execution_count": 2
        }
      ],
      "source": [
        "dataset_path = '/content/cleaned_reviews.csv'\n",
        "\n",
        "# Carga del dataset\n",
        "data = pd.read_csv(dataset_path, low_memory=False)\n",
        "\n",
        "# Reset index\n",
        "data.reset_index(drop=True, inplace=True)\n",
        "\n",
        "# Print dataset shape and column names for verificación\n",
        "print('Rows/Columns: ', data.shape)\n",
        "print('Column Names: ', data.columns)\n",
        "\n",
        "# Display first 10 rows\n",
        "data.head(10)"
      ]
    },
    {
      "cell_type": "markdown",
      "metadata": {
        "id": "MDSXF6nhevIZ"
      },
      "source": [
        "#### Mapping Star Ratings to Sentiment Classes.\n",
        "-  1-2 stars → Negative\n",
        "-  3 stars → Neutral\n",
        "-  4-5 stars → Positive"
      ]
    },
    {
      "cell_type": "code",
      "execution_count": 3,
      "metadata": {
        "colab": {
          "base_uri": "https://localhost:8080/"
        },
        "id": "2MHvJc01evIa",
        "outputId": "695b28dc-be26-4131-8173-de47bc5cf5ff"
      },
      "outputs": [
        {
          "output_type": "stream",
          "name": "stdout",
          "text": [
            "sentiment\n",
            "Positive    54095\n",
            "Neutral      2629\n",
            "Negative     2322\n",
            "Name: count, dtype: int64\n"
          ]
        }
      ],
      "source": [
        "# Define function to map ratings to sentiment categories\n",
        "def map_sentiment(rating):\n",
        "    if rating in [1, 2]:\n",
        "        return \"Negative\"\n",
        "    elif rating == 3:\n",
        "        return \"Neutral\"\n",
        "    else:  # 4 or 5\n",
        "        return \"Positive\"\n",
        "\n",
        "# Apply mapping to create a new sentiment column\n",
        "data['sentiment'] = data['reviews.rating'].apply(map_sentiment)\n",
        "\n",
        "# Check distribution of sentiment labels\n",
        "print(data['sentiment'].value_counts())\n",
        "\n"
      ]
    },
    {
      "cell_type": "markdown",
      "metadata": {
        "id": "wX2Cx20uevIb"
      },
      "source": [
        "#### **Model for classifyng: DistilBERT-base-uncased**\n"
      ]
    },
    {
      "cell_type": "markdown",
      "metadata": {
        "id": "h4kCpoWoevIb"
      },
      "source": [
        "#### We split the dataset.\n",
        "\n",
        "Due the imbalanced of our dataset we make sure we use Stratification in Train-Test Split."
      ]
    },
    {
      "cell_type": "code",
      "execution_count": 4,
      "metadata": {
        "colab": {
          "base_uri": "https://localhost:8080/"
        },
        "id": "o3ohBnGFevIb",
        "outputId": "07f16bdb-16f7-41ec-c182-2bc1dca9d54b"
      },
      "outputs": [
        {
          "output_type": "stream",
          "name": "stdout",
          "text": [
            "Training set size: 47236\n",
            "Validation set size: 5905\n",
            "Test set size: 5905\n"
          ]
        }
      ],
      "source": [
        "# Prepare features and labels\n",
        "X = data['reviews'].to_list()\n",
        "y = data['sentiment'].to_list()\n",
        "\n",
        "# Splitting the data into training (80%) and temp (20%)\n",
        "train_texts, temp_texts, train_labels, temp_labels = train_test_split(X, y, test_size=0.2, stratify= y, random_state=42)\n",
        "\n",
        "# Splitting temp into validation (10%) and test (10%)\n",
        "val_texts, test_texts, val_labels, test_labels = train_test_split(temp_texts, temp_labels, test_size=0.5, stratify=temp_labels, random_state=42)\n",
        "\n",
        "# Verify split sizes\n",
        "print(f\"Training set size: {len(train_texts)}\")\n",
        "print(f\"Validation set size: {len(val_texts)}\")\n",
        "print(f\"Test set size: {len(test_texts)}\")\n"
      ]
    },
    {
      "cell_type": "markdown",
      "metadata": {
        "id": "T0bTziCrevIc"
      },
      "source": [
        "#### Tokenize and load the Model"
      ]
    },
    {
      "cell_type": "code",
      "execution_count": 5,
      "metadata": {
        "colab": {
          "base_uri": "https://localhost:8080/"
        },
        "id": "X33YUzlIevIc",
        "outputId": "7be8c303-5f54-42ae-fd24-99dca19f5510"
      },
      "outputs": [
        {
          "output_type": "stream",
          "name": "stderr",
          "text": [
            "/usr/local/lib/python3.11/dist-packages/huggingface_hub/utils/_auth.py:94: UserWarning: \n",
            "The secret `HF_TOKEN` does not exist in your Colab secrets.\n",
            "To authenticate with the Hugging Face Hub, create a token in your settings tab (https://huggingface.co/settings/tokens), set it as secret in your Google Colab and restart your session.\n",
            "You will be able to reuse this secret in all of your notebooks.\n",
            "Please note that authentication is recommended but still optional to access public models or datasets.\n",
            "  warnings.warn(\n"
          ]
        },
        {
          "output_type": "stream",
          "name": "stdout",
          "text": [
            "['[CLS]', 'great', 'deal', '!', '!', '.', 'this', 'work', 'great', 'so', 'far', '!', 'such', 'a', 'great', 'prices', 'i', 'was', 'waiting', 'for']\n"
          ]
        }
      ],
      "source": [
        "# Load DistilBERT tokenizer\n",
        "tokenizer = DistilBertTokenizer.from_pretrained(\"distilbert-base-uncased\")\n",
        "\n",
        "# Tokenize the text data\n",
        "train_encodings = tokenizer(list(train_texts), truncation=True, padding=True, max_length=150)\n",
        "val_encodings = tokenizer(list(val_texts), truncation=True, padding=True, max_length=150)\n",
        "test_encodings = tokenizer(list(test_texts), truncation=True, padding=True, max_length=150)\n",
        "\n",
        "# Display a sample of tokenized data\n",
        "sample_tokens = tokenizer.convert_ids_to_tokens(train_encodings[\"input_ids\"][0])\n",
        "print(sample_tokens[:20])  # Show first 20 tokens of an example review\n"
      ]
    },
    {
      "cell_type": "markdown",
      "metadata": {
        "id": "9DDwErAtevId"
      },
      "source": [
        "Creates a PyTorch Dataset class to handle input data"
      ]
    },
    {
      "cell_type": "code",
      "execution_count": 6,
      "metadata": {
        "id": "pIpyK9WgevId"
      },
      "outputs": [],
      "source": [
        "# Convert sentiment labels into numerical format\n",
        "label_map = {\"Negative\": 0, \"Neutral\": 1, \"Positive\": 2}\n",
        "\n",
        "train_labels = [label_map[label] for label in train_labels]\n",
        "val_labels = [label_map[label] for label in val_labels]\n",
        "test_labels = [label_map[label] for label in test_labels]\n",
        "\n",
        "# Create a custom PyTorch Dataset class\n",
        "class ReviewsDataset(Dataset):\n",
        "    def __init__(self, encodings, labels):\n",
        "        self.encodings = encodings\n",
        "        self.labels = labels\n",
        "\n",
        "    def __len__(self):\n",
        "        return len(self.labels)\n",
        "\n",
        "    def __getitem__(self, idx):\n",
        "        item = {key: torch.tensor(val[idx]) for key, val in self.encodings.items()}\n",
        "        item[\"labels\"] = torch.tensor(self.labels[idx])\n",
        "        return item\n",
        "\n",
        "# Create dataset objects\n",
        "train_dataset = ReviewsDataset(train_encodings, train_labels)\n",
        "val_dataset = ReviewsDataset(val_encodings, val_labels)\n",
        "test_dataset = ReviewsDataset(test_encodings, test_labels)\n",
        "\n"
      ]
    },
    {
      "cell_type": "markdown",
      "metadata": {
        "id": "f9zq0PvqevIe"
      },
      "source": [
        "#### We train the model."
      ]
    },
    {
      "cell_type": "code",
      "execution_count": 7,
      "metadata": {
        "colab": {
          "base_uri": "https://localhost:8080/",
          "height": 325
        },
        "id": "qfk8U48cevIe",
        "outputId": "aad5aaf1-0512-452a-8718-4d9500841cf0"
      },
      "outputs": [
        {
          "output_type": "stream",
          "name": "stderr",
          "text": [
            "Some weights of DistilBertForSequenceClassification were not initialized from the model checkpoint at distilbert-base-uncased and are newly initialized: ['classifier.bias', 'classifier.weight', 'pre_classifier.bias', 'pre_classifier.weight']\n",
            "You should probably TRAIN this model on a down-stream task to be able to use it for predictions and inference.\n"
          ]
        },
        {
          "output_type": "display_data",
          "data": {
            "text/plain": [
              "<IPython.core.display.HTML object>"
            ],
            "text/html": [
              "\n",
              "    <div>\n",
              "      \n",
              "      <progress value='11812' max='14765' style='width:300px; height:20px; vertical-align: middle;'></progress>\n",
              "      [11812/14765 19:57 < 04:59, 9.87 it/s, Epoch 4/5]\n",
              "    </div>\n",
              "    <table border=\"1\" class=\"dataframe\">\n",
              "  <thead>\n",
              " <tr style=\"text-align: left;\">\n",
              "      <th>Epoch</th>\n",
              "      <th>Training Loss</th>\n",
              "      <th>Validation Loss</th>\n",
              "      <th>Accuracy</th>\n",
              "      <th>Precision</th>\n",
              "      <th>Recall</th>\n",
              "      <th>F1</th>\n",
              "    </tr>\n",
              "  </thead>\n",
              "  <tbody>\n",
              "    <tr>\n",
              "      <td>1</td>\n",
              "      <td>0.143500</td>\n",
              "      <td>0.136610</td>\n",
              "      <td>0.957324</td>\n",
              "      <td>0.951442</td>\n",
              "      <td>0.957324</td>\n",
              "      <td>0.952698</td>\n",
              "    </tr>\n",
              "    <tr>\n",
              "      <td>2</td>\n",
              "      <td>0.097100</td>\n",
              "      <td>0.118452</td>\n",
              "      <td>0.967993</td>\n",
              "      <td>0.965890</td>\n",
              "      <td>0.967993</td>\n",
              "      <td>0.966552</td>\n",
              "    </tr>\n",
              "    <tr>\n",
              "      <td>3</td>\n",
              "      <td>0.067200</td>\n",
              "      <td>0.138892</td>\n",
              "      <td>0.969856</td>\n",
              "      <td>0.968199</td>\n",
              "      <td>0.969856</td>\n",
              "      <td>0.968813</td>\n",
              "    </tr>\n",
              "    <tr>\n",
              "      <td>4</td>\n",
              "      <td>0.045600</td>\n",
              "      <td>0.169571</td>\n",
              "      <td>0.967824</td>\n",
              "      <td>0.967695</td>\n",
              "      <td>0.967824</td>\n",
              "      <td>0.967742</td>\n",
              "    </tr>\n",
              "  </tbody>\n",
              "</table><p>"
            ]
          },
          "metadata": {}
        },
        {
          "output_type": "execute_result",
          "data": {
            "text/plain": [
              "TrainOutput(global_step=11812, training_loss=0.09538341981453126, metrics={'train_runtime': 1197.9325, 'train_samples_per_second': 197.156, 'train_steps_per_second': 12.325, 'total_flos': 7332822224683200.0, 'train_loss': 0.09538341981453126, 'epoch': 4.0})"
            ]
          },
          "metadata": {},
          "execution_count": 7
        }
      ],
      "source": [
        "# Load DistilBERT model\n",
        "model = DistilBertForSequenceClassification.from_pretrained(\n",
        "    \"distilbert-base-uncased\", num_labels=3\n",
        ")\n",
        "\n",
        "# Define compute_metrics function for evaluation\n",
        "def compute_metrics(eval_pred):\n",
        "    logits, labels = eval_pred\n",
        "    preds = np.argmax(logits, axis=1)  #\n",
        "    accuracy = accuracy_score(labels, preds)\n",
        "    precision, recall, f1, _ = precision_recall_fscore_support(labels, preds, average=\"weighted\")\n",
        "\n",
        "    return {\n",
        "        \"accuracy\": accuracy,\n",
        "        \"precision\": precision,\n",
        "        \"recall\": recall,\n",
        "        \"f1\": f1\n",
        "    }\n",
        "\n",
        "# Define Training Arguments\n",
        "training_args = TrainingArguments(\n",
        "    output_dir=\"./results\",\n",
        "    # Changed 'evaluation_strategy' to 'eval_strategy'\n",
        "    eval_strategy=IntervalStrategy.EPOCH, # Use IntervalStrategy.EPOCH for evaluation every epoch\n",
        "    # Changed 'save_strategy' to 'save_strategy' and use IntervalStrategy\n",
        "    save_strategy=IntervalStrategy.EPOCH,  # Use IntervalStrategy.EPOCH for saving every epoch\n",
        "    learning_rate=2e-5,\n",
        "    per_device_train_batch_size=16,\n",
        "    per_device_eval_batch_size=16,\n",
        "    num_train_epochs=5,\n",
        "    weight_decay=0.01,\n",
        "    logging_dir=\"./logs\",\n",
        "    load_best_model_at_end=True,\n",
        "    save_total_limit=1,\n",
        "    report_to=\"none\"\n",
        ")\n",
        "\n",
        "# Define Trainer with Early Stopping\n",
        "trainer = Trainer(\n",
        "    model=model,\n",
        "    args=training_args,\n",
        "    train_dataset=train_dataset,\n",
        "    eval_dataset=val_dataset,\n",
        "    compute_metrics=compute_metrics,\n",
        "    callbacks=[EarlyStoppingCallback(early_stopping_patience=2)]  # Stop if no improvement for 2 epochs\n",
        ")\n",
        "\n",
        "# Train the Model\n",
        "trainer.train()\n"
      ]
    },
    {
      "cell_type": "markdown",
      "metadata": {
        "id": "UihjxtSpoZS-"
      },
      "source": [
        "#### **Evaluate the Model on the Test Set**"
      ]
    },
    {
      "cell_type": "code",
      "execution_count": 8,
      "metadata": {
        "colab": {
          "base_uri": "https://localhost:8080/",
          "height": 211
        },
        "id": "5poHmkvmogzz",
        "outputId": "b71e8b73-e4da-4ae2-918a-f59920322752"
      },
      "outputs": [
        {
          "output_type": "display_data",
          "data": {
            "text/plain": [
              "<IPython.core.display.HTML object>"
            ],
            "text/html": [
              "\n",
              "    <div>\n",
              "      \n",
              "      <progress value='370' max='370' style='width:300px; height:20px; vertical-align: middle;'></progress>\n",
              "      [370/370 00:10]\n",
              "    </div>\n",
              "    "
            ]
          },
          "metadata": {}
        },
        {
          "output_type": "stream",
          "name": "stdout",
          "text": [
            "Test Set Evaluation Results:\n",
            "eval_loss: 0.1123\n",
            "eval_accuracy: 0.9685\n",
            "eval_precision: 0.9669\n",
            "eval_recall: 0.9685\n",
            "eval_f1: 0.9674\n",
            "eval_runtime: 10.1228\n",
            "eval_samples_per_second: 583.3370\n",
            "eval_steps_per_second: 36.5510\n",
            "epoch: 4.0000\n"
          ]
        }
      ],
      "source": [
        "# Evaluate the trained model on the test set\n",
        "test_results = trainer.evaluate(test_dataset)\n",
        "\n",
        "# Print the test results\n",
        "print(\"Test Set Evaluation Results:\")\n",
        "for key, value in test_results.items():\n",
        "    print(f\"{key}: {value:.4f}\")"
      ]
    },
    {
      "cell_type": "code",
      "execution_count": 9,
      "metadata": {
        "colab": {
          "base_uri": "https://localhost:8080/",
          "height": 556
        },
        "id": "L6GVMFptozp9",
        "outputId": "f2dcc63f-873a-4ccc-9e4a-fe05d2466848"
      },
      "outputs": [
        {
          "output_type": "display_data",
          "data": {
            "text/plain": [
              "<IPython.core.display.HTML object>"
            ],
            "text/html": []
          },
          "metadata": {}
        },
        {
          "output_type": "stream",
          "name": "stdout",
          "text": [
            "Model achieved an accuracy of 96.85% on the test dataset.\n",
            "Class Negative: Precision=81.48%, Recall=85.34%, F1-score=83.37%\n",
            "Class Neutral: Precision=71.82%, Recall=60.08%, F1-score=65.42%\n",
            "Class Positive: Precision=98.55%, Recall=99.13%, F1-score=98.84%\n"
          ]
        },
        {
          "output_type": "display_data",
          "data": {
            "text/plain": [
              "<Figure size 600x500 with 2 Axes>"
            ],
            "image/png": "[encoded data removed]"
          },
          "metadata": {}
        }
      ],
      "source": [
        "# Get predictions on test set\n",
        "predictions = trainer.predict(test_dataset)\n",
        "logits, labels = predictions.predictions, predictions.label_ids\n",
        "preds = np.argmax(logits, axis=1)  # Convert logits to class predictions\n",
        "\n",
        "# Compute accuracy, precision, recall, and F1-score\n",
        "accuracy = accuracy_score(labels, preds)\n",
        "precision, recall, f1, _ = precision_recall_fscore_support(labels, preds, average=None)\n",
        "\n",
        "# Print results\n",
        "print(f\"Model achieved an accuracy of {accuracy*100:.2f}% on the test dataset.\")\n",
        "for i, class_name in enumerate([\"Negative\", \"Neutral\", \"Positive\"]):\n",
        "    print(f\"Class {class_name}: Precision={precision[i]*100:.2f}%, Recall={recall[i]*100:.2f}%, F1-score={f1[i]*100:.2f}%\")\n",
        "\n",
        "# Generate confusion matrix\n",
        "cm = confusion_matrix(labels, preds)\n",
        "plt.figure(figsize=(6,5))\n",
        "sns.heatmap(cm, annot=True, fmt=\"d\", cmap=\"Blues\", xticklabels=[\"Negative\", \"Neutral\", \"Positive\"], yticklabels=[\"Negative\", \"Neutral\", \"Positive\"])\n",
        "plt.xlabel(\"Predicted\")\n",
        "plt.ylabel(\"Actual\")\n",
        "plt.title(\"Confusion Matrix\")\n",
        "plt.show()"
      ]
    },
    {
      "cell_type": "code",
      "execution_count": 10,
      "metadata": {
        "colab": {
          "base_uri": "https://localhost:8080/",
          "height": 35
        },
        "id": "7M1G-vPu_Urq",
        "outputId": "e8a4abe4-aa45-43dc-ead5-3891ee0a3ced"
      },
      "outputs": [
        {
          "output_type": "execute_result",
          "data": {
            "text/plain": [
              "'.\\\\cleaned_reviews_with_sentiment.csv'"
            ],
            "application/vnd.google.colaboratory.intrinsic+json": {
              "type": "string"
            }
          },
          "metadata": {},
          "execution_count": 10
        }
      ],
      "source": [
        "# Reload the original dataset to keep all columns\n",
        "original_df = pd.read_csv(dataset_path)\n",
        "\n",
        "# Apply sentiment mapping to the 'reviews.rating' column\n",
        "def map_sentiment(rating):\n",
        "    if rating in [1, 2]:\n",
        "        return \"Negative\"\n",
        "    elif rating == 3:\n",
        "        return \"Neutral\"\n",
        "    else:\n",
        "        return \"Positive\"\n",
        "\n",
        "original_df['sentiment'] = original_df['reviews.rating'].apply(map_sentiment)\n",
        "\n",
        "# Save the new DataFrame with the sentiment column to a CSV\n",
        "output_path = \".\\cleaned_reviews_with_sentiment.csv\"\n",
        "original_df.to_csv(output_path, index=False)\n",
        "\n",
        "output_path"
      ]
    },
    {
      "cell_type": "markdown",
      "metadata": {
        "id": "2YTGAxqPevIe"
      },
      "source": []
    }
  ],
  "metadata": {
    "accelerator": "GPU",
    "colab": {
      "gpuType": "L4",
      "machine_shape": "hm",
      "provenance": []
    },
    "kernelspec": {
      "display_name": "Python 3",
      "name": "python3"
    },
    "language_info": {
      "codemirror_mode": {
        "name": "ipython",
        "version": 3
      },
      "file_extension": ".py",
      "mimetype": "text/x-python",
      "name": "python",
      "nbconvert_exporter": "python",
      "pygments_lexer": "ipython3",
      "version": "3.13.1"
    }
  },
  "nbformat": 4,
  "nbformat_minor": 0
}