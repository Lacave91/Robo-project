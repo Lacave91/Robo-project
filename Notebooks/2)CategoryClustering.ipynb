{
 "cells": [
  {
   "cell_type": "markdown",
   "metadata": {},
   "source": [
    "## **Part 2 - Product Category Clustering**\n",
    "-  Objective: Simplify the dataset by clustering product categories into 4-6 meta-categories."
   ]
  },
  {
   "cell_type": "markdown",
   "metadata": {},
   "source": [
    "#### Imports"
   ]
  },
  {
   "cell_type": "code",
   "execution_count": 1,
   "metadata": {},
   "outputs": [],
   "source": [
    "import numpy as np\n",
    "import pandas as pd\n",
    "import seaborn as sns\n",
    "import matplotlib.pyplot as plt\n",
    "from sklearn.decomposition import PCA\n",
    "\n",
    "from collections import Counter\n",
    "from sklearn.cluster import KMeans\n",
    "from sentence_transformers import SentenceTransformer\n",
    "from rapidfuzz import process\n",
    "from sklearn.manifold import TSNE\n",
    "from sklearn.metrics import silhouette_score\n",
    "\n"
   ]
  },
  {
   "cell_type": "markdown",
   "metadata": {},
   "source": [
    "#### Load the Dataset"
   ]
  },
  {
   "cell_type": "code",
   "execution_count": null,
   "metadata": {},
   "outputs": [
    {
     "data": {
      "text/html": [
       "<div>\n",
       "<style scoped>\n",
       "    .dataframe tbody tr th:only-of-type {\n",
       "        vertical-align: middle;\n",
       "    }\n",
       "\n",
       "    .dataframe tbody tr th {\n",
       "        vertical-align: top;\n",
       "    }\n",
       "\n",
       "    .dataframe thead th {\n",
       "        text-align: right;\n",
       "    }\n",
       "</style>\n",
       "<table border=\"1\" class=\"dataframe\">\n",
       "  <thead>\n",
       "    <tr style=\"text-align: right;\">\n",
       "      <th></th>\n",
       "      <th>name</th>\n",
       "      <th>categories</th>\n",
       "      <th>reviews.rating</th>\n",
       "      <th>review</th>\n",
       "      <th>sentiment</th>\n",
       "    </tr>\n",
       "  </thead>\n",
       "  <tbody>\n",
       "    <tr>\n",
       "      <th>0</th>\n",
       "      <td>All-New Kindle Oasis E-reader - 7 High-Resolut...</td>\n",
       "      <td>Featured Brands,E-Readers &amp; Accessories,EBook ...</td>\n",
       "      <td>5.0</td>\n",
       "      <td>Great device for reading. Definately pricey.. ...</td>\n",
       "      <td>Positive</td>\n",
       "    </tr>\n",
       "    <tr>\n",
       "      <th>1</th>\n",
       "      <td>All-New Kindle Oasis E-reader - 7 High-Resolut...</td>\n",
       "      <td>Featured Brands,E-Readers &amp; Accessories,EBook ...</td>\n",
       "      <td>5.0</td>\n",
       "      <td>Excellent Kindle. The best Kindle ever, for me...</td>\n",
       "      <td>Positive</td>\n",
       "    </tr>\n",
       "    <tr>\n",
       "      <th>2</th>\n",
       "      <td>All-New Kindle Oasis E-reader - 7 High-Resolut...</td>\n",
       "      <td>Featured Brands,E-Readers &amp; Accessories,EBook ...</td>\n",
       "      <td>4.0</td>\n",
       "      <td>Love it. I absolutely love this reader. The bi...</td>\n",
       "      <td>Positive</td>\n",
       "    </tr>\n",
       "    <tr>\n",
       "      <th>3</th>\n",
       "      <td>All-New Kindle Oasis E-reader - 7 High-Resolut...</td>\n",
       "      <td>Featured Brands,E-Readers &amp; Accessories,EBook ...</td>\n",
       "      <td>5.0</td>\n",
       "      <td>Good kindle. I always use it when i read ebook...</td>\n",
       "      <td>Positive</td>\n",
       "    </tr>\n",
       "    <tr>\n",
       "      <th>4</th>\n",
       "      <td>All-New Kindle Oasis E-reader - 7 High-Resolut...</td>\n",
       "      <td>EBook Readers,Tablets,Electronics,Amazon Eread...</td>\n",
       "      <td>4.0</td>\n",
       "      <td>So much to love, but slippery. Love bigger scr...</td>\n",
       "      <td>Positive</td>\n",
       "    </tr>\n",
       "  </tbody>\n",
       "</table>\n",
       "</div>"
      ],
      "text/plain": [
       "                                                name  \\\n",
       "0  All-New Kindle Oasis E-reader - 7 High-Resolut...   \n",
       "1  All-New Kindle Oasis E-reader - 7 High-Resolut...   \n",
       "2  All-New Kindle Oasis E-reader - 7 High-Resolut...   \n",
       "3  All-New Kindle Oasis E-reader - 7 High-Resolut...   \n",
       "4  All-New Kindle Oasis E-reader - 7 High-Resolut...   \n",
       "\n",
       "                                          categories  reviews.rating  \\\n",
       "0  Featured Brands,E-Readers & Accessories,EBook ...             5.0   \n",
       "1  Featured Brands,E-Readers & Accessories,EBook ...             5.0   \n",
       "2  Featured Brands,E-Readers & Accessories,EBook ...             4.0   \n",
       "3  Featured Brands,E-Readers & Accessories,EBook ...             5.0   \n",
       "4  EBook Readers,Tablets,Electronics,Amazon Eread...             4.0   \n",
       "\n",
       "                                              review sentiment  \n",
       "0  Great device for reading. Definately pricey.. ...  Positive  \n",
       "1  Excellent Kindle. The best Kindle ever, for me...  Positive  \n",
       "2  Love it. I absolutely love this reader. The bi...  Positive  \n",
       "3  Good kindle. I always use it when i read ebook...  Positive  \n",
       "4  So much to love, but slippery. Love bigger scr...  Positive  "
      ]
     },
     "execution_count": 16,
     "metadata": {},
     "output_type": "execute_result"
    }
   ],
   "source": [
    "# Load dataset\n",
    "df = pd.read_csv(r\".\\Dataset\\cleaned_reviews_with_sentiment.csv\")\n",
    "\n",
    "# Keep only the relevant columns\n",
    "df = df[['name', 'categories', 'reviews.rating', 'reviews', 'sentiment']]\n",
    "\n",
    "# Rename 'reviews' to 'review' for consistency\n",
    "df = df.rename(columns={'reviews': 'review'})\n",
    "\n",
    "# Drop rows with missing product names or reviews (optional but useful)\n",
    "df.dropna(subset=['name', 'review'], inplace=True)\n",
    "\n",
    "# Reset index\n",
    "df.reset_index(drop=True, inplace=True)\n",
    "\n",
    "# Preview\n",
    "df.head()\n"
   ]
  },
  {
   "cell_type": "markdown",
   "metadata": {},
   "source": [
    "#### TEXT ENRICHMENT\n",
    "\n",
    " We are going to create a new column called 'enriched_text', this will be a smarter version of the product name. It will include:\n",
    " - The product name itself\n",
    " - Its categories (as text)\n",
    " - Some keywords we add manually to help the model understand the type of product"
   ]
  },
  {
   "cell_type": "code",
   "execution_count": 17,
   "metadata": {},
   "outputs": [
    {
     "data": {
      "text/html": [
       "<div>\n",
       "<style scoped>\n",
       "    .dataframe tbody tr th:only-of-type {\n",
       "        vertical-align: middle;\n",
       "    }\n",
       "\n",
       "    .dataframe tbody tr th {\n",
       "        vertical-align: top;\n",
       "    }\n",
       "\n",
       "    .dataframe thead th {\n",
       "        text-align: right;\n",
       "    }\n",
       "</style>\n",
       "<table border=\"1\" class=\"dataframe\">\n",
       "  <thead>\n",
       "    <tr style=\"text-align: right;\">\n",
       "      <th></th>\n",
       "      <th>name</th>\n",
       "      <th>categories</th>\n",
       "      <th>enriched_text</th>\n",
       "    </tr>\n",
       "  </thead>\n",
       "  <tbody>\n",
       "    <tr>\n",
       "      <th>0</th>\n",
       "      <td>All-New Kindle Oasis E-reader - 7 High-Resolut...</td>\n",
       "      <td>Featured Brands,E-Readers &amp; Accessories,EBook ...</td>\n",
       "      <td>All-New Kindle Oasis E-reader - 7 High-Resolut...</td>\n",
       "    </tr>\n",
       "    <tr>\n",
       "      <th>1</th>\n",
       "      <td>All-New Kindle Oasis E-reader - 7 High-Resolut...</td>\n",
       "      <td>Featured Brands,E-Readers &amp; Accessories,EBook ...</td>\n",
       "      <td>All-New Kindle Oasis E-reader - 7 High-Resolut...</td>\n",
       "    </tr>\n",
       "    <tr>\n",
       "      <th>2</th>\n",
       "      <td>All-New Kindle Oasis E-reader - 7 High-Resolut...</td>\n",
       "      <td>Featured Brands,E-Readers &amp; Accessories,EBook ...</td>\n",
       "      <td>All-New Kindle Oasis E-reader - 7 High-Resolut...</td>\n",
       "    </tr>\n",
       "    <tr>\n",
       "      <th>3</th>\n",
       "      <td>All-New Kindle Oasis E-reader - 7 High-Resolut...</td>\n",
       "      <td>Featured Brands,E-Readers &amp; Accessories,EBook ...</td>\n",
       "      <td>All-New Kindle Oasis E-reader - 7 High-Resolut...</td>\n",
       "    </tr>\n",
       "    <tr>\n",
       "      <th>4</th>\n",
       "      <td>All-New Kindle Oasis E-reader - 7 High-Resolut...</td>\n",
       "      <td>EBook Readers,Tablets,Electronics,Amazon Eread...</td>\n",
       "      <td>All-New Kindle Oasis E-reader - 7 High-Resolut...</td>\n",
       "    </tr>\n",
       "  </tbody>\n",
       "</table>\n",
       "</div>"
      ],
      "text/plain": [
       "                                                name  \\\n",
       "0  All-New Kindle Oasis E-reader - 7 High-Resolut...   \n",
       "1  All-New Kindle Oasis E-reader - 7 High-Resolut...   \n",
       "2  All-New Kindle Oasis E-reader - 7 High-Resolut...   \n",
       "3  All-New Kindle Oasis E-reader - 7 High-Resolut...   \n",
       "4  All-New Kindle Oasis E-reader - 7 High-Resolut...   \n",
       "\n",
       "                                          categories  \\\n",
       "0  Featured Brands,E-Readers & Accessories,EBook ...   \n",
       "1  Featured Brands,E-Readers & Accessories,EBook ...   \n",
       "2  Featured Brands,E-Readers & Accessories,EBook ...   \n",
       "3  Featured Brands,E-Readers & Accessories,EBook ...   \n",
       "4  EBook Readers,Tablets,Electronics,Amazon Eread...   \n",
       "\n",
       "                                       enriched_text  \n",
       "0  All-New Kindle Oasis E-reader - 7 High-Resolut...  \n",
       "1  All-New Kindle Oasis E-reader - 7 High-Resolut...  \n",
       "2  All-New Kindle Oasis E-reader - 7 High-Resolut...  \n",
       "3  All-New Kindle Oasis E-reader - 7 High-Resolut...  \n",
       "4  All-New Kindle Oasis E-reader - 7 High-Resolut...  "
      ]
     },
     "execution_count": 17,
     "metadata": {},
     "output_type": "execute_result"
    }
   ],
   "source": [
    "# First, define a function that will take one row of the dataset and return an enriched version of the text\n",
    "def enrich_text(row):\n",
    "    \n",
    "    enriched = row['name']\n",
    "    \n",
    "    # Add the categories (some products have multiple categories, separated by commas)\n",
    "    if pd.notnull(row['categories']):\n",
    "        enriched += ' ' + row['categories'].lower()\n",
    "    \n",
    "    # Now add custom keywords if we detect certain words in the name or categories\n",
    "    text_to_check = enriched.lower()\n",
    "    \n",
    "    # If it's a tablet, add the word \"tablet\"\n",
    "    if any(keyword in text_to_check for keyword in ['tablet', 'fire hd']):\n",
    "        enriched += ' tablet'\n",
    "        \n",
    "    # If it's an e-reader (like a Kindle), add the word \"ereader\"\n",
    "    if any(keyword in text_to_check for keyword in ['ebook', 'kindle', 'ereader']):\n",
    "        enriched += ' ereader'\n",
    "    \n",
    "    # If it's a battery-related product, add the word \"battery\"\n",
    "    if any(keyword in text_to_check for keyword in ['aaa', 'aa', 'batterie']):\n",
    "        enriched += ' battery'\n",
    "        \n",
    "    return enriched\n",
    "\n",
    "# Apply that function to each row in the DataFrame to create the new 'enriched_text' column\n",
    "df['enriched_text'] = df.apply(enrich_text, axis=1)\n",
    "\n",
    "# Preview a few results to see what the enriched text looks like\n",
    "df[['name', 'categories', 'enriched_text']].head()"
   ]
  },
  {
   "cell_type": "markdown",
   "metadata": {},
   "source": [
    "Deduplicate by Product Name\n",
    "If the same product appears multiple times (with different reviews), keep only one row per product.\n"
   ]
  },
  {
   "cell_type": "code",
   "execution_count": 18,
   "metadata": {},
   "outputs": [
    {
     "name": "stdout",
     "output_type": "stream",
     "text": [
      "Unique products: 125\n"
     ]
    }
   ],
   "source": [
    "df_unique = df.drop_duplicates(subset='name').copy()\n",
    "df_unique['enriched_text'] = df_unique.apply(enrich_text, axis=1)\n",
    "print(\"Unique products:\", len(df_unique))\n"
   ]
  },
  {
   "cell_type": "markdown",
   "metadata": {},
   "source": [
    "Since we are clustering textual data (product categories), we should use a pre-trained model that understands language and semantic relationships. So for this ocassion I have choosed  **BERT-Based Sentence Embeddings** (sentence-transformers/all-MiniLM-L6-v2) that apply K-Means for grouping."
   ]
  },
  {
   "cell_type": "code",
   "execution_count": 19,
   "metadata": {},
   "outputs": [
    {
     "data": {
      "application/vnd.jupyter.widget-view+json": {
       "model_id": "24c224fab3fd4af591ea541f6e331a49",
       "version_major": 2,
       "version_minor": 0
      },
      "text/plain": [
       "Batches:   0%|          | 0/4 [00:00<?, ?it/s]"
      ]
     },
     "metadata": {},
     "output_type": "display_data"
    },
    {
     "name": "stdout",
     "output_type": "stream",
     "text": [
      "Embeddings shape: (125, 384)\n"
     ]
    }
   ],
   "source": [
    "model = SentenceTransformer('sentence-transformers/all-MiniLM-L6-v2')\n",
    "\n",
    "# Use df_unique here, not df\n",
    "embeddings = model.encode(df_unique['enriched_text'].tolist(), show_progress_bar=True)\n",
    "\n",
    "# Convert to numpy array and print shape\n",
    "embeddings = np.array(embeddings)\n",
    "print(\"Embeddings shape:\", embeddings.shape)\n"
   ]
  },
  {
   "cell_type": "markdown",
   "metadata": {},
   "source": [
    "Determine the Optimal Number of Clusters.\n",
    "We use:\n",
    "-  Elbow Method: Uses the inertia (sum of squared distances) to find the best number of clusters\n",
    "- Silhouette Score Analysis: Measures cluster cohesion and separation."
   ]
  },
  {
   "cell_type": "code",
   "execution_count": 20,
   "metadata": {},
   "outputs": [
    {
     "name": "stdout",
     "output_type": "stream",
     "text": [
      "Clustering with k = 2...\n",
      "Clustering with k = 3...\n",
      "Clustering with k = 4...\n",
      "Clustering with k = 5...\n",
      "Clustering with k = 6...\n",
      "Clustering with k = 7...\n",
      "Clustering with k = 8...\n"
     ]
    },
    {
     "name": "stderr",
     "output_type": "stream",
     "text": [
      "c:\\Users\\alvar\\AppData\\Local\\Programs\\Python\\Python313\\Lib\\site-packages\\joblib\\externals\\loky\\backend\\context.py:136: UserWarning: Could not find the number of physical cores for the following reason:\n",
      "[WinError 2] El sistema no puede encontrar el archivo especificado\n",
      "Returning the number of logical cores instead. You can silence this warning by setting LOKY_MAX_CPU_COUNT to the number of cores you want to use.\n",
      "  warnings.warn(\n",
      "  File \"c:\\Users\\alvar\\AppData\\Local\\Programs\\Python\\Python313\\Lib\\site-packages\\joblib\\externals\\loky\\backend\\context.py\", line 257, in _count_physical_cores\n",
      "    cpu_info = subprocess.run(\n",
      "        \"wmic CPU Get NumberOfCores /Format:csv\".split(),\n",
      "        capture_output=True,\n",
      "        text=True,\n",
      "    )\n",
      "  File \"c:\\Users\\alvar\\AppData\\Local\\Programs\\Python\\Python313\\Lib\\subprocess.py\", line 554, in run\n",
      "    with Popen(*popenargs, **kwargs) as process:\n",
      "         ~~~~~^^^^^^^^^^^^^^^^^^^^^^\n",
      "  File \"c:\\Users\\alvar\\AppData\\Local\\Programs\\Python\\Python313\\Lib\\subprocess.py\", line 1036, in __init__\n",
      "    self._execute_child(args, executable, preexec_fn, close_fds,\n",
      "    ~~~~~~~~~~~~~~~~~~~^^^^^^^^^^^^^^^^^^^^^^^^^^^^^^^^^^^^^^^^^\n",
      "                        pass_fds, cwd, env,\n",
      "                        ^^^^^^^^^^^^^^^^^^^\n",
      "    ...<5 lines>...\n",
      "                        gid, gids, uid, umask,\n",
      "                        ^^^^^^^^^^^^^^^^^^^^^^\n",
      "                        start_new_session, process_group)\n",
      "                        ^^^^^^^^^^^^^^^^^^^^^^^^^^^^^^^^^\n",
      "  File \"c:\\Users\\alvar\\AppData\\Local\\Programs\\Python\\Python313\\Lib\\subprocess.py\", line 1548, in _execute_child\n",
      "    hp, ht, pid, tid = _winapi.CreateProcess(executable, args,\n",
      "                       ~~~~~~~~~~~~~~~~~~~~~^^^^^^^^^^^^^^^^^^\n",
      "                             # no special security\n",
      "                             ^^^^^^^^^^^^^^^^^^^^^\n",
      "    ...<4 lines>...\n",
      "                             cwd,\n",
      "                             ^^^^\n",
      "                             startupinfo)\n",
      "                             ^^^^^^^^^^^^\n"
     ]
    },
    {
     "name": "stdout",
     "output_type": "stream",
     "text": [
      "Clustering with k = 9...\n",
      "Clustering with k = 10...\n"
     ]
    },
    {
     "data": {
      "image/png": "[encoded data removed]",
      "text/plain": [
       "<Figure size 1200x500 with 2 Axes>"
      ]
     },
     "metadata": {},
     "output_type": "display_data"
    }
   ],
   "source": [
    "# Range of cluster numbers we want to test\n",
    "k_range = range(2, 11)\n",
    "\n",
    "# Store results here\n",
    "inertias = []\n",
    "silhouette_scores = []\n",
    "\n",
    "# Loop through each k value (number of clusters)\n",
    "for k in k_range:\n",
    "    print(f\"Clustering with k = {k}...\")\n",
    "    \n",
    "    # Apply KMeans clustering\n",
    "    kmeans = KMeans(n_clusters=k, random_state=42)\n",
    "    labels = kmeans.fit_predict(embeddings)\n",
    "    \n",
    "    # Save the inertia (how compact the clusters are)\n",
    "    inertias.append(kmeans.inertia_)\n",
    "    \n",
    "    # Save the silhouette score (how well-separated the clusters are)\n",
    "    score = silhouette_score(embeddings, labels)\n",
    "    silhouette_scores.append(score)\n",
    "\n",
    "# Plot the Elbow Curve and Silhouette Scores side by side\n",
    "plt.figure(figsize=(12, 5))\n",
    "\n",
    "# Elbow plot\n",
    "plt.subplot(1, 2, 1)\n",
    "plt.plot(k_range, inertias, marker='o')\n",
    "plt.title('Elbow Method: Inertia vs. Number of Clusters')\n",
    "plt.xlabel('Number of clusters (k)')\n",
    "plt.ylabel('Inertia')\n",
    "\n",
    "# Silhouette score plot\n",
    "plt.subplot(1, 2, 2)\n",
    "plt.plot(k_range, silhouette_scores, marker='o', color='green')\n",
    "plt.title('Silhouette Score vs. Number of Clusters')\n",
    "plt.xlabel('Number of clusters (k)')\n",
    "plt.ylabel('Silhouette Score')\n",
    "\n",
    "plt.tight_layout()\n",
    "plt.show()"
   ]
  },
  {
   "cell_type": "markdown",
   "metadata": {},
   "source": [
    "##### After we decide the count of 6 clusters, we apply **K-Means Clustering**"
   ]
  },
  {
   "cell_type": "code",
   "execution_count": 21,
   "metadata": {},
   "outputs": [
    {
     "name": "stdout",
     "output_type": "stream",
     "text": [
      "Number of products per cluster:\n",
      "cluster_label\n",
      "3    34\n",
      "5    34\n",
      "1    34\n",
      "0    14\n",
      "2     5\n",
      "4     4\n",
      "Name: count, dtype: int64\n",
      "\n",
      " Cluster 0 examples:\n",
      " - AmazonBasics Silicone Hot Handle Cover/Holder - Red\n",
      " - AmazonBasics 11.6-Inch Laptop Sleeve\n",
      " - AmazonBasics Nylon CD/DVD Binder (400 Capacity)\n",
      " - AmazonBasics AA Performance Alkaline Batteries (48 Count) - Packaging May Vary\n",
      " - AmazonBasics Backpack for Laptops up to 17-inches\n",
      " - Expanding Accordion File Folder Plastic Portable Document Organizer Letter Size\n",
      " - AmazonBasics 15.6-Inch Laptop and Tablet Bag\n",
      " - AmazonBasics External Hard Drive Case\n",
      " - AmazonBasics 16-Gauge Speaker Wire - 100 Feet\n",
      " - AmazonBasics AAA Performance Alkaline Batteries (36 Count)\n",
      " - AmazonBasics USB 3.0 Cable - A-Male to B-Male - 6 Feet (1.8 Meters)\n",
      " - AmazonBasics Ventilated Adjustable Laptop Stand\n",
      " - AmazonBasics Bluetooth Keyboard for Android Devices - Black\n",
      " - AmazonBasics Nespresso Pod Storage Drawer - 50 Capsule Capacity\n",
      "\n",
      " Cluster 1 examples:\n",
      " - Fire Tablet, 7 Display, Wi-Fi, 8 GB - Includes Special Offers, Black\n",
      " - Fire Kids Edition Tablet, 7 Display, Wi-Fi, 16 GB, Pink Kid-Proof Case\n",
      " - Fire Tablet, 7 Display, Wi-Fi, 16 GB - Includes Special Offers, Black\n",
      " - Fire Kids Edition Tablet, 7 Display, Wi-Fi, 16 GB, Blue Kid-Proof Case\n",
      " - Amazon - Fire 16GB (5th Gen, 2015 Release) - Black,,,\n",
      "Amazon - Fire 16GB (5th Gen, 2015 Release) - Black,,,\n",
      " - Amazon Fire Hd 8 8in Tablet 16gb Black B018szt3bk 6th Gen (2016) Android,,,\n",
      "Amazon Fire Hd 8 8in Tablet 16gb Black B018szt3bk 6th Gen (2016) Android,,,\n",
      " - Amazon - Kindle Voyage - 4GB - Wi-Fi + 3G - Black,,,\n",
      "Fire HD 8 Tablet with Alexa, 8 HD Display, 16 GB, Tangerine - with Special Offers\",\n",
      " - Amazon Standing Protective Case for Fire HD 6 (4th Generation) - Black,,,\n",
      "Amazon Standing Protective Case for Fire HD 6 (4th Generation) - Black,,,\n",
      " - Certified Refurbished Amazon Fire TV (Previous Generation - 1st),,,\n",
      "Certified Refurbished Amazon Fire TV (Previous Generation - 1st),,,\n",
      " - Fire HD 8 Tablet with Alexa, 8 HD Display, 16 GB, Tangerine - with Special Offers,\n",
      " - Fire Tablet, 7 Display, Wi-Fi, 8 GB - Includes Special Offers, Magenta\n",
      " - Fire HD 10 Tablet, 10.1 HD Display, Wi-Fi, 16 GB - Includes Special Offers, Silver Aluminum\n",
      " - Fire Tablet with Alexa, 7 Display, 16 GB, Blue - with Special Offers\n",
      " - All-New Fire HD 8 Tablet, 8 HD Display, Wi-Fi, 16 GB - Includes Special Offers, Black\n",
      " - Fire Tablet with Alexa, 7 Display, 16 GB, Magenta - with Special Offers\n",
      " - Fire Tablet with Alexa, 7\" Display, 16 GB, Magenta - with Special Offers\n",
      " - All-New Fire HD 8 Tablet, 8 HD Display, Wi-Fi, 32 GB - Includes Special Offers, Black\n",
      " - All-New Fire HD 8 Tablet, 8\" HD Display, Wi-Fi, 32 GB - Includes Special Offers, Black\n",
      " - All-New Fire HD 8 Tablet, 8 HD Display, Wi-Fi, 32 GB - Includes Special Offers, Blue\n",
      " - All-New Fire HD 8 Tablet, 8 HD Display, Wi-Fi, 16 GB - Includes Special Offers, Blue\n",
      " - All-New Fire HD 8 Tablet, 8 HD Display, Wi-Fi, 16 GB - Includes Special Offers, Magenta\n",
      " - All-New Fire HD 8 Tablet, 8\" HD Display, Wi-Fi, 16 GB - Includes Special Offers, Magenta\n",
      " - Fire HD 8 Tablet with Alexa, 8 HD Display, 16 GB, Tangerine - with Special Offers\n",
      " - All-New Fire HD 8 Tablet, 8 HD Display, Wi-Fi, 32 GB - Includes Special Offers, Magenta\n",
      " - All-New Fire HD 8 Tablet, 8\" HD Display, Wi-Fi, 32 GB - Includes Special Offers, Magenta\n",
      " - Fire HD 8 Tablet with Alexa, 8 HD Display, 32 GB, Tangerine - with Special Offers,\n",
      " - Fire HD 8 Tablet with Alexa, 8 HD Display, 32 GB, Tangerine - with Special Offers\n",
      " - Fire HD 8 Tablet with Alexa, 8\" HD Display, 32 GB, Tangerine - with Special Offers\n",
      " - All-New Fire HD 8 Kids Edition Tablet, 8 HD Display, 32 GB, Blue Kid-Proof Case\n",
      " - All-New Fire HD 8 Kids Edition Tablet, 8 HD Display, 32 GB, Pink Kid-Proof Case\n",
      " - All-New Fire HD 8 Tablet with Alexa, 8 HD Display, 32 GB, Marine Blue - with Special Offers\n",
      " - Amazon Fire HD 8 with Alexa (8\" HD Display Tablet)\n",
      " - All-New Fire HD 8 Tablet with Alexa, 8 HD Display, 16 GB, Marine Blue - with Special Offers\n",
      " - All-New Fire 7 Tablet with Alexa, 7\" Display, 8 GB - Marine Blue\n",
      "\n",
      " Cluster 2 examples:\n",
      " - Oem Amazon Kindle Power Usb Adapter Wall Travel Charger Fire/dx/+micro Usb Cable\n",
      " - Amazon Kindle Replacement Power Adapter (Fits Latest Generation Kindle and Kindle DX) For shipment in the U.S only\n",
      " - Amazon 9W PowerFast Official OEM USB Charger and Power Adapter for Fire Tablets and Kindle eReaders\n",
      " - Amazon Kindle Charger Power Adapter Wall Charger And Usb Cable Micro Usb Cord\n",
      " - Kindle PowerFast International Charging Kit (for accelerated charging in over 200 countries)\n",
      "\n",
      " Cluster 3 examples:\n",
      " - All-New Kindle Oasis E-reader - 7 High-Resolution Display (300 ppi), Waterproof, Built-In Audible, 32 GB, Wi-Fi + Free Cellular Connectivity\n",
      " - All-New Kindle Oasis E-reader - 7 High-Resolution Display (300 ppi), Waterproof, Built-In Audible, 8 GB, Wi-Fi - Includes Special Offers\n",
      " - Amazon Kindle Paperwhite - eBook reader - 4 GB - 6 monochrome Paperwhite - touchscreen - Wi-Fi - black,,,\n",
      " - Kindle Voyage E-reader, 6 High-Resolution Display (300 ppi) with Adaptive Built-in Light, PagePress Sensors, Wi-Fi - Includes Special Offers,\n",
      " - Amazon Kindle Lighted Leather Cover,,,\n",
      "Amazon Kindle Lighted Leather Cover,,,\n",
      " - Amazon Kindle Lighted Leather Cover,,,\n",
      "Kindle Keyboard,,,\n",
      " - Kindle Keyboard,,,\n",
      "Kindle Keyboard,,,\n",
      " - Brand New Amazon Kindle Fire 16gb 7 Ips Display Tablet Wifi 16 Gb Blue,,,\n",
      " - Amazon - Kindle Voyage - 4GB - Wi-Fi + 3G - Black\n",
      " - Kindle Voyage E-reader, 6 High-Resolution Display (300 ppi) with Adaptive Built-in Light, PagePress Sensors, Free 3G + Wi-Fi - Includes Special Offers\n",
      " - Fire Kids Edition Tablet, 7 Display, Wi-Fi, 16 GB, Green Kid-Proof Case\n",
      " - Amazon - Kindle Voyage - 6\" - 4GB - Black\n",
      " - Amazon Echo and Fire TV Power Adapter,,,\n",
      "Amazon Echo and Fire TV Power Adapter,,,\n",
      " - Amazon Fire Kids Edition Tablet, 7 Display, Wi-Fi, 16 GB, Blue Kid-Proof Case - Blue\n",
      " - Certified Refurbished Amazon Fire TV Stick (Previous Generation - 1st),,,\n",
      "Certified Refurbished Amazon Fire TV Stick (Previous Generation - 1st),,,\n",
      " - Certified Refurbished Amazon Fire TV Stick (Previous Generation - 1st),,,\n",
      "Kindle Paperwhite,,,\n",
      " - Kindle Paperwhite E-reader - White, 6 High-Resolution Display (300 ppi) with Built-in Light, Wi-Fi - Includes Special Offers,,\n",
      " - Kindle Paperwhite,,,\n",
      "Kindle Paperwhite,,,\n",
      " - Kindle Voyage E-reader, 6 High-Resolution Display (300 ppi) with Adaptive Built-in Light, PagePress Sensors, Wi-Fi - Includes Special Offers\n",
      " - Amazon - Kindle Voyage - 4GB - Wi-Fi + 3G - Black,,,\n",
      "Amazon - Kindle Voyage - 4GB - Wi-Fi + 3G - Black,,,\n",
      " - Kindle Oasis E-reader with Leather Charging Cover - Black, 6 High-Resolution Display (300 ppi), Wi-Fi - Includes Special Offers,,\n",
      " - Amazon Kindle Touch Leather Case (4th Generation - 2011 Release), Olive Green,,,\n",
      "Amazon Kindle Touch Leather Case (4th Generation - 2011 Release), Olive Green,,,\n",
      " - Brand New Amazon Kindle Fire 16gb 7\" Ips Display Tablet Wifi 16 Gb Blue\n",
      " - Kindle Oasis E-reader with Leather Charging Cover - Black, 6 High-Resolution Display (300 ppi), Wi-Fi - Includes Special Offers\n",
      " - Kindle Oasis E-reader with Leather Charging Cover - Black, 6\" High-Resolution Display (300 ppi), Wi-Fi - Includes Special Offers\n",
      " - All-New Kindle E-reader - Black, 6\" Glare-Free Touchscreen Display, Wi-Fi - Includes Special Offers\n",
      " - Amazon Kindle E-Reader 6\" Wifi (8th Generation, 2016)\n",
      " - Amazon Kindle Fire Hd (3rd Generation) 8gb,,,\n",
      "Amazon Kindle Fire Hd (3rd Generation) 8gb,,,\n",
      " - Kindle Oasis E-reader with Leather Charging Cover - Merlot, 6 High-Resolution Display (300 ppi), Wi-Fi - Includes Special Offers\n",
      " - Kindle Oasis E-reader with Leather Charging Cover - Merlot, 6 High-Resolution Display (300 ppi), Wi-Fi - Includes Special Offers,,\n",
      " - Kindle Oasis E-reader with Leather Charging Cover - Walnut, 6 High-Resolution Display (300 ppi), Wi-Fi - Includes Special Offers\n",
      " - Kindle E-reader - White, 6 Glare-Free Touchscreen Display, Wi-Fi - Includes Special Offers\n",
      " - All-New Kindle E-reader - Black, 6 Glare-Free Touchscreen Display, Wi-Fi -  Includes Special Offers,,\n",
      " - All-New Kindle Oasis E-reader - 7 High-Resolution Display (300 ppi), Waterproof, Built-In Audible, 32 GB, Wi-Fi - Includes Special Offers\n",
      "\n",
      " Cluster 4 examples:\n",
      " - AmazonBasics Single-Door Folding Metal Dog Crate - Large (42x28x30 Inches)\n",
      " - AmazonBasics Double-Door Folding Metal Dog Crate - Medium (36x23x25 Inches)\n",
      " - Two Door Top Load Pet Kennel Travel Crate Dog Cat Pet Cage Carrier Box Tray 23\"\n",
      " - Cat Litter Box Covered Tray Kitten Extra Large Enclosed Hooded Hidden Toilet\n",
      "\n",
      " Cluster 5 examples:\n",
      " - Amazon Fire TV with 4K Ultra HD and Alexa Voice Remote (Pendant Design) | Streaming Media Player\n",
      " - Echo (White),,,\n",
      "Echo (White),,,\n",
      " - Amazon - Amazon Tap Portable Bluetooth and Wi-Fi Speaker - Black,,,\n",
      "Amazon - Amazon Tap Portable Bluetooth and Wi-Fi Speaker - Black,,,\n",
      " - Amazon 5W USB Official OEM Charger and Power Adapter for Fire Tablets and Kindle eReaders,,,\n",
      "Amazon 5W USB Official OEM Charger and Power Adapter for Fire Tablets and Kindle eReaders,,,\n",
      " - Amazon 9W PowerFast Official OEM USB Charger and Power Adapter for Fire Tablets and Kindle eReaders,,,\n",
      "Amazon 9W PowerFast Official OEM USB Charger and Power Adapter for Fire Tablets and Kindle eReaders,,,\n",
      " - Amazon Echo ‚Äì White\n",
      " - Amazon Fire Hd 10 Tablet, Wi-Fi, 16 Gb, Special Offers - Silver Aluminum,,,\n",
      "Amazon Fire Hd 10 Tablet, Wi-Fi, 16 Gb, Special Offers - Silver Aluminum,,,\n",
      " - Amazon Fire Hd 6 Standing Protective Case(4th Generation - 2014 Release), Cayenne Red,,,\n",
      "Amazon 5W USB Official OEM Charger and Power Adapter for Fire Tablets and Kindle eReaders,,,\n",
      " - Amazon Fire Hd 6 Standing Protective Case(4th Generation - 2014 Release), Cayenne Red,,,\n",
      "Amazon Fire Hd 6 Standing Protective Case(4th Generation - 2014 Release), Cayenne Red,,,\n",
      " - Amazon Fire Tv,,,\n",
      "Amazon Fire Tv,,,\n",
      " - Amazon Fire Tv,,,\n",
      "Kindle Dx Leather Cover, Black (fits 9.7 Display, Latest and 2nd Generation Kindle Dxs)\",,\n",
      " - Amazon Kindle Fire 5ft USB to Micro-USB Cable (works with most Micro-USB Tablets),,,\n",
      "Amazon Kindle Fire 5ft USB to Micro-USB Cable (works with most Micro-USB Tablets),,,\n",
      " - Coconut Water Red Tea 16.5 Oz (pack of 12),,,\n",
      "Amazon Fire Tv,,,\n",
      " - Echo (Black),,,\n",
      "Amazon 9W PowerFast Official OEM USB Charger and Power Adapter for Fire Tablets and Kindle eReaders,,,\n",
      " - Echo (Black),,,\n",
      "Echo (Black),,,\n",
      " - Echo (White),,,\n",
      "Fire Tablet, 7 Display, Wi-Fi, 8 GB - Includes Special Offers, Tangerine\"\n",
      " - Kindle Dx Leather Cover, Black (fits 9.7 Display, Latest and 2nd Generation Kindle Dxs),,\n",
      " - New Amazon Kindle Fire Hd 9w Powerfast Adapter Charger + Micro Usb Angle Cable,,,\n",
      "\n",
      " - New Amazon Kindle Fire Hd 9w Powerfast Adapter Charger + Micro Usb Angle Cable,,,\n",
      "New Amazon Kindle Fire Hd 9w Powerfast Adapter Charger + Micro Usb Angle Cable,,,\n",
      " - Amazon Tap - Alexa-Enabled Portable Bluetooth Speaker\n",
      " - Amazon Tap Smart Assistant Alexaenabled (black) Brand New\n",
      " - Certified Refurbished Amazon Fire TV with Alexa Voice Remote,,,\n",
      "Certified Refurbished Amazon Fire TV with Alexa Voice Remote,,,\n",
      " - Amazon Fire TV Gaming Edition Streaming Media Player\n",
      " - Echo Dot (Previous generation)\n",
      " - Amazon Echo (1st Generationcertified) Color:White Free Shipping\n",
      " - Certified Refurbished Amazon Fire TV with Alexa Voice Remote\n",
      " - Fire TV Stick Streaming Media Player Pair Kit\n",
      " - Amazon Echo Show Alexa-enabled Bluetooth Speaker with 7\" Screen\n",
      " - Amazon Echo Show - Black\n",
      " - All-new Echo (2nd Generation) with improved sound, powered by Dolby, and a new design Walnut Finish\n",
      " - Amazon - Echo Plus w/ Built-In Hub - Silver\n",
      " - Amazon Echo (2nd Generation) Smart Assistant Oak Finish Priority Shipping\n",
      " - Echo Spot Pair Kit (Black)\n",
      " - Certified Refurbished Amazon Echo\n"
     ]
    }
   ],
   "source": [
    "# Run KMeans on the reduced embeddings\n",
    "kmeans_final = KMeans(n_clusters=6, random_state=42)\n",
    "df_unique['cluster_label'] = kmeans_final.fit_predict(embeddings)\n",
    "\n",
    "# Check how many products ended up in each cluster\n",
    "print(\"Number of products per cluster:\")\n",
    "print(df_unique['cluster_label'].value_counts())\n",
    "\n",
    "# OPTIONAL: Preview a few product names from each cluster\n",
    "for label in range(6):\n",
    "    print(f\"\\n Cluster {label} examples:\")\n",
    "    sample = df_unique[df_unique['cluster_label'] == label]['name']\n",
    "    for name in sample:\n",
    "        print(f\" - {name}\")\n"
   ]
  },
  {
   "cell_type": "markdown",
   "metadata": {},
   "source": [
    "it is looking very good but I can see we can do some manual changes to intrepret the groups clearer:\n",
    "- Cluster 2 is completely related to e-books so we can put them together.\n",
    "- Cluster 4 is insignificant so we can merge it to cluster 0\n",
    "- After this we named the clusters."
   ]
  },
  {
   "cell_type": "code",
   "execution_count": 22,
   "metadata": {},
   "outputs": [
    {
     "data": {
      "text/plain": [
       "cluster_label\n",
       "0    18\n",
       "1    34\n",
       "3    39\n",
       "5    34\n",
       "Name: count, dtype: int64"
      ]
     },
     "execution_count": 22,
     "metadata": {},
     "output_type": "execute_result"
    }
   ],
   "source": [
    "\n",
    "# Reassign all items from cluster 2 to cluster 3\n",
    "df_unique.loc[df_unique['cluster_label'] == 2, 'cluster_label'] = 3\n",
    "df_unique.loc[df_unique['cluster_label'] == 4, 'cluster_label'] = 0\n",
    "\n",
    "# Update cluster names after reassignment\n",
    "cluster_name_map_updated = {\n",
    "    0: \"Batteries & Accesories mix (AmazonBasics)\",\n",
    "    1: \"Tablets\",\n",
    "    3: \"E-Readers & Kindle Accessories\",\n",
    "    5: \"Smart Devices & Streaming\"\n",
    "}\n",
    "\n",
    "# Apply updated names\n",
    "df_unique['cluster_name'] = df_unique['cluster_label'].map(cluster_name_map_updated)\n",
    "\n",
    "# Show updated distribution\n",
    "updated_distribution = df_unique['cluster_label'].value_counts().sort_index()\n",
    "updated_distribution"
   ]
  },
  {
   "cell_type": "markdown",
   "metadata": {},
   "source": [
    "Lets visualize the clusters in a 2D map"
   ]
  },
  {
   "cell_type": "code",
   "execution_count": 23,
   "metadata": {},
   "outputs": [
    {
     "data": {
      "image/png": "[encoded data removed]",
      "text/plain": [
       "<Figure size 1000x700 with 1 Axes>"
      ]
     },
     "metadata": {},
     "output_type": "display_data"
    }
   ],
   "source": [
    "# Reduce from 50D → 2D for visualization\n",
    "pca_2d = PCA(n_components=2, random_state=42)\n",
    "embedding_2d = pca_2d.fit_transform(embeddings)\n",
    "\n",
    "# Add coordinates to DataFrame\n",
    "df_unique['x'] = embedding_2d[:, 0]\n",
    "df_unique['y'] = embedding_2d[:, 1]\n",
    "\n",
    "# Plot clusters\n",
    "plt.figure(figsize=(10, 7))\n",
    "sns.scatterplot(data=df_unique, x='x', y='y', hue='cluster_label', palette='tab10', s=50)\n",
    "plt.title(\"2D PCA Visualization of Product Clusters\")\n",
    "plt.legend(title='Cluster')\n",
    "plt.show()"
   ]
  },
  {
   "cell_type": "code",
   "execution_count": 24,
   "metadata": {},
   "outputs": [
    {
     "name": "stdout",
     "output_type": "stream",
     "text": [
      "<class 'pandas.core.frame.DataFrame'>\n",
      "Index: 125 entries, 0 to 59039\n",
      "Data columns (total 4 columns):\n",
      " #   Column          Non-Null Count  Dtype  \n",
      "---  ------          --------------  -----  \n",
      " 0   name            125 non-null    object \n",
      " 1   cluster_label   125 non-null    int32  \n",
      " 2   review          125 non-null    object \n",
      " 3   reviews.rating  125 non-null    float64\n",
      "dtypes: float64(1), int32(1), object(2)\n",
      "memory usage: 4.4+ KB\n",
      "None\n",
      "                                                  name  cluster_label  \\\n",
      "0    All-New Kindle Oasis E-reader - 7 High-Resolut...              3   \n",
      "4    All-New Kindle Oasis E-reader - 7 High-Resolut...              3   \n",
      "26   Amazon Fire TV with 4K Ultra HD and Alexa Voic...              5   \n",
      "30                  Echo (White),,,\\r\\nEcho (White),,,              5   \n",
      "402  Amazon Kindle Paperwhite - eBook reader - 4 GB...              3   \n",
      "\n",
      "                                                review  reviews.rating  \n",
      "0    Great device for reading. Definately pricey.. ...             5.0  \n",
      "4    So much to love, but slippery. Love bigger scr...             4.0  \n",
      "26   No Title. Really cool device! Instantly notice...             5.0  \n",
      "30   Good for the price!!!. Good for the price hard...             5.0  \n",
      "402  Great for what it's meant to be..... Light, ba...             5.0  \n"
     ]
    }
   ],
   "source": [
    "# Create a final DataFrame with the required columns\n",
    "df_final = df_unique[['name', 'cluster_label', 'review', 'reviews.rating']].copy()\n",
    "print(df_final.info())\n",
    "print(df_final.head())"
   ]
  },
  {
   "cell_type": "markdown",
   "metadata": {},
   "source": [
    "We merged all reviews (every row from the original data), but with the appropriate cluster name added based on their associated product."
   ]
  },
  {
   "cell_type": "code",
   "execution_count": 25,
   "metadata": {},
   "outputs": [],
   "source": [
    "cluster_map = df_unique[['name', 'cluster_name']]\n",
    "\n",
    "df_full_clustered = df.merge(cluster_map, on='name', how='left')\n",
    "\n",
    "final_view = df_full_clustered[['name', 'cluster_name', 'review', 'reviews.rating', 'sentiment']]\n",
    "\n"
   ]
  },
  {
   "cell_type": "code",
   "execution_count": 26,
   "metadata": {},
   "outputs": [],
   "source": [
    "# Save to CSV\n",
    "final_view.to_csv(\"full_reviews_with_clusters.csv\", index=False)"
   ]
  },
  {
   "cell_type": "markdown",
   "metadata": {},
   "source": []
  }
 ],
 "metadata": {
  "kernelspec": {
   "display_name": "Python 3",
   "language": "python",
   "name": "python3"
  },
  "language_info": {
   "codemirror_mode": {
    "name": "ipython",
    "version": 3
   },
   "file_extension": ".py",
   "mimetype": "text/x-python",
   "name": "python",
   "nbconvert_exporter": "python",
   "pygments_lexer": "ipython3",
   "version": "3.13.1"
  }
 },
 "nbformat": 4,
 "nbformat_minor": 2
}
