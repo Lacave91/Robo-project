{
 "cells": [
  {
   "cell_type": "markdown",
   "metadata": {},
   "source": [
    "## **Part 0 - Data preprocessing**\n",
    "\n",
    "We are using this reviews for our dataset:  \n",
    "[Consumer Reviews of Amazon Products](https://www.kaggle.com/datasets/datafiniti/consumer-reviews-of-amazon-products/data)"
   ]
  },
  {
   "cell_type": "markdown",
   "metadata": {},
   "source": [
    "#### Imports"
   ]
  },
  {
   "cell_type": "code",
   "execution_count": null,
   "metadata": {},
   "outputs": [],
   "source": [
    "import pandas as pd\n",
    "import matplotlib.pyplot as plt"
   ]
  },
  {
   "cell_type": "markdown",
   "metadata": {},
   "source": [
    "#### Load the dataset"
   ]
  },
  {
   "cell_type": "code",
   "execution_count": 2,
   "metadata": {},
   "outputs": [
    {
     "name": "stdout",
     "output_type": "stream",
     "text": [
      "rows/columns:  (67992, 27)\n",
      "Column names:  Index(['id', 'name', 'asins', 'brand', 'categories', 'keys', 'manufacturer',\n",
      "       'reviews.date', 'reviews.dateAdded', 'reviews.dateSeen',\n",
      "       'reviews.didPurchase', 'reviews.doRecommend', 'reviews.id',\n",
      "       'reviews.numHelpful', 'reviews.rating', 'reviews.sourceURLs',\n",
      "       'reviews.text', 'reviews.title', 'reviews.userCity',\n",
      "       'reviews.userProvince', 'reviews.username', 'dateAdded', 'dateUpdated',\n",
      "       'primaryCategories', 'imageURLs', 'manufacturerNumber', 'sourceURLs'],\n",
      "      dtype='object')\n"
     ]
    },
    {
     "data": {
      "text/html": [
       "<div>\n",
       "<style scoped>\n",
       "    .dataframe tbody tr th:only-of-type {\n",
       "        vertical-align: middle;\n",
       "    }\n",
       "\n",
       "    .dataframe tbody tr th {\n",
       "        vertical-align: top;\n",
       "    }\n",
       "\n",
       "    .dataframe thead th {\n",
       "        text-align: right;\n",
       "    }\n",
       "</style>\n",
       "<table border=\"1\" class=\"dataframe\">\n",
       "  <thead>\n",
       "    <tr style=\"text-align: right;\">\n",
       "      <th></th>\n",
       "      <th>id</th>\n",
       "      <th>name</th>\n",
       "      <th>asins</th>\n",
       "      <th>brand</th>\n",
       "      <th>categories</th>\n",
       "      <th>keys</th>\n",
       "      <th>manufacturer</th>\n",
       "      <th>reviews.date</th>\n",
       "      <th>reviews.dateAdded</th>\n",
       "      <th>reviews.dateSeen</th>\n",
       "      <th>...</th>\n",
       "      <th>reviews.title</th>\n",
       "      <th>reviews.userCity</th>\n",
       "      <th>reviews.userProvince</th>\n",
       "      <th>reviews.username</th>\n",
       "      <th>dateAdded</th>\n",
       "      <th>dateUpdated</th>\n",
       "      <th>primaryCategories</th>\n",
       "      <th>imageURLs</th>\n",
       "      <th>manufacturerNumber</th>\n",
       "      <th>sourceURLs</th>\n",
       "    </tr>\n",
       "  </thead>\n",
       "  <tbody>\n",
       "    <tr>\n",
       "      <th>0</th>\n",
       "      <td>AV-ETMhgYSSHbkXwpNb9</td>\n",
       "      <td>All-New Kindle Oasis E-reader - 7 High-Resolut...</td>\n",
       "      <td>B06VTJWRJW</td>\n",
       "      <td>Amazon</td>\n",
       "      <td>Featured Brands,E-Readers &amp; Accessories,EBook ...</td>\n",
       "      <td>amazon/53006390,amazon/b06vtjwrjw,841667188416...</td>\n",
       "      <td>Amazon</td>\n",
       "      <td>2017-11-04T00:00:00.000Z</td>\n",
       "      <td>NaN</td>\n",
       "      <td>2018-05-26T00:00:00Z</td>\n",
       "      <td>...</td>\n",
       "      <td>Great device for reading. Definately pricey.</td>\n",
       "      <td>NaN</td>\n",
       "      <td>NaN</td>\n",
       "      <td>MiketheD</td>\n",
       "      <td>2017-11-03T23:17:55Z</td>\n",
       "      <td>2019-02-25T02:27:15Z</td>\n",
       "      <td>Electronics,Media</td>\n",
       "      <td>https://pisces.bbystatic.com/image2/BestBuy_US...</td>\n",
       "      <td>53-006390</td>\n",
       "      <td>https://www.barcodable.com/upc/841667188416,ht...</td>\n",
       "    </tr>\n",
       "    <tr>\n",
       "      <th>1</th>\n",
       "      <td>AV-ETMhgYSSHbkXwpNb9</td>\n",
       "      <td>All-New Kindle Oasis E-reader - 7 High-Resolut...</td>\n",
       "      <td>B06VTJWRJW</td>\n",
       "      <td>Amazon</td>\n",
       "      <td>Featured Brands,E-Readers &amp; Accessories,EBook ...</td>\n",
       "      <td>amazon/53006390,amazon/b06vtjwrjw,841667188416...</td>\n",
       "      <td>Amazon</td>\n",
       "      <td>2017-11-10T00:00:00.000Z</td>\n",
       "      <td>NaN</td>\n",
       "      <td>2018-05-26T00:00:00Z</td>\n",
       "      <td>...</td>\n",
       "      <td>Excellent Kindle</td>\n",
       "      <td>NaN</td>\n",
       "      <td>NaN</td>\n",
       "      <td>DonA</td>\n",
       "      <td>2017-11-03T23:17:55Z</td>\n",
       "      <td>2019-02-25T02:27:15Z</td>\n",
       "      <td>Electronics,Media</td>\n",
       "      <td>https://pisces.bbystatic.com/image2/BestBuy_US...</td>\n",
       "      <td>53-006390</td>\n",
       "      <td>https://www.barcodable.com/upc/841667188416,ht...</td>\n",
       "    </tr>\n",
       "    <tr>\n",
       "      <th>2</th>\n",
       "      <td>AV-ETMhgYSSHbkXwpNb9</td>\n",
       "      <td>All-New Kindle Oasis E-reader - 7 High-Resolut...</td>\n",
       "      <td>B06VTJWRJW</td>\n",
       "      <td>Amazon</td>\n",
       "      <td>Featured Brands,E-Readers &amp; Accessories,EBook ...</td>\n",
       "      <td>amazon/53006390,amazon/b06vtjwrjw,841667188416...</td>\n",
       "      <td>Amazon</td>\n",
       "      <td>2017-12-20T00:00:00.000Z</td>\n",
       "      <td>NaN</td>\n",
       "      <td>2018-05-26T00:00:00Z</td>\n",
       "      <td>...</td>\n",
       "      <td>Love it</td>\n",
       "      <td>NaN</td>\n",
       "      <td>NaN</td>\n",
       "      <td>puglover</td>\n",
       "      <td>2017-11-03T23:17:55Z</td>\n",
       "      <td>2019-02-25T02:27:15Z</td>\n",
       "      <td>Electronics,Media</td>\n",
       "      <td>https://pisces.bbystatic.com/image2/BestBuy_US...</td>\n",
       "      <td>53-006390</td>\n",
       "      <td>https://www.barcodable.com/upc/841667188416,ht...</td>\n",
       "    </tr>\n",
       "    <tr>\n",
       "      <th>3</th>\n",
       "      <td>AV-ETMhgYSSHbkXwpNb9</td>\n",
       "      <td>All-New Kindle Oasis E-reader - 7 High-Resolut...</td>\n",
       "      <td>B06VTJWRJW</td>\n",
       "      <td>Amazon</td>\n",
       "      <td>Featured Brands,E-Readers &amp; Accessories,EBook ...</td>\n",
       "      <td>amazon/53006390,amazon/b06vtjwrjw,841667188416...</td>\n",
       "      <td>Amazon</td>\n",
       "      <td>2017-12-23T00:00:00.000Z</td>\n",
       "      <td>NaN</td>\n",
       "      <td>2018-05-26T00:00:00Z</td>\n",
       "      <td>...</td>\n",
       "      <td>Good kindle</td>\n",
       "      <td>NaN</td>\n",
       "      <td>NaN</td>\n",
       "      <td>Bitis13</td>\n",
       "      <td>2017-11-03T23:17:55Z</td>\n",
       "      <td>2019-02-25T02:27:15Z</td>\n",
       "      <td>Electronics,Media</td>\n",
       "      <td>https://pisces.bbystatic.com/image2/BestBuy_US...</td>\n",
       "      <td>53-006390</td>\n",
       "      <td>https://www.barcodable.com/upc/841667188416,ht...</td>\n",
       "    </tr>\n",
       "    <tr>\n",
       "      <th>4</th>\n",
       "      <td>AV-EVZITKZqtpbFMSoqc</td>\n",
       "      <td>All-New Kindle Oasis E-reader - 7 High-Resolut...</td>\n",
       "      <td>B06XD5YCKX</td>\n",
       "      <td>Amazon</td>\n",
       "      <td>EBook Readers,Tablets,Electronics,Amazon Eread...</td>\n",
       "      <td>841667176819,amazon/53051929,amazonkindleoasis...</td>\n",
       "      <td>Amazon</td>\n",
       "      <td>2017-11-15T00:00:00.000Z</td>\n",
       "      <td>NaN</td>\n",
       "      <td>2018-05-27T00:00:00Z</td>\n",
       "      <td>...</td>\n",
       "      <td>So much to love, but slippery</td>\n",
       "      <td>NaN</td>\n",
       "      <td>NaN</td>\n",
       "      <td>sdross1968</td>\n",
       "      <td>2017-11-03T23:17:55Z</td>\n",
       "      <td>2019-02-25T02:05:55Z</td>\n",
       "      <td>Electronics,Media</td>\n",
       "      <td>https://target.scene7.com/is/image/Target/5305...</td>\n",
       "      <td>53-006476</td>\n",
       "      <td>https://www.newegg.com/Product/Product.aspx%25...</td>\n",
       "    </tr>\n",
       "    <tr>\n",
       "      <th>5</th>\n",
       "      <td>AV-EVZITKZqtpbFMSoqc</td>\n",
       "      <td>All-New Kindle Oasis E-reader - 7 High-Resolut...</td>\n",
       "      <td>B06XD5YCKX</td>\n",
       "      <td>Amazon</td>\n",
       "      <td>EBook Readers,Tablets,Electronics,Amazon Eread...</td>\n",
       "      <td>841667176819,amazon/53051929,amazonkindleoasis...</td>\n",
       "      <td>Amazon</td>\n",
       "      <td>2017-12-09T00:00:00.000Z</td>\n",
       "      <td>NaN</td>\n",
       "      <td>2018-05-27T00:00:00Z</td>\n",
       "      <td>...</td>\n",
       "      <td>Expensive but nice</td>\n",
       "      <td>NaN</td>\n",
       "      <td>NaN</td>\n",
       "      <td>mar1saaaa</td>\n",
       "      <td>2017-11-03T23:17:55Z</td>\n",
       "      <td>2019-02-25T02:05:55Z</td>\n",
       "      <td>Electronics,Media</td>\n",
       "      <td>https://target.scene7.com/is/image/Target/5305...</td>\n",
       "      <td>53-006476</td>\n",
       "      <td>https://www.newegg.com/Product/Product.aspx%25...</td>\n",
       "    </tr>\n",
       "    <tr>\n",
       "      <th>6</th>\n",
       "      <td>AV-EVZITKZqtpbFMSoqc</td>\n",
       "      <td>All-New Kindle Oasis E-reader - 7 High-Resolut...</td>\n",
       "      <td>B06XD5YCKX</td>\n",
       "      <td>Amazon</td>\n",
       "      <td>EBook Readers,Tablets,Electronics,Amazon Eread...</td>\n",
       "      <td>841667176819,amazon/53051929,amazonkindleoasis...</td>\n",
       "      <td>Amazon</td>\n",
       "      <td>2017-12-10T00:00:00.000Z</td>\n",
       "      <td>NaN</td>\n",
       "      <td>2018-05-27T00:00:00Z</td>\n",
       "      <td>...</td>\n",
       "      <td>Like it</td>\n",
       "      <td>NaN</td>\n",
       "      <td>NaN</td>\n",
       "      <td>kcladyz</td>\n",
       "      <td>2017-11-03T23:17:55Z</td>\n",
       "      <td>2019-02-25T02:05:55Z</td>\n",
       "      <td>Electronics,Media</td>\n",
       "      <td>https://target.scene7.com/is/image/Target/5305...</td>\n",
       "      <td>53-006476</td>\n",
       "      <td>https://www.newegg.com/Product/Product.aspx%25...</td>\n",
       "    </tr>\n",
       "    <tr>\n",
       "      <th>7</th>\n",
       "      <td>AV-EVZITKZqtpbFMSoqc</td>\n",
       "      <td>All-New Kindle Oasis E-reader - 7 High-Resolut...</td>\n",
       "      <td>B06XD5YCKX</td>\n",
       "      <td>Amazon</td>\n",
       "      <td>EBook Readers,Tablets,Electronics,Amazon Eread...</td>\n",
       "      <td>841667176819,amazon/53051929,amazonkindleoasis...</td>\n",
       "      <td>Amazon</td>\n",
       "      <td>2017-12-16T00:00:00.000Z</td>\n",
       "      <td>NaN</td>\n",
       "      <td>2018-05-27T00:00:00Z</td>\n",
       "      <td>...</td>\n",
       "      <td>Love it!</td>\n",
       "      <td>NaN</td>\n",
       "      <td>NaN</td>\n",
       "      <td>Janvib0311</td>\n",
       "      <td>2017-11-03T23:17:55Z</td>\n",
       "      <td>2019-02-25T02:05:55Z</td>\n",
       "      <td>Electronics,Media</td>\n",
       "      <td>https://target.scene7.com/is/image/Target/5305...</td>\n",
       "      <td>53-006476</td>\n",
       "      <td>https://www.newegg.com/Product/Product.aspx%25...</td>\n",
       "    </tr>\n",
       "    <tr>\n",
       "      <th>8</th>\n",
       "      <td>AV-EVZITKZqtpbFMSoqc</td>\n",
       "      <td>All-New Kindle Oasis E-reader - 7 High-Resolut...</td>\n",
       "      <td>B06XD5YCKX</td>\n",
       "      <td>Amazon</td>\n",
       "      <td>EBook Readers,Tablets,Electronics,Amazon Eread...</td>\n",
       "      <td>841667176819,amazon/53051929,amazonkindleoasis...</td>\n",
       "      <td>Amazon</td>\n",
       "      <td>2017-12-21T00:00:00.000Z</td>\n",
       "      <td>NaN</td>\n",
       "      <td>2018-05-27T00:00:00Z</td>\n",
       "      <td>...</td>\n",
       "      <td>You get what you pay for</td>\n",
       "      <td>NaN</td>\n",
       "      <td>NaN</td>\n",
       "      <td>Gunther</td>\n",
       "      <td>2017-11-03T23:17:55Z</td>\n",
       "      <td>2019-02-25T02:05:55Z</td>\n",
       "      <td>Electronics,Media</td>\n",
       "      <td>https://target.scene7.com/is/image/Target/5305...</td>\n",
       "      <td>53-006476</td>\n",
       "      <td>https://www.newegg.com/Product/Product.aspx%25...</td>\n",
       "    </tr>\n",
       "    <tr>\n",
       "      <th>9</th>\n",
       "      <td>AV-EVZITKZqtpbFMSoqc</td>\n",
       "      <td>All-New Kindle Oasis E-reader - 7 High-Resolut...</td>\n",
       "      <td>B06XD5YCKX</td>\n",
       "      <td>Amazon</td>\n",
       "      <td>EBook Readers,Tablets,Electronics,Amazon Eread...</td>\n",
       "      <td>841667176819,amazon/53051929,amazonkindleoasis...</td>\n",
       "      <td>Amazon</td>\n",
       "      <td>2017-12-29T00:00:00.000Z</td>\n",
       "      <td>NaN</td>\n",
       "      <td>2018-05-27T00:00:00Z</td>\n",
       "      <td>...</td>\n",
       "      <td>Best Kindle ever....</td>\n",
       "      <td>NaN</td>\n",
       "      <td>NaN</td>\n",
       "      <td>Rich5814</td>\n",
       "      <td>2017-11-03T23:17:55Z</td>\n",
       "      <td>2019-02-25T02:05:55Z</td>\n",
       "      <td>Electronics,Media</td>\n",
       "      <td>https://target.scene7.com/is/image/Target/5305...</td>\n",
       "      <td>53-006476</td>\n",
       "      <td>https://www.newegg.com/Product/Product.aspx%25...</td>\n",
       "    </tr>\n",
       "  </tbody>\n",
       "</table>\n",
       "<p>10 rows × 27 columns</p>\n",
       "</div>"
      ],
      "text/plain": [
       "                     id                                               name  \\\n",
       "0  AV-ETMhgYSSHbkXwpNb9  All-New Kindle Oasis E-reader - 7 High-Resolut...   \n",
       "1  AV-ETMhgYSSHbkXwpNb9  All-New Kindle Oasis E-reader - 7 High-Resolut...   \n",
       "2  AV-ETMhgYSSHbkXwpNb9  All-New Kindle Oasis E-reader - 7 High-Resolut...   \n",
       "3  AV-ETMhgYSSHbkXwpNb9  All-New Kindle Oasis E-reader - 7 High-Resolut...   \n",
       "4  AV-EVZITKZqtpbFMSoqc  All-New Kindle Oasis E-reader - 7 High-Resolut...   \n",
       "5  AV-EVZITKZqtpbFMSoqc  All-New Kindle Oasis E-reader - 7 High-Resolut...   \n",
       "6  AV-EVZITKZqtpbFMSoqc  All-New Kindle Oasis E-reader - 7 High-Resolut...   \n",
       "7  AV-EVZITKZqtpbFMSoqc  All-New Kindle Oasis E-reader - 7 High-Resolut...   \n",
       "8  AV-EVZITKZqtpbFMSoqc  All-New Kindle Oasis E-reader - 7 High-Resolut...   \n",
       "9  AV-EVZITKZqtpbFMSoqc  All-New Kindle Oasis E-reader - 7 High-Resolut...   \n",
       "\n",
       "        asins   brand                                         categories  \\\n",
       "0  B06VTJWRJW  Amazon  Featured Brands,E-Readers & Accessories,EBook ...   \n",
       "1  B06VTJWRJW  Amazon  Featured Brands,E-Readers & Accessories,EBook ...   \n",
       "2  B06VTJWRJW  Amazon  Featured Brands,E-Readers & Accessories,EBook ...   \n",
       "3  B06VTJWRJW  Amazon  Featured Brands,E-Readers & Accessories,EBook ...   \n",
       "4  B06XD5YCKX  Amazon  EBook Readers,Tablets,Electronics,Amazon Eread...   \n",
       "5  B06XD5YCKX  Amazon  EBook Readers,Tablets,Electronics,Amazon Eread...   \n",
       "6  B06XD5YCKX  Amazon  EBook Readers,Tablets,Electronics,Amazon Eread...   \n",
       "7  B06XD5YCKX  Amazon  EBook Readers,Tablets,Electronics,Amazon Eread...   \n",
       "8  B06XD5YCKX  Amazon  EBook Readers,Tablets,Electronics,Amazon Eread...   \n",
       "9  B06XD5YCKX  Amazon  EBook Readers,Tablets,Electronics,Amazon Eread...   \n",
       "\n",
       "                                                keys manufacturer  \\\n",
       "0  amazon/53006390,amazon/b06vtjwrjw,841667188416...       Amazon   \n",
       "1  amazon/53006390,amazon/b06vtjwrjw,841667188416...       Amazon   \n",
       "2  amazon/53006390,amazon/b06vtjwrjw,841667188416...       Amazon   \n",
       "3  amazon/53006390,amazon/b06vtjwrjw,841667188416...       Amazon   \n",
       "4  841667176819,amazon/53051929,amazonkindleoasis...       Amazon   \n",
       "5  841667176819,amazon/53051929,amazonkindleoasis...       Amazon   \n",
       "6  841667176819,amazon/53051929,amazonkindleoasis...       Amazon   \n",
       "7  841667176819,amazon/53051929,amazonkindleoasis...       Amazon   \n",
       "8  841667176819,amazon/53051929,amazonkindleoasis...       Amazon   \n",
       "9  841667176819,amazon/53051929,amazonkindleoasis...       Amazon   \n",
       "\n",
       "               reviews.date reviews.dateAdded      reviews.dateSeen  ...  \\\n",
       "0  2017-11-04T00:00:00.000Z               NaN  2018-05-26T00:00:00Z  ...   \n",
       "1  2017-11-10T00:00:00.000Z               NaN  2018-05-26T00:00:00Z  ...   \n",
       "2  2017-12-20T00:00:00.000Z               NaN  2018-05-26T00:00:00Z  ...   \n",
       "3  2017-12-23T00:00:00.000Z               NaN  2018-05-26T00:00:00Z  ...   \n",
       "4  2017-11-15T00:00:00.000Z               NaN  2018-05-27T00:00:00Z  ...   \n",
       "5  2017-12-09T00:00:00.000Z               NaN  2018-05-27T00:00:00Z  ...   \n",
       "6  2017-12-10T00:00:00.000Z               NaN  2018-05-27T00:00:00Z  ...   \n",
       "7  2017-12-16T00:00:00.000Z               NaN  2018-05-27T00:00:00Z  ...   \n",
       "8  2017-12-21T00:00:00.000Z               NaN  2018-05-27T00:00:00Z  ...   \n",
       "9  2017-12-29T00:00:00.000Z               NaN  2018-05-27T00:00:00Z  ...   \n",
       "\n",
       "                                  reviews.title reviews.userCity  \\\n",
       "0  Great device for reading. Definately pricey.              NaN   \n",
       "1                              Excellent Kindle              NaN   \n",
       "2                                       Love it              NaN   \n",
       "3                                   Good kindle              NaN   \n",
       "4                 So much to love, but slippery              NaN   \n",
       "5                            Expensive but nice              NaN   \n",
       "6                                       Like it              NaN   \n",
       "7                                      Love it!              NaN   \n",
       "8                      You get what you pay for              NaN   \n",
       "9                          Best Kindle ever....              NaN   \n",
       "\n",
       "   reviews.userProvince  reviews.username             dateAdded  \\\n",
       "0                   NaN          MiketheD  2017-11-03T23:17:55Z   \n",
       "1                   NaN              DonA  2017-11-03T23:17:55Z   \n",
       "2                   NaN          puglover  2017-11-03T23:17:55Z   \n",
       "3                   NaN           Bitis13  2017-11-03T23:17:55Z   \n",
       "4                   NaN        sdross1968  2017-11-03T23:17:55Z   \n",
       "5                   NaN         mar1saaaa  2017-11-03T23:17:55Z   \n",
       "6                   NaN           kcladyz  2017-11-03T23:17:55Z   \n",
       "7                   NaN        Janvib0311  2017-11-03T23:17:55Z   \n",
       "8                   NaN           Gunther  2017-11-03T23:17:55Z   \n",
       "9                   NaN          Rich5814  2017-11-03T23:17:55Z   \n",
       "\n",
       "            dateUpdated  primaryCategories  \\\n",
       "0  2019-02-25T02:27:15Z  Electronics,Media   \n",
       "1  2019-02-25T02:27:15Z  Electronics,Media   \n",
       "2  2019-02-25T02:27:15Z  Electronics,Media   \n",
       "3  2019-02-25T02:27:15Z  Electronics,Media   \n",
       "4  2019-02-25T02:05:55Z  Electronics,Media   \n",
       "5  2019-02-25T02:05:55Z  Electronics,Media   \n",
       "6  2019-02-25T02:05:55Z  Electronics,Media   \n",
       "7  2019-02-25T02:05:55Z  Electronics,Media   \n",
       "8  2019-02-25T02:05:55Z  Electronics,Media   \n",
       "9  2019-02-25T02:05:55Z  Electronics,Media   \n",
       "\n",
       "                                           imageURLs  manufacturerNumber  \\\n",
       "0  https://pisces.bbystatic.com/image2/BestBuy_US...           53-006390   \n",
       "1  https://pisces.bbystatic.com/image2/BestBuy_US...           53-006390   \n",
       "2  https://pisces.bbystatic.com/image2/BestBuy_US...           53-006390   \n",
       "3  https://pisces.bbystatic.com/image2/BestBuy_US...           53-006390   \n",
       "4  https://target.scene7.com/is/image/Target/5305...           53-006476   \n",
       "5  https://target.scene7.com/is/image/Target/5305...           53-006476   \n",
       "6  https://target.scene7.com/is/image/Target/5305...           53-006476   \n",
       "7  https://target.scene7.com/is/image/Target/5305...           53-006476   \n",
       "8  https://target.scene7.com/is/image/Target/5305...           53-006476   \n",
       "9  https://target.scene7.com/is/image/Target/5305...           53-006476   \n",
       "\n",
       "                                          sourceURLs  \n",
       "0  https://www.barcodable.com/upc/841667188416,ht...  \n",
       "1  https://www.barcodable.com/upc/841667188416,ht...  \n",
       "2  https://www.barcodable.com/upc/841667188416,ht...  \n",
       "3  https://www.barcodable.com/upc/841667188416,ht...  \n",
       "4  https://www.newegg.com/Product/Product.aspx%25...  \n",
       "5  https://www.newegg.com/Product/Product.aspx%25...  \n",
       "6  https://www.newegg.com/Product/Product.aspx%25...  \n",
       "7  https://www.newegg.com/Product/Product.aspx%25...  \n",
       "8  https://www.newegg.com/Product/Product.aspx%25...  \n",
       "9  https://www.newegg.com/Product/Product.aspx%25...  \n",
       "\n",
       "[10 rows x 27 columns]"
      ]
     },
     "execution_count": 2,
     "metadata": {},
     "output_type": "execute_result"
    }
   ],
   "source": [
    "dataset_path = [r'.\\Dataset\\1429_1.csv',\n",
    "                r'.\\Dataset\\Datafiniti_Amazon_Consumer_Reviews_of_Amazon_Products.csv',\n",
    "                r'.\\Dataset\\Datafiniti_Amazon_Consumer_Reviews_of_Amazon_Products_May19.csv'\n",
    "                ]\n",
    "data = pd.DataFrame() \n",
    "\n",
    "for path in dataset_path:\n",
    "    df = pd.read_csv(path, low_memory=False)\n",
    "    data = pd.merge(data, df, how='outer') if not data.empty else df\n",
    "\n",
    "# reset index\n",
    "data.reset_index(drop=True, inplace=True)\n",
    "\n",
    "# print dataset shape\n",
    "print('rows/columns: ', data.shape)\n",
    "# print dataset columns names\n",
    "print('Column names: ', data.columns)\n",
    "# print dataset first 10 rows\n",
    "data.head(10)"
   ]
  },
  {
   "cell_type": "code",
   "execution_count": 3,
   "metadata": {},
   "outputs": [
    {
     "name": "stdout",
     "output_type": "stream",
     "text": [
      "<class 'pandas.core.frame.DataFrame'>\n",
      "RangeIndex: 67992 entries, 0 to 67991\n",
      "Data columns (total 27 columns):\n",
      " #   Column                Non-Null Count  Dtype  \n",
      "---  ------                --------------  -----  \n",
      " 0   id                    67992 non-null  object \n",
      " 1   name                  61232 non-null  object \n",
      " 2   asins                 67990 non-null  object \n",
      " 3   brand                 67992 non-null  object \n",
      " 4   categories            67992 non-null  object \n",
      " 5   keys                  67992 non-null  object \n",
      " 6   manufacturer          67992 non-null  object \n",
      " 7   reviews.date          67953 non-null  object \n",
      " 8   reviews.dateAdded     25091 non-null  object \n",
      " 9   reviews.dateSeen      67992 non-null  object \n",
      " 10  reviews.didPurchase   10 non-null     object \n",
      " 11  reviews.doRecommend   55152 non-null  object \n",
      " 12  reviews.id            71 non-null     float64\n",
      " 13  reviews.numHelpful    55246 non-null  float64\n",
      " 14  reviews.rating        67959 non-null  float64\n",
      " 15  reviews.sourceURLs    67992 non-null  object \n",
      " 16  reviews.text          67991 non-null  object \n",
      " 17  reviews.title         67973 non-null  object \n",
      " 18  reviews.userCity      0 non-null      float64\n",
      " 19  reviews.userProvince  0 non-null      float64\n",
      " 20  reviews.username      67979 non-null  object \n",
      " 21  dateAdded             33332 non-null  object \n",
      " 22  dateUpdated           33332 non-null  object \n",
      " 23  primaryCategories     33332 non-null  object \n",
      " 24  imageURLs             33332 non-null  object \n",
      " 25  manufacturerNumber    33332 non-null  object \n",
      " 26  sourceURLs            33332 non-null  object \n",
      "dtypes: float64(5), object(22)\n",
      "memory usage: 14.0+ MB\n"
     ]
    }
   ],
   "source": [
    "# print main data information\n",
    "data.info()"
   ]
  },
  {
   "cell_type": "markdown",
   "metadata": {},
   "source": [
    "#### After the examination, we can start of **cleaning the data**.\n",
    "\n",
    "We keep the important columns, we can remove the rest."
   ]
  },
  {
   "cell_type": "code",
   "execution_count": 4,
   "metadata": {},
   "outputs": [
    {
     "name": "stdout",
     "output_type": "stream",
     "text": [
      "New shape of the data: (67992, 8)\n",
      "Actual columns: ['name', 'brand', 'categories', 'reviews.doRecommend', 'reviews.numHelpful', 'reviews.rating', 'reviews.text', 'reviews.title']\n"
     ]
    }
   ],
   "source": [
    "# we drop the columns\n",
    "\n",
    "cols_to_drop = [\n",
    "    'id', 'asins', 'keys', 'manufacturer',  \n",
    "    'reviews.date', 'reviews.dateAdded', 'reviews.dateSeen',\n",
    "    'reviews.userCity', 'reviews.userProvince', 'reviews.didPurchase', \n",
    "    'reviews.id', 'reviews.sourceURLs', 'reviews.username', 'dateAdded',\n",
    "    'dateUpdated', 'imageURLs', 'manufacturerNumber', 'sourceURLs', 'primaryCategories'\n",
    "]\n",
    "\n",
    "data.drop(columns=cols_to_drop, inplace=True)\n",
    "\n",
    "# check the new shape\n",
    "print('New shape of the data:', data.shape)\n",
    "print('Actual columns:', data.columns.tolist())\n"
   ]
  },
  {
   "cell_type": "code",
   "execution_count": 5,
   "metadata": {},
   "outputs": [
    {
     "name": "stdout",
     "output_type": "stream",
     "text": [
      "Number of duplicate rows: 2153\n",
      "New shape of the dataset after removing duplicates: (65839, 8)\n"
     ]
    }
   ],
   "source": [
    "# Check for duplicate rows\n",
    "duplicate_rows = data.duplicated().sum()\n",
    "print(f\"Number of duplicate rows: {duplicate_rows}\")\n",
    "\n",
    "# Drop duplicates if found\n",
    "data.drop_duplicates(inplace=True)\n",
    "\n",
    "# Verify the new shape after removing duplicates\n",
    "print(\"New shape of the dataset after removing duplicates:\", data.shape)"
   ]
  },
  {
   "cell_type": "code",
   "execution_count": 6,
   "metadata": {},
   "outputs": [
    {
     "name": "stdout",
     "output_type": "stream",
     "text": [
      "Missing values per column:\n",
      " name                    6760\n",
      "brand                      0\n",
      "categories                 0\n",
      "reviews.doRecommend    12042\n",
      "reviews.numHelpful     11948\n",
      "reviews.rating            33\n",
      "reviews.text               1\n",
      "reviews.title             19\n",
      "dtype: int64\n",
      "\n",
      "Percentage of missing values:\n",
      " name                   10.267471\n",
      "brand                   0.000000\n",
      "categories              0.000000\n",
      "reviews.doRecommend    18.290071\n",
      "reviews.numHelpful     18.147299\n",
      "reviews.rating          0.050122\n",
      "reviews.text            0.001519\n",
      "reviews.title           0.028858\n",
      "dtype: float64\n"
     ]
    }
   ],
   "source": [
    "# Check missing values in each column\n",
    "missing_values = data.isnull().sum()\n",
    "print(\"Missing values per column:\\n\", missing_values)\n",
    "\n",
    "# Calculate percentage of missing values\n",
    "missing_percentage = (missing_values / len(data)) * 100\n",
    "print(\"\\nPercentage of missing values:\\n\", missing_percentage)"
   ]
  },
  {
   "cell_type": "code",
   "execution_count": 7,
   "metadata": {},
   "outputs": [],
   "source": [
    "# Drop rows where 'name', 'reviews.rating', or 'reviews.text' is missing\n",
    "data = data.dropna(subset=['name', 'reviews.rating', 'reviews.text'])"
   ]
  },
  {
   "cell_type": "code",
   "execution_count": 8,
   "metadata": {},
   "outputs": [
    {
     "name": "stderr",
     "output_type": "stream",
     "text": [
      "C:\\Users\\alvar\\AppData\\Local\\Temp\\ipykernel_30628\\2376561812.py:2: FutureWarning: A value is trying to be set on a copy of a DataFrame or Series through chained assignment using an inplace method.\n",
      "The behavior will change in pandas 3.0. This inplace method will never work because the intermediate object on which we are setting values always behaves as a copy.\n",
      "\n",
      "For example, when doing 'df[col].method(value, inplace=True)', try using 'df.method({col: value}, inplace=True)' or df[col] = df[col].method(value) instead, to perform the operation inplace on the original object.\n",
      "\n",
      "\n",
      "  data['reviews.title'].fillna(\"No Title\", inplace=True)\n"
     ]
    }
   ],
   "source": [
    "#replace missing values with \"No Title\"\n",
    "data['reviews.title'].fillna(\"No Title\", inplace=True)"
   ]
  },
  {
   "cell_type": "code",
   "execution_count": 9,
   "metadata": {},
   "outputs": [],
   "source": [
    "# Drop 'reviews.numHelpful' since it's not really helpful\n",
    "data.drop(columns=['reviews.numHelpful'], inplace=True)"
   ]
  },
  {
   "cell_type": "code",
   "execution_count": 10,
   "metadata": {},
   "outputs": [
    {
     "name": "stderr",
     "output_type": "stream",
     "text": [
      "C:\\Users\\alvar\\AppData\\Local\\Temp\\ipykernel_30628\\3084051820.py:2: FutureWarning: A value is trying to be set on a copy of a DataFrame or Series through chained assignment using an inplace method.\n",
      "The behavior will change in pandas 3.0. This inplace method will never work because the intermediate object on which we are setting values always behaves as a copy.\n",
      "\n",
      "For example, when doing 'df[col].method(value, inplace=True)', try using 'df.method({col: value}, inplace=True)' or df[col] = df[col].method(value) instead, to perform the operation inplace on the original object.\n",
      "\n",
      "\n",
      "  data['reviews.doRecommend'].fillna(\"Not specified\", inplace=True)\n"
     ]
    }
   ],
   "source": [
    "#Replace NaN values with \"Not specified\"\n",
    "data['reviews.doRecommend'].fillna(\"Not specified\", inplace=True)"
   ]
  },
  {
   "cell_type": "code",
   "execution_count": 11,
   "metadata": {},
   "outputs": [
    {
     "data": {
      "text/plain": [
       "name                   0\n",
       "brand                  0\n",
       "categories             0\n",
       "reviews.doRecommend    0\n",
       "reviews.rating         0\n",
       "reviews.text           0\n",
       "reviews.title          0\n",
       "dtype: int64"
      ]
     },
     "execution_count": 11,
     "metadata": {},
     "output_type": "execute_result"
    }
   ],
   "source": [
    "# check for remaining nan values\n",
    "data.isnull().sum()"
   ]
  },
  {
   "cell_type": "markdown",
   "metadata": {},
   "source": [
    "#### After the cleaning we are going to concatenate the columns with text information."
   ]
  },
  {
   "cell_type": "code",
   "execution_count": 12,
   "metadata": {},
   "outputs": [
    {
     "name": "stdout",
     "output_type": "stream",
     "text": [
      "                                             reviews\n",
      "0  Great device for reading. Definately pricey.. ...\n",
      "1  Excellent Kindle. The best Kindle ever, for me...\n",
      "2  Love it. I absolutely love this reader. The bi...\n",
      "3  Good kindle. I always use it when i read ebook...\n",
      "4  So much to love, but slippery. Love bigger scr...\n"
     ]
    }
   ],
   "source": [
    "# Concatenate 'reviews.title' and 'reviews.text'\n",
    "data['reviews'] = data['reviews.title'] + \". \" + data['reviews.text'] \n",
    "\n",
    "# Remove 'reviews.title' adn 'reviews.text' columns since they are now redundant\n",
    "data.drop(columns=['reviews.title'], inplace=True)\n",
    "data.drop(columns=['reviews.text'], inplace=True)\n",
    "\n",
    "# Verify the changes\n",
    "print(data[['reviews']].head(5))  # Show first 5 reviews"
   ]
  },
  {
   "cell_type": "markdown",
   "metadata": {},
   "source": [
    "#### **Recap: Current State of the Data**"
   ]
  },
  {
   "cell_type": "code",
   "execution_count": 13,
   "metadata": {},
   "outputs": [
    {
     "name": "stdout",
     "output_type": "stream",
     "text": [
      "Dataset shape: (59046, 6)\n",
      "Columns in dataset: ['name', 'brand', 'categories', 'reviews.doRecommend', 'reviews.rating', 'reviews']\n",
      "Missing values per column:\n",
      " name                   0\n",
      "brand                  0\n",
      "categories             0\n",
      "reviews.doRecommend    0\n",
      "reviews.rating         0\n",
      "reviews                0\n",
      "dtype: int64\n"
     ]
    }
   ],
   "source": [
    "print(\"Dataset shape:\", data.shape)\n",
    "print(\"Columns in dataset:\", data.columns.tolist())\n",
    "print(\"Missing values per column:\\n\", data.isnull().sum())"
   ]
  },
  {
   "cell_type": "markdown",
   "metadata": {},
   "source": [
    "#### **Review Ratings Distribution**."
   ]
  },
  {
   "cell_type": "code",
   "execution_count": null,
   "metadata": {},
   "outputs": [
    {
     "data": {
      "image/png": "[encoded data removed]",
      "text/plain": [
       "<Figure size 640x480 with 1 Axes>"
      ]
     },
     "metadata": {},
     "output_type": "display_data"
    }
   ],
   "source": [
    "# Plot distribution of ratings\n",
    "plt.hist(data['reviews.rating'], bins=5, edgecolor='black', alpha=1)\n",
    "plt.xticks([5, 4, 3, 2, 1])\n",
    "plt.xlabel(\"Rating\")\n",
    "plt.ylabel(\"Frequency\")\n",
    "plt.title(\"Ratings reviews\")\n",
    "plt.show()"
   ]
  },
  {
   "cell_type": "markdown",
   "metadata": {},
   "source": [
    "#### Sample of reviews and save the data.\n",
    "\n"
   ]
  },
  {
   "cell_type": "code",
   "execution_count": 15,
   "metadata": {},
   "outputs": [
    {
     "name": "stdout",
     "output_type": "stream",
     "text": [
      "                                                    name         brand  \\\n",
      "49320  Fire Tablet with Alexa, 7 Display, 16 GB, Blue...        Amazon   \n",
      "38990  Fire Tablet, 7 Display, Wi-Fi, 8 GB - Includes...        Amazon   \n",
      "13936             Amazon Fire Tv,,,\\r\\nAmazon Fire Tv,,,        Amazon   \n",
      "25191  AmazonBasics AAA Performance Alkaline Batterie...  Amazonbasics   \n",
      "7798   Amazon Kindle Paperwhite - eBook reader - 4 GB...        Amazon   \n",
      "\n",
      "                                              categories  reviews.rating  \\\n",
      "49320  Fire Tablets,Computers/Tablets & Networking,Ta...             5.0   \n",
      "38990  Fire Tablets,Tablets,Computers & Tablets,All T...             5.0   \n",
      "13936  Stereos,Remote Controls,Amazon Echo,Audio Dock...             5.0   \n",
      "25191  AA,AAA,Health,Electronics,Health & Household,C...             5.0   \n",
      "7798   Walmart for Business,Office Electronics,Tablet...             5.0   \n",
      "\n",
      "      reviews.doRecommend                                            reviews  \n",
      "49320                True  Easy to access and set up. Love its simplicity...  \n",
      "38990                True  Meets expectations. After a lot of research, d...  \n",
      "13936                True  My kids love it. My children love our new gues...  \n",
      "25191       Not specified                             Five Stars. Work fine.  \n",
      "7798                 True  love my Kindle, just need Paperwhite in color ...  \n"
     ]
    }
   ],
   "source": [
    "print(data[['name', 'brand', 'categories', 'reviews.rating', 'reviews.doRecommend', 'reviews']].sample(5))"
   ]
  },
  {
   "cell_type": "code",
   "execution_count": 18,
   "metadata": {},
   "outputs": [
    {
     "name": "stderr",
     "output_type": "stream",
     "text": [
      "<>:2: SyntaxWarning: invalid escape sequence '\\D'\n",
      "<>:2: SyntaxWarning: invalid escape sequence '\\D'\n",
      "C:\\Users\\alvar\\AppData\\Local\\Temp\\ipykernel_30628\\223578671.py:2: SyntaxWarning: invalid escape sequence '\\D'\n",
      "  data.to_csv(\".\\Dataset\\cleaned_reviews.csv\", index=False)\n"
     ]
    }
   ],
   "source": [
    "# Save the cleaned dataset to a CSV file\n",
    "data.to_csv(\".\\Dataset\\cleaned_reviews.csv\", index=False)\n"
   ]
  }
 ],
 "metadata": {
  "kernelspec": {
   "display_name": "Python 3",
   "language": "python",
   "name": "python3"
  },
  "language_info": {
   "codemirror_mode": {
    "name": "ipython",
    "version": 3
   },
   "file_extension": ".py",
   "mimetype": "text/x-python",
   "name": "python",
   "nbconvert_exporter": "python",
   "pygments_lexer": "ipython3",
   "version": "3.13.1"
  }
 },
 "nbformat": 4,
 "nbformat_minor": 2
}
